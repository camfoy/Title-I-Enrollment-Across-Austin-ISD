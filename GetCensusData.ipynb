{
 "cells": [
  {
   "cell_type": "code",
   "execution_count": 2,
   "metadata": {},
   "outputs": [],
   "source": [
    "# Dependencies\n",
    "# Dependencies\n",
    "import pandas as pd\n",
    "import numpy as np\n",
    "import requests\n",
    "import json\n",
    "import xmltodict\n",
    "\n",
    "# GreatSchools API Key\n",
    "from keys import api_keys\n"
   ]
  },
  {
   "cell_type": "code",
   "execution_count": 3,
   "metadata": {},
   "outputs": [
    {
     "data": {
      "text/html": [
       "<div>\n",
       "<style scoped>\n",
       "    .dataframe tbody tr th:only-of-type {\n",
       "        vertical-align: middle;\n",
       "    }\n",
       "\n",
       "    .dataframe tbody tr th {\n",
       "        vertical-align: top;\n",
       "    }\n",
       "\n",
       "    .dataframe thead th {\n",
       "        text-align: right;\n",
       "    }\n",
       "</style>\n",
       "<table border=\"1\" class=\"dataframe\">\n",
       "  <thead>\n",
       "    <tr style=\"text-align: right;\">\n",
       "      <th></th>\n",
       "      <th>address</th>\n",
       "      <th>enrollment</th>\n",
       "      <th>gradeRange</th>\n",
       "      <th>gsId</th>\n",
       "      <th>gsRating</th>\n",
       "      <th>lat</th>\n",
       "      <th>level_0</th>\n",
       "      <th>lon</th>\n",
       "      <th>name</th>\n",
       "      <th>ncesId</th>\n",
       "      <th>parentRating</th>\n",
       "      <th>type</th>\n",
       "    </tr>\n",
       "  </thead>\n",
       "  <tbody>\n",
       "    <tr>\n",
       "      <th>0</th>\n",
       "      <td>1712 East 11th Street, \\nAustin, TX  78702</td>\n",
       "      <td>302.0</td>\n",
       "      <td>PK-5</td>\n",
       "      <td>527</td>\n",
       "      <td>8.0</td>\n",
       "      <td>30.266968</td>\n",
       "      <td>0.0</td>\n",
       "      <td>-97.722170</td>\n",
       "      <td>Blackshear Elementary School</td>\n",
       "      <td>480894000300</td>\n",
       "      <td>5.0</td>\n",
       "      <td>public</td>\n",
       "    </tr>\n",
       "    <tr>\n",
       "      <th>1</th>\n",
       "      <td>3309 Kerbey Lane, \\nAustin, TX  78703</td>\n",
       "      <td>400.0</td>\n",
       "      <td>PK-6</td>\n",
       "      <td>532</td>\n",
       "      <td>9.0</td>\n",
       "      <td>30.304869</td>\n",
       "      <td>1.0</td>\n",
       "      <td>-97.750626</td>\n",
       "      <td>Bryker Woods Elementary School</td>\n",
       "      <td>480894000305</td>\n",
       "      <td>5.0</td>\n",
       "      <td>public</td>\n",
       "    </tr>\n",
       "    <tr>\n",
       "      <th>2</th>\n",
       "      <td>2710 Exposition Boulevard, \\nAustin, TX  78703</td>\n",
       "      <td>793.0</td>\n",
       "      <td>PK-5</td>\n",
       "      <td>535</td>\n",
       "      <td>10.0</td>\n",
       "      <td>30.304344</td>\n",
       "      <td>2.0</td>\n",
       "      <td>-97.765050</td>\n",
       "      <td>Casis Elementary School</td>\n",
       "      <td>480894000308</td>\n",
       "      <td>5.0</td>\n",
       "      <td>public</td>\n",
       "    </tr>\n",
       "    <tr>\n",
       "      <th>3</th>\n",
       "      <td>3808 Maplewood Avenue, \\nAustin, TX  78722</td>\n",
       "      <td>480.0</td>\n",
       "      <td>PK-6</td>\n",
       "      <td>557</td>\n",
       "      <td>4.0</td>\n",
       "      <td>30.293337</td>\n",
       "      <td>3.0</td>\n",
       "      <td>-97.714905</td>\n",
       "      <td>Maplewood Elementary School</td>\n",
       "      <td>480894000330</td>\n",
       "      <td>5.0</td>\n",
       "      <td>public</td>\n",
       "    </tr>\n",
       "    <tr>\n",
       "      <th>4</th>\n",
       "      <td>906 West Lynn Street, \\nAustin, TX  78703</td>\n",
       "      <td>425.0</td>\n",
       "      <td>PK-6</td>\n",
       "      <td>559</td>\n",
       "      <td>8.0</td>\n",
       "      <td>30.278215</td>\n",
       "      <td>4.0</td>\n",
       "      <td>-97.760796</td>\n",
       "      <td>Mathews Elementary School</td>\n",
       "      <td>480894000332</td>\n",
       "      <td>5.0</td>\n",
       "      <td>public</td>\n",
       "    </tr>\n",
       "  </tbody>\n",
       "</table>\n",
       "</div>"
      ],
      "text/plain": [
       "                                          address  enrollment gradeRange  \\\n",
       "0      1712 East 11th Street, \\nAustin, TX  78702       302.0       PK-5   \n",
       "1           3309 Kerbey Lane, \\nAustin, TX  78703       400.0       PK-6   \n",
       "2  2710 Exposition Boulevard, \\nAustin, TX  78703       793.0       PK-5   \n",
       "3      3808 Maplewood Avenue, \\nAustin, TX  78722       480.0       PK-6   \n",
       "4       906 West Lynn Street, \\nAustin, TX  78703       425.0       PK-6   \n",
       "\n",
       "   gsId  gsRating        lat  level_0        lon  \\\n",
       "0   527       8.0  30.266968      0.0 -97.722170   \n",
       "1   532       9.0  30.304869      1.0 -97.750626   \n",
       "2   535      10.0  30.304344      2.0 -97.765050   \n",
       "3   557       4.0  30.293337      3.0 -97.714905   \n",
       "4   559       8.0  30.278215      4.0 -97.760796   \n",
       "\n",
       "                             name        ncesId  parentRating    type  \n",
       "0    Blackshear Elementary School  480894000300           5.0  public  \n",
       "1  Bryker Woods Elementary School  480894000305           5.0  public  \n",
       "2         Casis Elementary School  480894000308           5.0  public  \n",
       "3     Maplewood Elementary School  480894000330           5.0  public  \n",
       "4       Mathews Elementary School  480894000332           5.0  public  "
      ]
     },
     "execution_count": 3,
     "metadata": {},
     "output_type": "execute_result"
    }
   ],
   "source": [
    "df = pd.read_csv(\"data/AustinSchools.csv\", index_col=0)\n",
    "df.head()"
   ]
  },
  {
   "cell_type": "code",
   "execution_count": 21,
   "metadata": {},
   "outputs": [],
   "source": [
    "def get_census_data(gsId):   \n",
    "    census_url = \"https://api.greatschools.org/school/census/TX/{0}?key={1}\".format(gsId,api_keys.api_key)\n",
    "    census = xmltodict.parse(requests.get(census_url).content)['census-data']\n",
    "    return census"
   ]
  },
  {
   "cell_type": "code",
   "execution_count": null,
   "metadata": {},
   "outputs": [],
   "source": [
    "df[\"census\"] = df[\"gsId\"].apply(get_census_data)"
   ]
  },
  {
   "cell_type": "code",
   "execution_count": null,
   "metadata": {},
   "outputs": [],
   "source": [
    "df[\"freeAndReducedPriceLunch\"] = df[\"census\"].freeAndReducedPriceLunch"
   ]
  },
  {
   "cell_type": "code",
   "execution_count": null,
   "metadata": {},
   "outputs": [],
   "source": [
    "df.head()"
   ]
  }
 ],
 "metadata": {
  "kernelspec": {
   "display_name": "Python [conda env:PythonData]",
   "language": "python",
   "name": "pythondata"
  },
  "language_info": {
   "codemirror_mode": {
    "name": "ipython",
    "version": 3
   },
   "file_extension": ".py",
   "mimetype": "text/x-python",
   "name": "python",
   "nbconvert_exporter": "python",
   "pygments_lexer": "ipython3",
   "version": "3.6.8"
  }
 },
 "nbformat": 4,
 "nbformat_minor": 2
}
