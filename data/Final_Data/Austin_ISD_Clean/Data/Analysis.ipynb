{
 "cells": [
  {
   "cell_type": "markdown",
   "metadata": {},
   "source": [
    "# Compiled Data Analysis"
   ]
  },
  {
   "cell_type": "markdown",
   "metadata": {},
   "source": [
    "## Pull in Data"
   ]
  },
  {
   "cell_type": "code",
   "execution_count": 55,
   "metadata": {},
   "outputs": [],
   "source": [
    "%matplotlib inline"
   ]
  },
  {
   "cell_type": "code",
   "execution_count": 22,
   "metadata": {},
   "outputs": [],
   "source": [
    "# import libraries\n",
    "import os\n",
    "import matplotlib.pyplot as plt\n",
    "import numpy as np\n"
   ]
  },
  {
   "cell_type": "code",
   "execution_count": 29,
   "metadata": {},
   "outputs": [],
   "source": [
    "# read in csv file\n",
    "file = os.path.join(\"compileddata.csv\")\n",
    "df = pd.read_csv(file)\n",
    "df = df.rename(columns={'Unnamed: 0': 'Index'})"
   ]
  },
  {
   "cell_type": "code",
   "execution_count": 32,
   "metadata": {},
   "outputs": [
    {
     "data": {
      "text/html": [
       "<div>\n",
       "<style scoped>\n",
       "    .dataframe tbody tr th:only-of-type {\n",
       "        vertical-align: middle;\n",
       "    }\n",
       "\n",
       "    .dataframe tbody tr th {\n",
       "        vertical-align: top;\n",
       "    }\n",
       "\n",
       "    .dataframe thead th {\n",
       "        text-align: right;\n",
       "    }\n",
       "</style>\n",
       "<table border=\"1\" class=\"dataframe\">\n",
       "  <thead>\n",
       "    <tr style=\"text-align: right;\">\n",
       "      <th></th>\n",
       "      <th>Index</th>\n",
       "      <th>year</th>\n",
       "      <th>district</th>\n",
       "      <th>campus</th>\n",
       "      <th>total_enroll</th>\n",
       "      <th>total_disadvtg</th>\n",
       "      <th>total_title1</th>\n",
       "      <th>total_atrisk</th>\n",
       "      <th>school_type</th>\n",
       "      <th>title1_rate</th>\n",
       "    </tr>\n",
       "  </thead>\n",
       "  <tbody>\n",
       "    <tr>\n",
       "      <th>0</th>\n",
       "      <td>0</td>\n",
       "      <td>2014-2015</td>\n",
       "      <td>AUSTIN ISD</td>\n",
       "      <td>Austin High School</td>\n",
       "      <td>2085</td>\n",
       "      <td>599</td>\n",
       "      <td>11</td>\n",
       "      <td>792</td>\n",
       "      <td>High</td>\n",
       "      <td>0.527578</td>\n",
       "    </tr>\n",
       "    <tr>\n",
       "      <th>1</th>\n",
       "      <td>1</td>\n",
       "      <td>2014-2015</td>\n",
       "      <td>AUSTIN ISD</td>\n",
       "      <td>Lanier High School</td>\n",
       "      <td>1619</td>\n",
       "      <td>1386</td>\n",
       "      <td>1619</td>\n",
       "      <td>1220</td>\n",
       "      <td>High</td>\n",
       "      <td>100.000000</td>\n",
       "    </tr>\n",
       "    <tr>\n",
       "      <th>2</th>\n",
       "      <td>2</td>\n",
       "      <td>2014-2015</td>\n",
       "      <td>AUSTIN ISD</td>\n",
       "      <td>Mccallum High School</td>\n",
       "      <td>1648</td>\n",
       "      <td>524</td>\n",
       "      <td>33</td>\n",
       "      <td>677</td>\n",
       "      <td>High</td>\n",
       "      <td>2.002427</td>\n",
       "    </tr>\n",
       "    <tr>\n",
       "      <th>3</th>\n",
       "      <td>3</td>\n",
       "      <td>2014-2015</td>\n",
       "      <td>AUSTIN ISD</td>\n",
       "      <td>Reagan High School</td>\n",
       "      <td>1229</td>\n",
       "      <td>1012</td>\n",
       "      <td>1229</td>\n",
       "      <td>879</td>\n",
       "      <td>High</td>\n",
       "      <td>100.000000</td>\n",
       "    </tr>\n",
       "    <tr>\n",
       "      <th>4</th>\n",
       "      <td>4</td>\n",
       "      <td>2014-2015</td>\n",
       "      <td>AUSTIN ISD</td>\n",
       "      <td>Travis High School</td>\n",
       "      <td>1329</td>\n",
       "      <td>1138</td>\n",
       "      <td>1329</td>\n",
       "      <td>1019</td>\n",
       "      <td>High</td>\n",
       "      <td>100.000000</td>\n",
       "    </tr>\n",
       "  </tbody>\n",
       "</table>\n",
       "</div>"
      ],
      "text/plain": [
       "   Index       year    district                campus  total_enroll  \\\n",
       "0      0  2014-2015  AUSTIN ISD    Austin High School          2085   \n",
       "1      1  2014-2015  AUSTIN ISD    Lanier High School          1619   \n",
       "2      2  2014-2015  AUSTIN ISD  Mccallum High School          1648   \n",
       "3      3  2014-2015  AUSTIN ISD    Reagan High School          1229   \n",
       "4      4  2014-2015  AUSTIN ISD    Travis High School          1329   \n",
       "\n",
       "   total_disadvtg  total_title1  total_atrisk school_type  title1_rate  \n",
       "0             599            11           792        High     0.527578  \n",
       "1            1386          1619          1220        High   100.000000  \n",
       "2             524            33           677        High     2.002427  \n",
       "3            1012          1229           879        High   100.000000  \n",
       "4            1138          1329          1019        High   100.000000  "
      ]
     },
     "execution_count": 32,
     "metadata": {},
     "output_type": "execute_result"
    }
   ],
   "source": [
    "# display\n",
    "df.set_index('Index')\n",
    "df.head()"
   ]
  },
  {
   "cell_type": "markdown",
   "metadata": {},
   "source": [
    "## Clean & Calculate Dataframe"
   ]
  },
  {
   "cell_type": "markdown",
   "metadata": {},
   "source": [
    "Group data by tear and plot the rate of change in enrollment compared against total enrollment"
   ]
  },
  {
   "cell_type": "code",
   "execution_count": 149,
   "metadata": {},
   "outputs": [
    {
     "data": {
      "text/html": [
       "<div>\n",
       "<style scoped>\n",
       "    .dataframe tbody tr th:only-of-type {\n",
       "        vertical-align: middle;\n",
       "    }\n",
       "\n",
       "    .dataframe tbody tr th {\n",
       "        vertical-align: top;\n",
       "    }\n",
       "\n",
       "    .dataframe thead th {\n",
       "        text-align: right;\n",
       "    }\n",
       "</style>\n",
       "<table border=\"1\" class=\"dataframe\">\n",
       "  <thead>\n",
       "    <tr style=\"text-align: right;\">\n",
       "      <th></th>\n",
       "      <th>Index</th>\n",
       "      <th>total_enroll</th>\n",
       "      <th>total_disadvtg</th>\n",
       "      <th>total_title1</th>\n",
       "      <th>total_atrisk</th>\n",
       "      <th>title1_rate</th>\n",
       "    </tr>\n",
       "    <tr>\n",
       "      <th>year</th>\n",
       "      <th></th>\n",
       "      <th></th>\n",
       "      <th></th>\n",
       "      <th></th>\n",
       "      <th></th>\n",
       "      <th></th>\n",
       "    </tr>\n",
       "  </thead>\n",
       "  <tbody>\n",
       "    <tr>\n",
       "      <th>2014-2015</th>\n",
       "      <td>8256</td>\n",
       "      <td>84540</td>\n",
       "      <td>50497</td>\n",
       "      <td>40299</td>\n",
       "      <td>44388</td>\n",
       "      <td>6720.035569</td>\n",
       "    </tr>\n",
       "    <tr>\n",
       "      <th>2015-2016</th>\n",
       "      <td>8385</td>\n",
       "      <td>83620</td>\n",
       "      <td>47826</td>\n",
       "      <td>45124</td>\n",
       "      <td>46012</td>\n",
       "      <td>7784.849738</td>\n",
       "    </tr>\n",
       "    <tr>\n",
       "      <th>2016-2017</th>\n",
       "      <td>8385</td>\n",
       "      <td>83066</td>\n",
       "      <td>44178</td>\n",
       "      <td>44373</td>\n",
       "      <td>43392</td>\n",
       "      <td>7780.102909</td>\n",
       "    </tr>\n",
       "    <tr>\n",
       "      <th>2017-2018</th>\n",
       "      <td>8256</td>\n",
       "      <td>81649</td>\n",
       "      <td>43477</td>\n",
       "      <td>42377</td>\n",
       "      <td>41823</td>\n",
       "      <td>7786.103760</td>\n",
       "    </tr>\n",
       "  </tbody>\n",
       "</table>\n",
       "</div>"
      ],
      "text/plain": [
       "           Index  total_enroll  total_disadvtg  total_title1  total_atrisk  \\\n",
       "year                                                                         \n",
       "2014-2015   8256         84540           50497         40299         44388   \n",
       "2015-2016   8385         83620           47826         45124         46012   \n",
       "2016-2017   8385         83066           44178         44373         43392   \n",
       "2017-2018   8256         81649           43477         42377         41823   \n",
       "\n",
       "           title1_rate  \n",
       "year                    \n",
       "2014-2015  6720.035569  \n",
       "2015-2016  7784.849738  \n",
       "2016-2017  7780.102909  \n",
       "2017-2018  7786.103760  "
      ]
     },
     "execution_count": 149,
     "metadata": {},
     "output_type": "execute_result"
    }
   ],
   "source": [
    "# group by data\n",
    "# year\n",
    "year_df = df.groupby('year').sum()\n",
    "# year and school type\n",
    "year_type_df = df.groupby(['school_type', 'year']).sum()\n",
    "year_df"
   ]
  },
  {
   "cell_type": "code",
   "execution_count": 310,
   "metadata": {},
   "outputs": [
    {
     "data": {
      "text/html": [
       "<div>\n",
       "<style scoped>\n",
       "    .dataframe tbody tr th:only-of-type {\n",
       "        vertical-align: middle;\n",
       "    }\n",
       "\n",
       "    .dataframe tbody tr th {\n",
       "        vertical-align: top;\n",
       "    }\n",
       "\n",
       "    .dataframe thead th {\n",
       "        text-align: right;\n",
       "    }\n",
       "</style>\n",
       "<table border=\"1\" class=\"dataframe\">\n",
       "  <thead>\n",
       "    <tr style=\"text-align: right;\">\n",
       "      <th></th>\n",
       "      <th>Index</th>\n",
       "      <th>total_enroll</th>\n",
       "      <th>total_disadvtg</th>\n",
       "      <th>total_title1</th>\n",
       "      <th>total_atrisk</th>\n",
       "      <th>title1_rate</th>\n",
       "      <th>Rate_T1</th>\n",
       "      <th>Rate_Total</th>\n",
       "      <th>Rate_Total_yy</th>\n",
       "      <th>Rate_T1_yy</th>\n",
       "    </tr>\n",
       "    <tr>\n",
       "      <th>year</th>\n",
       "      <th></th>\n",
       "      <th></th>\n",
       "      <th></th>\n",
       "      <th></th>\n",
       "      <th></th>\n",
       "      <th></th>\n",
       "      <th></th>\n",
       "      <th></th>\n",
       "      <th></th>\n",
       "      <th></th>\n",
       "    </tr>\n",
       "  </thead>\n",
       "  <tbody>\n",
       "    <tr>\n",
       "      <th>2014-2015</th>\n",
       "      <td>8256</td>\n",
       "      <td>84540</td>\n",
       "      <td>50497</td>\n",
       "      <td>40299</td>\n",
       "      <td>44388</td>\n",
       "      <td>6720.035569</td>\n",
       "      <td>47.668559</td>\n",
       "      <td>100.000000</td>\n",
       "      <td>0.000000</td>\n",
       "      <td>0.000000</td>\n",
       "    </tr>\n",
       "    <tr>\n",
       "      <th>2015-2016</th>\n",
       "      <td>8385</td>\n",
       "      <td>83620</td>\n",
       "      <td>47826</td>\n",
       "      <td>45124</td>\n",
       "      <td>46012</td>\n",
       "      <td>7784.849738</td>\n",
       "      <td>53.963167</td>\n",
       "      <td>98.911758</td>\n",
       "      <td>-0.010882</td>\n",
       "      <td>0.132049</td>\n",
       "    </tr>\n",
       "    <tr>\n",
       "      <th>2016-2017</th>\n",
       "      <td>8385</td>\n",
       "      <td>83066</td>\n",
       "      <td>44178</td>\n",
       "      <td>44373</td>\n",
       "      <td>43392</td>\n",
       "      <td>7780.102909</td>\n",
       "      <td>53.418968</td>\n",
       "      <td>98.256447</td>\n",
       "      <td>-0.017436</td>\n",
       "      <td>0.120633</td>\n",
       "    </tr>\n",
       "    <tr>\n",
       "      <th>2017-2018</th>\n",
       "      <td>8256</td>\n",
       "      <td>81649</td>\n",
       "      <td>43477</td>\n",
       "      <td>42377</td>\n",
       "      <td>41823</td>\n",
       "      <td>7786.103760</td>\n",
       "      <td>51.901432</td>\n",
       "      <td>96.580317</td>\n",
       "      <td>-0.034197</td>\n",
       "      <td>0.088798</td>\n",
       "    </tr>\n",
       "  </tbody>\n",
       "</table>\n",
       "</div>"
      ],
      "text/plain": [
       "           Index  total_enroll  total_disadvtg  total_title1  total_atrisk  \\\n",
       "year                                                                         \n",
       "2014-2015   8256         84540           50497         40299         44388   \n",
       "2015-2016   8385         83620           47826         45124         46012   \n",
       "2016-2017   8385         83066           44178         44373         43392   \n",
       "2017-2018   8256         81649           43477         42377         41823   \n",
       "\n",
       "           title1_rate    Rate_T1  Rate_Total  Rate_Total_yy  Rate_T1_yy  \n",
       "year                                                                      \n",
       "2014-2015  6720.035569  47.668559  100.000000       0.000000    0.000000  \n",
       "2015-2016  7784.849738  53.963167   98.911758      -0.010882    0.132049  \n",
       "2016-2017  7780.102909  53.418968   98.256447      -0.017436    0.120633  \n",
       "2017-2018  7786.103760  51.901432   96.580317      -0.034197    0.088798  "
      ]
     },
     "execution_count": 310,
     "metadata": {},
     "output_type": "execute_result"
    }
   ],
   "source": [
    "# calculate rate of change\n",
    "year_df['Rate_T1'] = (year_df['total_title1']/year_df['total_enroll'])*100\n",
    "year_df['Rate_Total'] = (year_df['total_enroll']/year_df.iloc[0,1])*100\n",
    "year_df['Rate_Total_yy'] = ((year_df['total_enroll']-year_df.iloc[0,1])/year_df.iloc[0,1])\n",
    "year_df['Rate_T1_yy'] = ((year_df['Rate_T1']-year_df.iloc[0,6])/year_df.iloc[0,6])\n",
    "year_df"
   ]
  },
  {
   "cell_type": "markdown",
   "metadata": {},
   "source": [
    "## Plot Data"
   ]
  },
  {
   "cell_type": "markdown",
   "metadata": {},
   "source": [
    "Plot rate of change and title one percentages for school types per year"
   ]
  },
  {
   "cell_type": "code",
   "execution_count": 312,
   "metadata": {},
   "outputs": [
    {
     "data": {
      "image/png": "[encoded data removed]",
      "text/plain": [
       "<Figure size 432x288 with 1 Axes>"
      ]
     },
     "metadata": {
      "needs_background": "light"
     },
     "output_type": "display_data"
    }
   ],
   "source": [
    "\n",
    "# plt.plot(year_df.index, year_df['total_enroll'])\n",
    "plt.plot(year_df.index, year_df['Rate_T1_yy'], marker='o', label='Title One Rate of Change')\n",
    "plt.plot(year_df.index, year_df['Rate_Total_yy'], marker='*', label='Total Enrollment Rate of Change', color='r')\n",
    "plt.xlabel('Years')\n",
    "plt.ylabel('Percentage of Change from 2014 (%)')\n",
    "plt.title('Title One Enr. vs. Total Enr. Change Since 2014')\n",
    "plt.legend()\n",
    "plt.grid()\n",
    "\n",
    "# export plot\n",
    "plt.savefig(\"Austin_ISD_Clean/Images/Austin_ISD_Enrollment_Since_2011.png\")\n",
    "\n",
    "# display plot\n",
    "plt.show()"
   ]
  },
  {
   "cell_type": "code",
   "execution_count": 315,
   "metadata": {},
   "outputs": [
    {
     "data": {
      "text/plain": [
       "school_type  year     \n",
       "Elementary   2014-2015    56.828184\n",
       "             2015-2016    66.692512\n",
       "             2016-2017    66.183163\n",
       "             2017-2018    64.314865\n",
       "High         2014-2015    26.884971\n",
       "Name: T1_rate, dtype: float64"
      ]
     },
     "execution_count": 315,
     "metadata": {},
     "output_type": "execute_result"
    }
   ],
   "source": [
    "# Caclulate and pull out column for percentage of title one students per year\n",
    "year_type_df['T1_rate'] = (year_type_df['total_title1']/year_type_df['total_enroll'])*100\n",
    "year_type_df\n",
    "df_s = year_type_df['T1_rate']\n",
    "\n",
    "df_s.head()"
   ]
  },
  {
   "cell_type": "code",
   "execution_count": 274,
   "metadata": {},
   "outputs": [
    {
     "data": {
      "image/png": "[encoded data removed]",
      "text/plain": [
       "<Figure size 432x288 with 1 Axes>"
      ]
     },
     "metadata": {
      "needs_background": "light"
     },
     "output_type": "display_data"
    }
   ],
   "source": [
    "# plot types of school for each year\n",
    "df_s.unstack().plot(kind='bar', alpha=0.8)\n",
    "plt.xlabel('School Type')\n",
    "plt.ylabel('Title One Student Enrollment (%)')\n",
    "plt.title('Title One Student Percentage by School Type')\n",
    "plt.grid()\n",
    "\n",
    "# export data\n",
    "plt.savefig(\"Austin_ISD_Clean/Images/Austin_ISD_Enrollment_Since_2011.png\")\n",
    "\n",
    "# display dataframe\n",
    "plt.show()"
   ]
  },
  {
   "cell_type": "code",
   "execution_count": null,
   "metadata": {},
   "outputs": [],
   "source": []
  }
 ],
 "metadata": {
  "kernelspec": {
   "display_name": "Python(ProjectOne)",
   "language": "python",
   "name": "projectone"
  },
  "language_info": {
   "codemirror_mode": {
    "name": "ipython",
    "version": 3
   },
   "file_extension": ".py",
   "mimetype": "text/x-python",
   "name": "python",
   "nbconvert_exporter": "python",
   "pygments_lexer": "ipython3",
   "version": "3.7.1"
  }
 },
 "nbformat": 4,
 "nbformat_minor": 2
}
