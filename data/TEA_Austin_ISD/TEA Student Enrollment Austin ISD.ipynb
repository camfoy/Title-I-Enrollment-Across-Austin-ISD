{
 "cells": [
  {
   "cell_type": "markdown",
   "metadata": {},
   "source": [
    "# TEA Student Enrollment Data (Austin ISD)"
   ]
  },
  {
   "cell_type": "markdown",
   "metadata": {},
   "source": [
    "## Enrollment Data"
   ]
  },
  {
   "cell_type": "markdown",
   "metadata": {},
   "source": [
    "Pull data and place into a dataframe. Clean and reformat for ease of use."
   ]
  },
  {
   "cell_type": "code",
   "execution_count": 1,
   "metadata": {},
   "outputs": [],
   "source": [
    "# import libraries\n",
    "import pandas as pd\n",
    "import numpy as np\n",
    "import matplotlib.pyplot as plt\n",
    "import os\n",
    "from functools import reduce\n",
    "\n",
    "# Hide warning messages in notebook\n",
    "import warnings\n",
    "warnings.filterwarnings('ignore')\n"
   ]
  },
  {
   "cell_type": "code",
   "execution_count": 2,
   "metadata": {},
   "outputs": [],
   "source": [
    "# load in csv files\n",
    "travis_12_load = os.path.join(\"Travis_Raw_Data\", \"Enrollment Report_County_TRAVIS COUNTY_Campuses_Grade_2011-2012.csv\")\n",
    "travis_13_load = os.path.join(\"Travis_Raw_Data\", \"Enrollment Report_County_TRAVIS COUNTY_Campuses_Grade_2012-2013.csv\")\n",
    "travis_14_load = os.path.join(\"Travis_Raw_Data\", \"Enrollment Report_County_TRAVIS COUNTY_Campuses_Grade_2013-2014.csv\")\n",
    "travis_15_load = os.path.join(\"Travis_Raw_Data\", \"Enrollment Report_County_TRAVIS COUNTY_Campuses_Grade_2014-2015.csv\")\n",
    "travis_16_load = os.path.join(\"Travis_Raw_Data\", \"Enrollment Report_County_TRAVIS COUNTY_Campuses_Grade_2015-2016.csv\")\n",
    "travis_17_load = os.path.join(\"Travis_Raw_Data\", \"Enrollment Report_County_TRAVIS COUNTY_Campuses_Grade_2016-2017.csv\")\n",
    "travis_18_load = os.path.join(\"Travis_Raw_Data\", \"Enrollment Report_County_TRAVIS COUNTY_Campuses_Grade_2017-2018.csv\")\n"
   ]
  },
  {
   "cell_type": "code",
   "execution_count": 3,
   "metadata": {},
   "outputs": [],
   "source": [
    "# put all the data into dataframes\n",
    "travis_12 = pd.read_csv(travis_12_load, skiprows=2)\n",
    "travis_13 = pd.read_csv(travis_13_load, skiprows=2)\n",
    "travis_14 = pd.read_csv(travis_14_load, skiprows=2)\n",
    "travis_15 = pd.read_csv(travis_15_load, skiprows=2)\n",
    "travis_16 = pd.read_csv(travis_16_load, skiprows=2)\n",
    "travis_17 = pd.read_csv(travis_17_load, skiprows=2)\n",
    "travis_18 = pd.read_csv(travis_18_load, skiprows=2)\n"
   ]
  },
  {
   "cell_type": "code",
   "execution_count": 4,
   "metadata": {},
   "outputs": [],
   "source": [
    "# put all dataframes into a list\n",
    "data_frames_x = [travis_12, travis_13, travis_14, travis_15, travis_16, travis_17, travis_18]\n",
    "\n",
    "# create a function to clean all dataframes\n",
    "def func(df):\n",
    "    df2 = df[df['District Name']=='AUSTIN ISD']\n",
    "    df3 = df2.replace(-9999999, 2)\n",
    "    df4 = df3.groupby('Campus Name').sum().reset_index()\n",
    "    df5 = df4[['Campus Name', 'Enrollment by Grade Level']]\n",
    "    return df5\n",
    "    new_df.append(df5)\n",
    "    "
   ]
  },
  {
   "cell_type": "code",
   "execution_count": 5,
   "metadata": {},
   "outputs": [],
   "source": [
    "# call function\n",
    "for i in range(0,len(data_frames_x)):\n",
    "    data_frames_x[i] = func(data_frames_x[i])\n"
   ]
  },
  {
   "cell_type": "code",
   "execution_count": 6,
   "metadata": {},
   "outputs": [],
   "source": [
    "# rename columns for enrollment\n",
    "enr_12 = data_frames_x[0].rename(columns={'Enrollment by Grade Level':'2011-2012 Enrollment'})\n",
    "enr_13 = data_frames_x[1].rename(columns={'Enrollment by Grade Level':'2012-2013 Enrollment'})\n",
    "enr_14 = data_frames_x[2].rename(columns={'Enrollment by Grade Level':'2013-2014 Enrollment'})\n",
    "enr_15 = data_frames_x[3].rename(columns={'Enrollment by Grade Level':'2014-2015 Enrollment'})\n",
    "enr_16 = data_frames_x[4].rename(columns={'Enrollment by Grade Level':'2015-2016 Enrollment'})\n",
    "enr_17 = data_frames_x[5].rename(columns={'Enrollment by Grade Level':'2016-2017 Enrollment'})\n",
    "enr_18 = data_frames_x[6].rename(columns={'Enrollment by Grade Level':'2017-2018 Enrollment'})\n"
   ]
  },
  {
   "cell_type": "code",
   "execution_count": 7,
   "metadata": {},
   "outputs": [
    {
     "data": {
      "text/html": [
       "<div>\n",
       "<style scoped>\n",
       "    .dataframe tbody tr th:only-of-type {\n",
       "        vertical-align: middle;\n",
       "    }\n",
       "\n",
       "    .dataframe tbody tr th {\n",
       "        vertical-align: top;\n",
       "    }\n",
       "\n",
       "    .dataframe thead th {\n",
       "        text-align: right;\n",
       "    }\n",
       "</style>\n",
       "<table border=\"1\" class=\"dataframe\">\n",
       "  <thead>\n",
       "    <tr style=\"text-align: right;\">\n",
       "      <th></th>\n",
       "      <th>Campus Name</th>\n",
       "      <th>2011-2012 Enrollment</th>\n",
       "      <th>2012-2013 Enrollment</th>\n",
       "      <th>2013-2014 Enrollment</th>\n",
       "      <th>2014-2015 Enrollment</th>\n",
       "      <th>2015-2016 Enrollment</th>\n",
       "      <th>2016-2017 Enrollment</th>\n",
       "      <th>2017-2018 Enrollment</th>\n",
       "    </tr>\n",
       "  </thead>\n",
       "  <tbody>\n",
       "    <tr>\n",
       "      <th>0</th>\n",
       "      <td>ACES- ALTERNATIVE CENTER FOR ELEME</td>\n",
       "      <td>16.0</td>\n",
       "      <td>0.0</td>\n",
       "      <td>0.0</td>\n",
       "      <td>0.0</td>\n",
       "      <td>0.0</td>\n",
       "      <td>0.0</td>\n",
       "      <td>0.0</td>\n",
       "    </tr>\n",
       "    <tr>\n",
       "      <th>1</th>\n",
       "      <td>AKINS H S</td>\n",
       "      <td>2668.0</td>\n",
       "      <td>2583.0</td>\n",
       "      <td>2565.0</td>\n",
       "      <td>2667.0</td>\n",
       "      <td>2713.0</td>\n",
       "      <td>2680.0</td>\n",
       "      <td>2765.0</td>\n",
       "    </tr>\n",
       "    <tr>\n",
       "      <th>2</th>\n",
       "      <td>ALLAN EL</td>\n",
       "      <td>367.0</td>\n",
       "      <td>44.0</td>\n",
       "      <td>0.0</td>\n",
       "      <td>0.0</td>\n",
       "      <td>0.0</td>\n",
       "      <td>0.0</td>\n",
       "      <td>0.0</td>\n",
       "    </tr>\n",
       "    <tr>\n",
       "      <th>3</th>\n",
       "      <td>ALLISON EL</td>\n",
       "      <td>522.0</td>\n",
       "      <td>501.0</td>\n",
       "      <td>497.0</td>\n",
       "      <td>487.0</td>\n",
       "      <td>543.0</td>\n",
       "      <td>461.0</td>\n",
       "      <td>479.0</td>\n",
       "    </tr>\n",
       "    <tr>\n",
       "      <th>4</th>\n",
       "      <td>ALTERNATIVE LEARNING CENTER</td>\n",
       "      <td>179.0</td>\n",
       "      <td>149.0</td>\n",
       "      <td>137.0</td>\n",
       "      <td>166.0</td>\n",
       "      <td>116.0</td>\n",
       "      <td>107.0</td>\n",
       "      <td>98.0</td>\n",
       "    </tr>\n",
       "  </tbody>\n",
       "</table>\n",
       "</div>"
      ],
      "text/plain": [
       "                          Campus Name  2011-2012 Enrollment  \\\n",
       "0  ACES- ALTERNATIVE CENTER FOR ELEME                  16.0   \n",
       "1                           AKINS H S                2668.0   \n",
       "2                            ALLAN EL                 367.0   \n",
       "3                          ALLISON EL                 522.0   \n",
       "4         ALTERNATIVE LEARNING CENTER                 179.0   \n",
       "\n",
       "   2012-2013 Enrollment  2013-2014 Enrollment  2014-2015 Enrollment  \\\n",
       "0                   0.0                   0.0                   0.0   \n",
       "1                2583.0                2565.0                2667.0   \n",
       "2                  44.0                   0.0                   0.0   \n",
       "3                 501.0                 497.0                 487.0   \n",
       "4                 149.0                 137.0                 166.0   \n",
       "\n",
       "   2015-2016 Enrollment  2016-2017 Enrollment  2017-2018 Enrollment  \n",
       "0                   0.0                   0.0                   0.0  \n",
       "1                2713.0                2680.0                2765.0  \n",
       "2                   0.0                   0.0                   0.0  \n",
       "3                 543.0                 461.0                 479.0  \n",
       "4                 116.0                 107.0                  98.0  "
      ]
     },
     "execution_count": 7,
     "metadata": {},
     "output_type": "execute_result"
    }
   ],
   "source": [
    "# create variable to hold all dataframes\n",
    "data_frames = [enr_12, enr_13, enr_14, enr_15, enr_16, enr_17, enr_18]\n",
    "\n",
    "# merge all the dataframes\n",
    "df_merged = reduce(lambda  left,right: pd.merge(left,right,on=['Campus Name'],how='outer'), data_frames)\n",
    "\n",
    "# replace 'NaN' with '0'\n",
    "df_merged.fillna(0, inplace=True)\n",
    "\n",
    "# display data\n",
    "df_merged.head()"
   ]
  },
  {
   "cell_type": "code",
   "execution_count": 28,
   "metadata": {},
   "outputs": [],
   "source": [
    "# export data into a csv\n",
    "path = 'Austin_ISD_Clean/Data'\n",
    "export_df_merged = df_merged.to_csv(os.path.join(path,'TEA_enrollment_cleaned.csv'))"
   ]
  },
  {
   "cell_type": "markdown",
   "metadata": {},
   "source": [
    "## Enrollment Changes from Year to Year"
   ]
  },
  {
   "cell_type": "markdown",
   "metadata": {},
   "source": [
    "Calculate the changes in enrollment from year to year"
   ]
  },
  {
   "cell_type": "code",
   "execution_count": 8,
   "metadata": {},
   "outputs": [],
   "source": [
    "# Calculate change in enrollment year to year\n",
    "df_merged['2011 Enroll. Y-Y'] = df_merged['2011-2012 Enrollment'] - df_merged['2012-2013 Enrollment']\n",
    "df_merged['2012 Enroll. Y-Y'] = df_merged['2012-2013 Enrollment'] - df_merged['2013-2014 Enrollment']\n",
    "df_merged['2013 Enroll. Y-Y'] = df_merged['2013-2014 Enrollment'] - df_merged['2014-2015 Enrollment']\n",
    "df_merged['2014 Enroll. Y-Y'] = df_merged['2014-2015 Enrollment'] - df_merged['2015-2016 Enrollment']\n",
    "df_merged['2015 Enroll. Y-Y'] = df_merged['2015-2016 Enrollment'] - df_merged['2016-2017 Enrollment']\n",
    "df_merged['2016 Enroll. Y-Y'] = df_merged['2016-2017 Enrollment'] - df_merged['2017-2018 Enrollment']\n"
   ]
  },
  {
   "cell_type": "code",
   "execution_count": 9,
   "metadata": {},
   "outputs": [
    {
     "data": {
      "text/html": [
       "<div>\n",
       "<style scoped>\n",
       "    .dataframe tbody tr th:only-of-type {\n",
       "        vertical-align: middle;\n",
       "    }\n",
       "\n",
       "    .dataframe tbody tr th {\n",
       "        vertical-align: top;\n",
       "    }\n",
       "\n",
       "    .dataframe thead th {\n",
       "        text-align: right;\n",
       "    }\n",
       "</style>\n",
       "<table border=\"1\" class=\"dataframe\">\n",
       "  <thead>\n",
       "    <tr style=\"text-align: right;\">\n",
       "      <th></th>\n",
       "      <th>Campus Name</th>\n",
       "      <th>2011 Enroll. Y-Y</th>\n",
       "      <th>2012 Enroll. Y-Y</th>\n",
       "      <th>2013 Enroll. Y-Y</th>\n",
       "      <th>2014 Enroll. Y-Y</th>\n",
       "      <th>2015 Enroll. Y-Y</th>\n",
       "      <th>2016 Enroll. Y-Y</th>\n",
       "    </tr>\n",
       "  </thead>\n",
       "  <tbody>\n",
       "    <tr>\n",
       "      <th>0</th>\n",
       "      <td>ACES- ALTERNATIVE CENTER FOR ELEME</td>\n",
       "      <td>16.0</td>\n",
       "      <td>0.0</td>\n",
       "      <td>0.0</td>\n",
       "      <td>0.0</td>\n",
       "      <td>0.0</td>\n",
       "      <td>0.0</td>\n",
       "    </tr>\n",
       "    <tr>\n",
       "      <th>1</th>\n",
       "      <td>AKINS H S</td>\n",
       "      <td>85.0</td>\n",
       "      <td>18.0</td>\n",
       "      <td>-102.0</td>\n",
       "      <td>-46.0</td>\n",
       "      <td>33.0</td>\n",
       "      <td>-85.0</td>\n",
       "    </tr>\n",
       "    <tr>\n",
       "      <th>2</th>\n",
       "      <td>ALLAN EL</td>\n",
       "      <td>323.0</td>\n",
       "      <td>44.0</td>\n",
       "      <td>0.0</td>\n",
       "      <td>0.0</td>\n",
       "      <td>0.0</td>\n",
       "      <td>0.0</td>\n",
       "    </tr>\n",
       "    <tr>\n",
       "      <th>3</th>\n",
       "      <td>ALLISON EL</td>\n",
       "      <td>21.0</td>\n",
       "      <td>4.0</td>\n",
       "      <td>10.0</td>\n",
       "      <td>-56.0</td>\n",
       "      <td>82.0</td>\n",
       "      <td>-18.0</td>\n",
       "    </tr>\n",
       "    <tr>\n",
       "      <th>4</th>\n",
       "      <td>ALTERNATIVE LEARNING CENTER</td>\n",
       "      <td>30.0</td>\n",
       "      <td>12.0</td>\n",
       "      <td>-29.0</td>\n",
       "      <td>50.0</td>\n",
       "      <td>9.0</td>\n",
       "      <td>9.0</td>\n",
       "    </tr>\n",
       "  </tbody>\n",
       "</table>\n",
       "</div>"
      ],
      "text/plain": [
       "                          Campus Name  2011 Enroll. Y-Y  2012 Enroll. Y-Y  \\\n",
       "0  ACES- ALTERNATIVE CENTER FOR ELEME              16.0               0.0   \n",
       "1                           AKINS H S              85.0              18.0   \n",
       "2                            ALLAN EL             323.0              44.0   \n",
       "3                          ALLISON EL              21.0               4.0   \n",
       "4         ALTERNATIVE LEARNING CENTER              30.0              12.0   \n",
       "\n",
       "   2013 Enroll. Y-Y  2014 Enroll. Y-Y  2015 Enroll. Y-Y  2016 Enroll. Y-Y  \n",
       "0               0.0               0.0               0.0               0.0  \n",
       "1            -102.0             -46.0              33.0             -85.0  \n",
       "2               0.0               0.0               0.0               0.0  \n",
       "3              10.0             -56.0              82.0             -18.0  \n",
       "4             -29.0              50.0               9.0               9.0  "
      ]
     },
     "execution_count": 9,
     "metadata": {},
     "output_type": "execute_result"
    }
   ],
   "source": [
    "# pull columns to make data frame\n",
    "enrollemnt_d = df_merged[['Campus Name', '2011 Enroll. Y-Y', '2012 Enroll. Y-Y', '2013 Enroll. Y-Y', '2014 Enroll. Y-Y', '2015 Enroll. Y-Y','2016 Enroll. Y-Y']]\n",
    "\n",
    "# display data frame\n",
    "enrollemnt_d.head()\n"
   ]
  },
  {
   "cell_type": "code",
   "execution_count": 27,
   "metadata": {},
   "outputs": [],
   "source": [
    "# export data into a csv\n",
    "path = 'Austin_ISD_Clean/Data'\n",
    "export_enrollemnt_d = enrollemnt_d.to_csv(os.path.join(path,'enrollment_changes_year_to_year.csv'))"
   ]
  },
  {
   "cell_type": "markdown",
   "metadata": {},
   "source": [
    "## Enrollment Changes Based on 2011 Data"
   ]
  },
  {
   "cell_type": "markdown",
   "metadata": {},
   "source": [
    "Calculate difference using 2011 data as base"
   ]
  },
  {
   "cell_type": "code",
   "execution_count": 10,
   "metadata": {},
   "outputs": [],
   "source": [
    "# calculate change each year with enrollment starting in year 2011 as base\n",
    "df_merged['2012'] = df_merged['2012-2013 Enrollment'] - df_merged['2011-2012 Enrollment']\n",
    "df_merged['2013'] = df_merged['2013-2014 Enrollment'] - df_merged['2011-2012 Enrollment']\n",
    "df_merged['2014'] = df_merged['2014-2015 Enrollment'] - df_merged['2011-2012 Enrollment']\n",
    "df_merged['2015'] = df_merged['2015-2016 Enrollment'] - df_merged['2011-2012 Enrollment']\n",
    "df_merged['2016'] = df_merged['2016-2017 Enrollment'] - df_merged['2011-2012 Enrollment']\n",
    "df_merged['2017'] = df_merged['2017-2018 Enrollment'] - df_merged['2011-2012 Enrollment']\n"
   ]
  },
  {
   "cell_type": "code",
   "execution_count": 11,
   "metadata": {},
   "outputs": [
    {
     "data": {
      "text/html": [
       "<div>\n",
       "<style scoped>\n",
       "    .dataframe tbody tr th:only-of-type {\n",
       "        vertical-align: middle;\n",
       "    }\n",
       "\n",
       "    .dataframe tbody tr th {\n",
       "        vertical-align: top;\n",
       "    }\n",
       "\n",
       "    .dataframe thead th {\n",
       "        text-align: right;\n",
       "    }\n",
       "</style>\n",
       "<table border=\"1\" class=\"dataframe\">\n",
       "  <thead>\n",
       "    <tr style=\"text-align: right;\">\n",
       "      <th></th>\n",
       "      <th>Campus Name</th>\n",
       "      <th>2011</th>\n",
       "      <th>2012</th>\n",
       "      <th>2013</th>\n",
       "      <th>2014</th>\n",
       "      <th>2015</th>\n",
       "      <th>2016</th>\n",
       "      <th>2017</th>\n",
       "    </tr>\n",
       "  </thead>\n",
       "  <tbody>\n",
       "    <tr>\n",
       "      <th>0</th>\n",
       "      <td>ACES- ALTERNATIVE CENTER FOR ELEME</td>\n",
       "      <td>0</td>\n",
       "      <td>-16.0</td>\n",
       "      <td>-16.0</td>\n",
       "      <td>-16.0</td>\n",
       "      <td>-16.0</td>\n",
       "      <td>-16.0</td>\n",
       "      <td>-16.0</td>\n",
       "    </tr>\n",
       "    <tr>\n",
       "      <th>1</th>\n",
       "      <td>AKINS H S</td>\n",
       "      <td>0</td>\n",
       "      <td>-85.0</td>\n",
       "      <td>-103.0</td>\n",
       "      <td>-1.0</td>\n",
       "      <td>45.0</td>\n",
       "      <td>12.0</td>\n",
       "      <td>97.0</td>\n",
       "    </tr>\n",
       "    <tr>\n",
       "      <th>2</th>\n",
       "      <td>ALLAN EL</td>\n",
       "      <td>0</td>\n",
       "      <td>-323.0</td>\n",
       "      <td>-367.0</td>\n",
       "      <td>-367.0</td>\n",
       "      <td>-367.0</td>\n",
       "      <td>-367.0</td>\n",
       "      <td>-367.0</td>\n",
       "    </tr>\n",
       "    <tr>\n",
       "      <th>3</th>\n",
       "      <td>ALLISON EL</td>\n",
       "      <td>0</td>\n",
       "      <td>-21.0</td>\n",
       "      <td>-25.0</td>\n",
       "      <td>-35.0</td>\n",
       "      <td>21.0</td>\n",
       "      <td>-61.0</td>\n",
       "      <td>-43.0</td>\n",
       "    </tr>\n",
       "    <tr>\n",
       "      <th>4</th>\n",
       "      <td>ALTERNATIVE LEARNING CENTER</td>\n",
       "      <td>0</td>\n",
       "      <td>-30.0</td>\n",
       "      <td>-42.0</td>\n",
       "      <td>-13.0</td>\n",
       "      <td>-63.0</td>\n",
       "      <td>-72.0</td>\n",
       "      <td>-81.0</td>\n",
       "    </tr>\n",
       "  </tbody>\n",
       "</table>\n",
       "</div>"
      ],
      "text/plain": [
       "                          Campus Name  2011   2012   2013   2014   2015  \\\n",
       "0  ACES- ALTERNATIVE CENTER FOR ELEME     0  -16.0  -16.0  -16.0  -16.0   \n",
       "1                           AKINS H S     0  -85.0 -103.0   -1.0   45.0   \n",
       "2                            ALLAN EL     0 -323.0 -367.0 -367.0 -367.0   \n",
       "3                          ALLISON EL     0  -21.0  -25.0  -35.0   21.0   \n",
       "4         ALTERNATIVE LEARNING CENTER     0  -30.0  -42.0  -13.0  -63.0   \n",
       "\n",
       "    2016   2017  \n",
       "0  -16.0  -16.0  \n",
       "1   12.0   97.0  \n",
       "2 -367.0 -367.0  \n",
       "3  -61.0  -43.0  \n",
       "4  -72.0  -81.0  "
      ]
     },
     "execution_count": 11,
     "metadata": {},
     "output_type": "execute_result"
    }
   ],
   "source": [
    "# pull columns into a separate dataframe\n",
    "enrollment_11 = df_merged[['Campus Name', '2012', '2013', '2014', '2015', '2016','2017']]\n",
    "\n",
    "# create base for difference\n",
    "enrollment_11['2011'] = 0\n",
    "\n",
    "# reorder dataframe\n",
    "enrollment_11 = enrollment_11[['Campus Name', '2011', '2012', '2013', '2014', '2015', '2016','2017']]\n",
    "\n",
    "# display data\n",
    "enrollment_11.head()\n",
    "\n"
   ]
  },
  {
   "cell_type": "code",
   "execution_count": 26,
   "metadata": {},
   "outputs": [],
   "source": [
    "# export data into a csv\n",
    "path = 'Austin_ISD_Clean/Data'\n",
    "export_enr_11 = enrollment_11.to_csv(os.path.join(path,'enrollment_changes_since_2011.csv'))"
   ]
  },
  {
   "cell_type": "code",
   "execution_count": 13,
   "metadata": {},
   "outputs": [
    {
     "data": {
      "text/html": [
       "<div>\n",
       "<style scoped>\n",
       "    .dataframe tbody tr th:only-of-type {\n",
       "        vertical-align: middle;\n",
       "    }\n",
       "\n",
       "    .dataframe tbody tr th {\n",
       "        vertical-align: top;\n",
       "    }\n",
       "\n",
       "    .dataframe thead th {\n",
       "        text-align: right;\n",
       "    }\n",
       "</style>\n",
       "<table border=\"1\" class=\"dataframe\">\n",
       "  <thead>\n",
       "    <tr style=\"text-align: right;\">\n",
       "      <th></th>\n",
       "      <th>Enrollment Change</th>\n",
       "    </tr>\n",
       "  </thead>\n",
       "  <tbody>\n",
       "    <tr>\n",
       "      <th>2011</th>\n",
       "      <td>0</td>\n",
       "    </tr>\n",
       "    <tr>\n",
       "      <th>2012</th>\n",
       "      <td>-12</td>\n",
       "    </tr>\n",
       "    <tr>\n",
       "      <th>2013</th>\n",
       "      <td>-1163</td>\n",
       "    </tr>\n",
       "    <tr>\n",
       "      <th>2014</th>\n",
       "      <td>-1969</td>\n",
       "    </tr>\n",
       "    <tr>\n",
       "      <th>2015</th>\n",
       "      <td>-2895</td>\n",
       "    </tr>\n",
       "    <tr>\n",
       "      <th>2016</th>\n",
       "      <td>-3461</td>\n",
       "    </tr>\n",
       "    <tr>\n",
       "      <th>2017</th>\n",
       "      <td>-4887</td>\n",
       "    </tr>\n",
       "  </tbody>\n",
       "</table>\n",
       "</div>"
      ],
      "text/plain": [
       "     Enrollment Change\n",
       "2011                 0\n",
       "2012               -12\n",
       "2013             -1163\n",
       "2014             -1969\n",
       "2015             -2895\n",
       "2016             -3461\n",
       "2017             -4887"
      ]
     },
     "execution_count": 13,
     "metadata": {},
     "output_type": "execute_result"
    }
   ],
   "source": [
    "# sum up the total change in enrollment over time\n",
    "changes = enrollment_11.sum()\n",
    "\n",
    "# transform into dataframe\n",
    "changes_df = pd.DataFrame(changes)\n",
    "\n",
    "# create base column\n",
    "changes_df = changes_df.rename(columns={0:'Enrollment Change'})\n",
    "\n",
    "# clean data\n",
    "delta_enr = changes_df.drop(index='Campus Name')\n",
    "\n",
    "#dislay dataframe\n",
    "delta_enr"
   ]
  },
  {
   "cell_type": "code",
   "execution_count": 37,
   "metadata": {},
   "outputs": [
    {
     "data": {
      "image/png": "[encoded data removed]",
      "text/plain": [
       "<Figure size 864x720 with 1 Axes>"
      ]
     },
     "metadata": {
      "needs_background": "light"
     },
     "output_type": "display_data"
    }
   ],
   "source": [
    "# plot dataframe\n",
    "plt.plot(delta_enr, marker='o')\n",
    "\n",
    "# format plot\n",
    "plt.xlabel('Years')\n",
    "plt.ylabel(' No. Enrollment Change (2011)')\n",
    "plt.title('Austin ISD Enrollments Since 2011')\n",
    "plt.grid()\n",
    "\n",
    "# save figure\n",
    "plt.savefig(\"Austin_ISD_Clean/Images/Austin_ISD_Enrollment_Since_2011.png\")\n",
    "\n",
    "# plot figure\n",
    "plt.show()"
   ]
  }
 ],
 "metadata": {
  "kernelspec": {
   "display_name": "Python [conda env:PythonData]",
   "language": "python",
   "name": "pythondata"
  },
  "language_info": {
   "codemirror_mode": {
    "name": "ipython",
    "version": 3
   },
   "file_extension": ".py",
   "mimetype": "text/x-python",
   "name": "python",
   "nbconvert_exporter": "python",
   "pygments_lexer": "ipython3",
   "version": "3.7.1"
  }
 },
 "nbformat": 4,
 "nbformat_minor": 2
}
