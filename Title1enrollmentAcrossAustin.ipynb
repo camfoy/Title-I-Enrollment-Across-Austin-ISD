{
 "cells": [
  {
   "cell_type": "markdown",
   "metadata": {},
   "source": [
    "# Title 1 Enrollment Across the Austin Area\n",
    "\n",
    "## Hypothesis\t\n",
    "If Austin ISD school enrollment decreases, then the proportion of title 1 students to non title 1 students will increase\n",
    "\n",
    "## Null\t\n",
    "If Austin ISD school enrollment decreases, then the proportion of title 1 students to non title 1 students will decrease or not change\t\t"
   ]
  },
  {
   "cell_type": "markdown",
   "metadata": {},
   "source": [
    "![title](AISD.jpg)"
   ]
  },
  {
   "cell_type": "markdown",
   "metadata": {},
   "source": [
    "# Our Data Sources:\n",
    "\n",
    "1. CSV files from the TEA(Texas Education Agency) website.\n",
    "2. GreatSchools.org API\n",
    "3. census API\n",
    "4. google maps API\n"
   ]
  },
  {
   "cell_type": "code",
   "execution_count": 4,
   "metadata": {},
   "outputs": [
    {
     "ename": "ModuleNotFoundError",
     "evalue": "No module named 'keys'",
     "output_type": "error",
     "traceback": [
      "\u001b[0;31m---------------------------------------------------------------------------\u001b[0m",
      "\u001b[0;31mModuleNotFoundError\u001b[0m                       Traceback (most recent call last)",
      "\u001b[0;32m<ipython-input-4-3fbd494e0065>\u001b[0m in \u001b[0;36m<module>\u001b[0;34m()\u001b[0m\n\u001b[1;32m      1\u001b[0m \u001b[0;31m# Dependencies\u001b[0m\u001b[0;34m\u001b[0m\u001b[0;34m\u001b[0m\u001b[0m\n\u001b[0;32m----> 2\u001b[0;31m \u001b[0;32mfrom\u001b[0m \u001b[0mkeys\u001b[0m \u001b[0;32mimport\u001b[0m \u001b[0mgoogleKey\u001b[0m\u001b[0;34m\u001b[0m\u001b[0m\n\u001b[0m\u001b[1;32m      3\u001b[0m \u001b[0;32mfrom\u001b[0m \u001b[0mplotly\u001b[0m \u001b[0;32mimport\u001b[0m \u001b[0m__version__\u001b[0m\u001b[0;34m\u001b[0m\u001b[0m\n\u001b[1;32m      4\u001b[0m \u001b[0;32mimport\u001b[0m \u001b[0mcufflinks\u001b[0m \u001b[0;32mas\u001b[0m \u001b[0mcf\u001b[0m\u001b[0;34m\u001b[0m\u001b[0m\n\u001b[1;32m      5\u001b[0m \u001b[0;32mimport\u001b[0m \u001b[0mplotly\u001b[0m\u001b[0;34m.\u001b[0m\u001b[0moffline\u001b[0m \u001b[0;32mas\u001b[0m \u001b[0mpy\u001b[0m\u001b[0;34m\u001b[0m\u001b[0m\n",
      "\u001b[0;31mModuleNotFoundError\u001b[0m: No module named 'keys'"
     ]
    }
   ],
   "source": [
    "# Dependencies\n",
    "from keys import googleKey\n",
    "import gmaps\n",
    "import requests\n",
    "import time\n",
    "from IPython.display import display\n",
    "import ipywidgets as widgets\n",
    "import SchoolExplorer as se"
   ]
  },
  {
   "cell_type": "code",
   "execution_count": 6,
   "metadata": {},
   "outputs": [
    {
     "data": {
      "text/html": [
       "<script type=\"text/javascript\">window.PlotlyConfig = {MathJaxConfig: 'local'};</script><script type=\"text/javascript\">if (window.MathJax) {MathJax.Hub.Config({SVG: {font: \"STIX-Web\"}});}</script><script>requirejs.config({paths: { 'plotly': ['https://cdn.plot.ly/plotly-latest.min']},});if(!window._Plotly) {require(['plotly'],function(plotly) {window._Plotly=plotly;});}</script>"
      ],
      "text/vnd.plotly.v1+html": [
       "<script type=\"text/javascript\">window.PlotlyConfig = {MathJaxConfig: 'local'};</script><script type=\"text/javascript\">if (window.MathJax) {MathJax.Hub.Config({SVG: {font: \"STIX-Web\"}});}</script><script>requirejs.config({paths: { 'plotly': ['https://cdn.plot.ly/plotly-latest.min']},});if(!window._Plotly) {require(['plotly'],function(plotly) {window._Plotly=plotly;});}</script>"
      ]
     },
     "metadata": {},
     "output_type": "display_data"
    }
   ],
   "source": [
    "from plotly import __version__\n",
    "import cufflinks as cf\n",
    "import plotly.offline as py\n",
    "import plotly.graph_objs as go\n",
    "py.init_notebook_mode(connected=True)\n",
    "import numpy as np\n",
    "import pandas as pd"
   ]
  },
  {
   "cell_type": "code",
   "execution_count": 7,
   "metadata": {
    "collapsed": true
   },
   "outputs": [],
   "source": [
    "AustinZipCo_df= pd.read_csv(\"csv_files/AustinPopulation.csv\")\n",
    "AustinDist_df = pd.read_csv(\"csv_files/combined.csv\")"
   ]
  },
  {
   "cell_type": "code",
   "execution_count": 28,
   "metadata": {},
   "outputs": [],
   "source": [
    "c_df = pd.read_csv(\"csv_files/compileddata.csv\")\n",
    "c_df = c_df.rename(columns={'Unnamed: 0': 'Index'})"
   ]
  },
  {
   "cell_type": "markdown",
   "metadata": {},
   "source": [
    "# What is Title 1?\n",
    "Title I, Part A (Title I) of the Elementary and Secondary Education Act, as amended by the Every Student Succeeds Act (ESEA) provides financial assistance to local educational agencies (LEAs) and schools with high numbers or high percentages of children from low-income families to help ensure that all children meet challenging state academic standards."
   ]
  },
  {
   "cell_type": "markdown",
   "metadata": {},
   "source": [
    "# The Austin Population Heat Map"
   ]
  },
  {
   "cell_type": "code",
   "execution_count": 9,
   "metadata": {},
   "outputs": [
    {
     "data": {
      "application/vnd.jupyter.widget-view+json": {
       "model_id": "29428d7e8a5f43429f4f19ea77bf7046",
       "version_major": 2,
       "version_minor": 0
      },
      "text/plain": [
       "Figure(layout=FigureLayout(border='1px solid black', height='1000px', padding='1px', width='1000px'))"
      ]
     },
     "metadata": {},
     "output_type": "display_data"
    }
   ],
   "source": [
    "\n",
    "# Store 'Lat' and 'Lng' into  locations \n",
    "locations = AustinZipCo_df[[\"LAT\", \"LNG\"]].astype(float)\n",
    "\n",
    "# Convert Population to float and store\n",
    "# HINT: be sure to handle NaN values\n",
    "population = AustinZipCo_df[\"Percent Population\"].astype(float)\n",
    "fig4 = gmaps.figure(layout={'width': '1000px','height': '1000px','border': '1px solid black','padding': '1px'})\n",
    "population_layer = gmaps.heatmap_layer(locations, weights=population, \n",
    "                                 dissipating=False, max_intensity=6,\n",
    "                                 point_radius = 0.05)\n",
    "\n",
    "fig4.add_layer(population_layer)\n",
    "\n",
    "fig4"
   ]
  },
  {
   "cell_type": "code",
   "execution_count": 5,
   "metadata": {},
   "outputs": [
    {
     "data": {
      "application/vnd.jupyter.widget-view+json": {
       "model_id": "7d824f2d4fe94919bceba38d03939ac4",
       "version_major": 2,
       "version_minor": 0
      },
      "text/plain": [
       "VBox(children=(HTML(value='<h3>Student Enrollment in Austin, by type</h3><h4>Data from <a href=\"https://www.gr…"
      ]
     },
     "metadata": {},
     "output_type": "display_data"
    }
   ],
   "source": [
    "df_full = pd.read_csv('csv_files/AustinSchools.csv')\n",
    "gmaps.configure(api_key=googleKey.gkey)\n",
    "df = df_full[['schoolName', 'latitude', 'longitude','enrollment','type']]\n",
    "df = df.rename(columns={\"type\":\"schoolType\"})\n",
    "df[\"Percent enrollment\"] = 100 * df[\"enrollment\"] / df[\"enrollment\"].sum()\n",
    "df.fillna(0, inplace=True)\n",
    "se.SchoolExplorer(df).render()"
   ]
  },
  {
   "cell_type": "code",
   "execution_count": 8,
   "metadata": {},
   "outputs": [
    {
     "data": {
      "text/html": [
       "<div>\n",
       "<style scoped>\n",
       "    .dataframe tbody tr th:only-of-type {\n",
       "        vertical-align: middle;\n",
       "    }\n",
       "\n",
       "    .dataframe tbody tr th {\n",
       "        vertical-align: top;\n",
       "    }\n",
       "\n",
       "    .dataframe thead th {\n",
       "        text-align: right;\n",
       "    }\n",
       "</style>\n",
       "<table border=\"1\" class=\"dataframe\">\n",
       "  <thead>\n",
       "    <tr style=\"text-align: right;\">\n",
       "      <th></th>\n",
       "      <th>Unnamed: 0</th>\n",
       "      <th>AGG_LEVEL</th>\n",
       "      <th>CHARTER STATUS</th>\n",
       "      <th>DISTRICT NAME</th>\n",
       "      <th>DISTRICT NUMBER</th>\n",
       "      <th>REGION</th>\n",
       "      <th>SCOPE</th>\n",
       "      <th>TOTAL AT RISK STUDENTS</th>\n",
       "      <th>TOTAL BILINGUAL STUDENTS</th>\n",
       "      <th>TOTAL CTE STUDENTS</th>\n",
       "      <th>...</th>\n",
       "      <th>TOTAL FOSTER CARE STUDENTS</th>\n",
       "      <th>TOTAL G &amp; T STUDENTS</th>\n",
       "      <th>TOTAL HOMELESS STUDENTS</th>\n",
       "      <th>TOTAL LEP STUDENTS</th>\n",
       "      <th>TOTAL MILITARY CONNECTED STUDENTS</th>\n",
       "      <th>TOTAL PRE-K FOSTER STUDENTS</th>\n",
       "      <th>TOTAL PRE-K MILITARY STUDENTS</th>\n",
       "      <th>TOTAL STUDENTS RECEIVING SPECIAL EDUCATION SERVICES</th>\n",
       "      <th>TOTAL TITLE I STUDENTS</th>\n",
       "      <th>YEAR</th>\n",
       "    </tr>\n",
       "  </thead>\n",
       "  <tbody>\n",
       "    <tr>\n",
       "      <th>0</th>\n",
       "      <td>0</td>\n",
       "      <td>DISTRICT</td>\n",
       "      <td>NaN</td>\n",
       "      <td>CAYUGA ISD</td>\n",
       "      <td>1902.0</td>\n",
       "      <td>7.0</td>\n",
       "      <td>STATE</td>\n",
       "      <td>224.0</td>\n",
       "      <td>0.0</td>\n",
       "      <td>153.0</td>\n",
       "      <td>...</td>\n",
       "      <td>-9999999.0</td>\n",
       "      <td>63.0</td>\n",
       "      <td>NaN</td>\n",
       "      <td>-9999999.0</td>\n",
       "      <td>5.0</td>\n",
       "      <td>NaN</td>\n",
       "      <td>NaN</td>\n",
       "      <td>80.0</td>\n",
       "      <td>570.0</td>\n",
       "      <td>2015-2016</td>\n",
       "    </tr>\n",
       "    <tr>\n",
       "      <th>1</th>\n",
       "      <td>1</td>\n",
       "      <td>DISTRICT</td>\n",
       "      <td>NaN</td>\n",
       "      <td>ELKHART ISD</td>\n",
       "      <td>1903.0</td>\n",
       "      <td>7.0</td>\n",
       "      <td>STATE</td>\n",
       "      <td>380.0</td>\n",
       "      <td>0.0</td>\n",
       "      <td>304.0</td>\n",
       "      <td>...</td>\n",
       "      <td>14.0</td>\n",
       "      <td>45.0</td>\n",
       "      <td>NaN</td>\n",
       "      <td>19.0</td>\n",
       "      <td>0.0</td>\n",
       "      <td>NaN</td>\n",
       "      <td>NaN</td>\n",
       "      <td>144.0</td>\n",
       "      <td>1244.0</td>\n",
       "      <td>2015-2016</td>\n",
       "    </tr>\n",
       "    <tr>\n",
       "      <th>2</th>\n",
       "      <td>2</td>\n",
       "      <td>DISTRICT</td>\n",
       "      <td>NaN</td>\n",
       "      <td>FRANKSTON ISD</td>\n",
       "      <td>1904.0</td>\n",
       "      <td>7.0</td>\n",
       "      <td>STATE</td>\n",
       "      <td>338.0</td>\n",
       "      <td>0.0</td>\n",
       "      <td>273.0</td>\n",
       "      <td>...</td>\n",
       "      <td>11.0</td>\n",
       "      <td>60.0</td>\n",
       "      <td>NaN</td>\n",
       "      <td>19.0</td>\n",
       "      <td>16.0</td>\n",
       "      <td>NaN</td>\n",
       "      <td>NaN</td>\n",
       "      <td>70.0</td>\n",
       "      <td>841.0</td>\n",
       "      <td>2015-2016</td>\n",
       "    </tr>\n",
       "  </tbody>\n",
       "</table>\n",
       "<p>3 rows × 24 columns</p>\n",
       "</div>"
      ],
      "text/plain": [
       "   Unnamed: 0 AGG_LEVEL CHARTER STATUS  DISTRICT NAME  DISTRICT NUMBER  \\\n",
       "0           0  DISTRICT            NaN     CAYUGA ISD           1902.0   \n",
       "1           1  DISTRICT            NaN    ELKHART ISD           1903.0   \n",
       "2           2  DISTRICT            NaN  FRANKSTON ISD           1904.0   \n",
       "\n",
       "   REGION  SCOPE  TOTAL AT RISK STUDENTS  TOTAL BILINGUAL STUDENTS  \\\n",
       "0     7.0  STATE                   224.0                       0.0   \n",
       "1     7.0  STATE                   380.0                       0.0   \n",
       "2     7.0  STATE                   338.0                       0.0   \n",
       "\n",
       "   TOTAL CTE STUDENTS  ...  TOTAL FOSTER CARE STUDENTS  TOTAL G & T STUDENTS  \\\n",
       "0               153.0  ...                  -9999999.0                  63.0   \n",
       "1               304.0  ...                        14.0                  45.0   \n",
       "2               273.0  ...                        11.0                  60.0   \n",
       "\n",
       "   TOTAL HOMELESS STUDENTS  TOTAL LEP STUDENTS  \\\n",
       "0                      NaN          -9999999.0   \n",
       "1                      NaN                19.0   \n",
       "2                      NaN                19.0   \n",
       "\n",
       "   TOTAL MILITARY CONNECTED STUDENTS  TOTAL PRE-K FOSTER STUDENTS  \\\n",
       "0                                5.0                          NaN   \n",
       "1                                0.0                          NaN   \n",
       "2                               16.0                          NaN   \n",
       "\n",
       "   TOTAL PRE-K MILITARY STUDENTS  \\\n",
       "0                            NaN   \n",
       "1                            NaN   \n",
       "2                            NaN   \n",
       "\n",
       "   TOTAL STUDENTS RECEIVING SPECIAL EDUCATION SERVICES  \\\n",
       "0                                               80.0     \n",
       "1                                              144.0     \n",
       "2                                               70.0     \n",
       "\n",
       "   TOTAL TITLE I STUDENTS       YEAR  \n",
       "0                   570.0  2015-2016  \n",
       "1                  1244.0  2015-2016  \n",
       "2                   841.0  2015-2016  \n",
       "\n",
       "[3 rows x 24 columns]"
      ]
     },
     "execution_count": 8,
     "metadata": {},
     "output_type": "execute_result"
    }
   ],
   "source": [
    "df = AustinDist_df[AustinDist_df['DISTRICT NAME'].notnull()].reset_index(drop=True)"
   ]
  },
  {
   "cell_type": "code",
   "execution_count": 9,
   "metadata": {
    "collapsed": true
   },
   "outputs": [],
   "source": [
    "#Obtains the average of masked values based on 1 percent of total enrollment\n",
    "t1_missing_val = df[df['TOTAL TITLE I STUDENTS']<0]['TOTAL ENROLLMENT'].mean()*0.01\n",
    "#This grabs the working dataframe columns from the orignal df, and will replace them with the t1_missing_val mean\n",
    "wk_df = df[['YEAR','DISTRICT NAME','DISTRICT NUMBER','REGION','TOTAL ENROLLMENT','TOTAL TITLE I STUDENTS']]\n",
    "wk_df.replace(-9999999,t1_missing_val)\n",
    "wk_df['PCT_T1'] = (wk_df['TOTAL TITLE I STUDENTS'] / wk_df['TOTAL ENROLLMENT']) * 100\n",
    "wk_df = wk_df.round()"
   ]
  },
  {
   "cell_type": "code",
   "execution_count": 10,
   "metadata": {
    "collapsed": true
   },
   "outputs": [],
   "source": [
    "def yr_enrollment(limit, year='2018-2019'):\n",
    "    '''Sort district ISDs by number of enrollment and academic year.\n",
    "    limit: takes in an integer or float\n",
    "    year: takes in a string of academic year'''\n",
    "    try:\n",
    "        data = wk_df[(wk_df['TOTAL ENROLLMENT'] >= limit) & \n",
    "        (wk_df['YEAR'] == year)][['DISTRICT NUMBER','DISTRICT NAME','TOTAL ENROLLMENT','TOTAL TITLE I STUDENTS']]\n",
    "        data = data.sort_values('TOTAL ENROLLMENT', ascending=False).reset_index(drop=True)\n",
    "        data['PCT_T1'] = (data['TOTAL TITLE I STUDENTS'] / data['TOTAL ENROLLMENT']) * 100\n",
    "        return data.round()\n",
    "    except Exception as e:\n",
    "        return print('Please read the docsting notes')"
   ]
  },
  {
   "cell_type": "code",
   "execution_count": 11,
   "metadata": {
    "collapsed": true
   },
   "outputs": [],
   "source": [
    "tx_enroll = df[df['YEAR']=='2018-2019']['TOTAL ENROLLMENT'].sum()\n",
    "tx_t1enroll = df[df['YEAR']=='2018-2019']['TOTAL TITLE I STUDENTS'].sum()\n",
    "pct_t1 = ((tx_t1enroll/tx_enroll) * 100).round()\n",
    "print(f'Texas total current enrollment: {tx_enroll}.')\n",
    "print(f'Texas total current title 1 enrollment: {tx_t1enroll}.')\n",
    "print(f'Texas total title 1 percent enrollment: {pct_t1} percent.')"
   ]
  },
  {
   "cell_type": "code",
   "execution_count": 13,
   "metadata": {},
   "outputs": [
    {
     "data": {
      "text/html": [
       "<div>\n",
       "<style scoped>\n",
       "    .dataframe tbody tr th:only-of-type {\n",
       "        vertical-align: middle;\n",
       "    }\n",
       "\n",
       "    .dataframe tbody tr th {\n",
       "        vertical-align: top;\n",
       "    }\n",
       "\n",
       "    .dataframe thead th {\n",
       "        text-align: right;\n",
       "    }\n",
       "</style>\n",
       "<table border=\"1\" class=\"dataframe\">\n",
       "  <thead>\n",
       "    <tr style=\"text-align: right;\">\n",
       "      <th></th>\n",
       "      <th>DISTRICT NUMBER</th>\n",
       "      <th>DISTRICT NAME</th>\n",
       "      <th>TOTAL ENROLLMENT</th>\n",
       "      <th>TOTAL TITLE I STUDENTS</th>\n",
       "      <th>PCT_T1</th>\n",
       "    </tr>\n",
       "  </thead>\n",
       "  <tbody>\n",
       "    <tr>\n",
       "      <th>0</th>\n",
       "      <td>101912.0</td>\n",
       "      <td>HOUSTON ISD</td>\n",
       "      <td>209772.0</td>\n",
       "      <td>191412.0</td>\n",
       "      <td>91.0</td>\n",
       "    </tr>\n",
       "    <tr>\n",
       "      <th>1</th>\n",
       "      <td>57905.0</td>\n",
       "      <td>DALLAS ISD</td>\n",
       "      <td>155119.0</td>\n",
       "      <td>150628.0</td>\n",
       "      <td>97.0</td>\n",
       "    </tr>\n",
       "    <tr>\n",
       "      <th>2</th>\n",
       "      <td>101907.0</td>\n",
       "      <td>CYPRESS-FAIRBANKS ISD</td>\n",
       "      <td>116512.0</td>\n",
       "      <td>51658.0</td>\n",
       "      <td>44.0</td>\n",
       "    </tr>\n",
       "    <tr>\n",
       "      <th>3</th>\n",
       "      <td>15915.0</td>\n",
       "      <td>NORTHSIDE ISD</td>\n",
       "      <td>106501.0</td>\n",
       "      <td>37151.0</td>\n",
       "      <td>35.0</td>\n",
       "    </tr>\n",
       "    <tr>\n",
       "      <th>4</th>\n",
       "      <td>220905.0</td>\n",
       "      <td>FORT WORTH ISD</td>\n",
       "      <td>84510.0</td>\n",
       "      <td>81088.0</td>\n",
       "      <td>96.0</td>\n",
       "    </tr>\n",
       "    <tr>\n",
       "      <th>5</th>\n",
       "      <td>227901.0</td>\n",
       "      <td>AUSTIN ISD</td>\n",
       "      <td>80032.0</td>\n",
       "      <td>40203.0</td>\n",
       "      <td>50.0</td>\n",
       "    </tr>\n",
       "    <tr>\n",
       "      <th>6</th>\n",
       "      <td>101914.0</td>\n",
       "      <td>KATY ISD</td>\n",
       "      <td>79913.0</td>\n",
       "      <td>14254.0</td>\n",
       "      <td>18.0</td>\n",
       "    </tr>\n",
       "    <tr>\n",
       "      <th>7</th>\n",
       "      <td>79907.0</td>\n",
       "      <td>FORT BEND ISD</td>\n",
       "      <td>76122.0</td>\n",
       "      <td>15198.0</td>\n",
       "      <td>20.0</td>\n",
       "    </tr>\n",
       "    <tr>\n",
       "      <th>8</th>\n",
       "      <td>101902.0</td>\n",
       "      <td>ALDINE ISD</td>\n",
       "      <td>66854.0</td>\n",
       "      <td>66714.0</td>\n",
       "      <td>100.0</td>\n",
       "    </tr>\n",
       "    <tr>\n",
       "      <th>9</th>\n",
       "      <td>15910.0</td>\n",
       "      <td>NORTH EAST ISD</td>\n",
       "      <td>65186.0</td>\n",
       "      <td>15908.0</td>\n",
       "      <td>24.0</td>\n",
       "    </tr>\n",
       "  </tbody>\n",
       "</table>\n",
       "</div>"
      ],
      "text/plain": [
       "   DISTRICT NUMBER          DISTRICT NAME  TOTAL ENROLLMENT  \\\n",
       "0         101912.0            HOUSTON ISD          209772.0   \n",
       "1          57905.0             DALLAS ISD          155119.0   \n",
       "2         101907.0  CYPRESS-FAIRBANKS ISD          116512.0   \n",
       "3          15915.0          NORTHSIDE ISD          106501.0   \n",
       "4         220905.0         FORT WORTH ISD           84510.0   \n",
       "5         227901.0             AUSTIN ISD           80032.0   \n",
       "6         101914.0               KATY ISD           79913.0   \n",
       "7          79907.0          FORT BEND ISD           76122.0   \n",
       "8         101902.0             ALDINE ISD           66854.0   \n",
       "9          15910.0         NORTH EAST ISD           65186.0   \n",
       "\n",
       "   TOTAL TITLE I STUDENTS  PCT_T1  \n",
       "0                191412.0    91.0  \n",
       "1                150628.0    97.0  \n",
       "2                 51658.0    44.0  \n",
       "3                 37151.0    35.0  \n",
       "4                 81088.0    96.0  \n",
       "5                 40203.0    50.0  \n",
       "6                 14254.0    18.0  \n",
       "7                 15198.0    20.0  \n",
       "8                 66714.0   100.0  \n",
       "9                 15908.0    24.0  "
      ]
     },
     "execution_count": 13,
     "metadata": {},
     "output_type": "execute_result"
    }
   ],
   "source": [
    "yr_enrollment(65000)"
   ]
  },
  {
   "cell_type": "code",
   "execution_count": 14,
   "metadata": {
    "collapsed": true
   },
   "outputs": [],
   "source": [
    "#names of all ISD's surrounding Austin area.\n",
    "aus_area_schools = ['AUSTIN ISD','DEL VALLE ISD','DRIPPING SPRINGS ISD',\n",
    " 'EANES ISD','GEORGETOWN ISD','HAYS CISD','HUTTO ISD','LAKE TRAVIS ISD',\n",
    " 'LEANDER ISD','PFLUGERVILLE ISD','ROUND ROCK ISD','MANOR ISD','LAGO VISTA ISD']"
   ]
  },
  {
   "cell_type": "code",
   "execution_count": 22,
   "metadata": {},
   "outputs": [],
   "source": [
    "aus_area_df = wk_df[wk_df['DISTRICT NAME'].isin(aus_area_schools)].reset_index(drop=True)"
   ]
  },
  {
   "cell_type": "code",
   "execution_count": 16,
   "metadata": {
    "collapsed": true
   },
   "outputs": [],
   "source": [
    "wk_plot = aus_area_df.groupby([\"DISTRICT NAME\", \"YEAR\"])['TOTAL ENROLLMENT'].mean().reset_index()"
   ]
  },
  {
   "cell_type": "code",
   "execution_count": 17,
   "metadata": {},
   "outputs": [
    {
     "name": "stderr",
     "output_type": "stream",
     "text": [
      "IOPub data rate exceeded.\n",
      "The notebook server will temporarily stop sending output\n",
      "to the client in order to avoid crashing it.\n",
      "To change this limit, set the config variable\n",
      "`--NotebookApp.iopub_data_rate_limit`.\n"
     ]
    },
    {
     "data": {
      "application/vnd.plotly.v1+json": {
       "config": {
        "linkText": "Export to plot.ly",
        "plotlyServerURL": "https://plot.ly",
        "showLink": true
       },
       "data": [
        {
         "marker": {
          "color": "rgba(226, 74, 51, 0.6)",
          "line": {
           "color": "rgba(226, 74, 51, 1.0)",
           "width": 1
          }
         },
         "name": "('TOTAL ENROLLMENT', '2012-2013')",
         "orientation": "v",
         "text": "",
         "type": "bar",
         "uid": "afb3b343-1436-47b2-9c98-48c024ac527d",
         "x": [
          "AUSTIN ISD",
          "DEL VALLE ISD",
          "DRIPPING SPRINGS ISD",
          "EANES ISD",
          "GEORGETOWN ISD",
          "HAYS CISD",
          "HUTTO ISD",
          "LAGO VISTA ISD",
          "LAKE TRAVIS ISD",
          "LEANDER ISD",
          "MANOR ISD",
          "PFLUGERVILLE ISD",
          "ROUND ROCK ISD"
         ],
         "y": [
          86516,
          11423,
          4783,
          7865,
          10370,
          16568,
          5754,
          1340,
          7809,
          34381,
          8087,
          23347,
          45749
         ]
        },
        {
         "marker": {
          "color": "rgba(62, 111, 176, 0.6)",
          "line": {
           "color": "rgba(62, 111, 176, 1.0)",
           "width": 1
          }
         },
         "name": "('TOTAL ENROLLMENT', '2013-2014')",
         "orientation": "v",
         "text": "",
         "type": "bar",
         "uid": "c3e6a9b2-c496-4658-9f0e-db266ac7720d",
         "x": [
          "AUSTIN ISD",
          "DEL VALLE ISD",
          "DRIPPING SPRINGS ISD",
          "EANES ISD",
          "GEORGETOWN ISD",
          "HAYS CISD",
          "HUTTO ISD",
          "LAGO VISTA ISD",
          "LAKE TRAVIS ISD",
          "LEANDER ISD",
          "MANOR ISD",
          "PFLUGERVILLE ISD",
          "ROUND ROCK ISD"
         ],
         "y": [
          85372,
          11684,
          5107,
          8005,
          10554,
          17255,
          5926,
          1387,
          8257,
          35450,
          8657,
          23543,
          46666
         ]
        },
        {
         "marker": {
          "color": "rgba(132, 118, 202, 0.6)",
          "line": {
           "color": "rgba(132, 118, 202, 1.0)",
           "width": 1
          }
         },
         "name": "('TOTAL ENROLLMENT', '2014-2015')",
         "orientation": "v",
         "text": "",
         "type": "bar",
         "uid": "62112995-ba9e-4d2a-8a27-70d04964045a",
         "x": [
          "AUSTIN ISD",
          "DEL VALLE ISD",
          "DRIPPING SPRINGS ISD",
          "EANES ISD",
          "GEORGETOWN ISD",
          "HAYS CISD",
          "HUTTO ISD",
          "LAGO VISTA ISD",
          "LAKE TRAVIS ISD",
          "LEANDER ISD",
          "MANOR ISD",
          "PFLUGERVILLE ISD",
          "ROUND ROCK ISD"
         ],
         "y": [
          84564,
          11727,
          5421,
          7971,
          10651,
          17948,
          6187,
          1366,
          8833,
          36211,
          8852,
          23948,
          47251
         ]
        },
        {
         "marker": {
          "color": "rgba(101, 101, 101, 0.6)",
          "line": {
           "color": "rgba(101, 101, 101, 1.0)",
           "width": 1
          }
         },
         "name": "('TOTAL ENROLLMENT', '2015-2016')",
         "orientation": "v",
         "text": "",
         "type": "bar",
         "uid": "ede1750f-c71d-4693-adc9-bcc491d6b036",
         "x": [
          "AUSTIN ISD",
          "DEL VALLE ISD",
          "DRIPPING SPRINGS ISD",
          "EANES ISD",
          "GEORGETOWN ISD",
          "HAYS CISD",
          "HUTTO ISD",
          "LAGO VISTA ISD",
          "LAKE TRAVIS ISD",
          "LEANDER ISD",
          "MANOR ISD",
          "PFLUGERVILLE ISD",
          "ROUND ROCK ISD"
         ],
         "y": [
          83648,
          11559,
          5619,
          8075,
          10997,
          18654,
          6527,
          1437,
          9238,
          37158,
          8873,
          24100,
          47827
         ]
        },
        {
         "marker": {
          "color": "rgba(251, 193, 94, 0.6)",
          "line": {
           "color": "rgba(251, 193, 94, 1.0)",
           "width": 1
          }
         },
         "name": "('TOTAL ENROLLMENT', '2016-2017')",
         "orientation": "v",
         "text": "",
         "type": "bar",
         "uid": "fb608175-9962-4a20-a0d4-dc1d55e5101c",
         "x": [
          "AUSTIN ISD",
          "DEL VALLE ISD",
          "DRIPPING SPRINGS ISD",
          "EANES ISD",
          "GEORGETOWN ISD",
          "HAYS CISD",
          "HUTTO ISD",
          "LAGO VISTA ISD",
          "LAKE TRAVIS ISD",
          "LEANDER ISD",
          "MANOR ISD",
          "PFLUGERVILLE ISD",
          "ROUND ROCK ISD"
         ],
         "y": [
          83067,
          11278,
          6008,
          8134,
          11425,
          19215,
          6945,
          1449,
          9825,
          38226,
          8870,
          24591,
          48321
         ]
        },
        {
         "marker": {
          "color": "rgba(142, 186, 66, 0.6)",
          "line": {
           "color": "rgba(142, 186, 66, 1.0)",
           "width": 1
          }
         },
         "name": "('TOTAL ENROLLMENT', '2017-2018')",
         "orientation": "v",
         "text": "",
         "type": "bar",
         "uid": "352511b0-97bf-41ad-a08b-0694af87e031",
         "x": [
          "AUSTIN ISD",
          "DEL VALLE ISD",
          "DRIPPING SPRINGS ISD",
          "EANES ISD",
          "GEORGETOWN ISD",
          "HAYS CISD",
          "HUTTO ISD",
          "LAGO VISTA ISD",
          "LAKE TRAVIS ISD",
          "LEANDER ISD",
          "MANOR ISD",
          "PFLUGERVILLE ISD",
          "ROUND ROCK ISD"
         ],
         "y": [
          81650,
          11216,
          6450,
          8061,
          11537,
          19862,
          7240,
          1475,
          10410,
          39028,
          9109,
          25306,
          49086
         ]
        },
        {
         "marker": {
          "color": "rgba(255, 181, 184, 0.6)",
          "line": {
           "color": "rgba(255, 181, 184, 1.0)",
           "width": 1
          }
         },
         "name": "('TOTAL ENROLLMENT', '2018-2019')",
         "orientation": "v",
         "text": "",
         "type": "bar",
         "uid": "3c4c633e-fc3c-4108-84cc-13b60c06f835",
         "x": [
          "AUSTIN ISD",
          "DEL VALLE ISD",
          "DRIPPING SPRINGS ISD",
          "EANES ISD",
          "GEORGETOWN ISD",
          "HAYS CISD",
          "HUTTO ISD",
          "LAGO VISTA ISD",
          "LAKE TRAVIS ISD",
          "LEANDER ISD",
          "MANOR ISD",
          "PFLUGERVILLE ISD",
          "ROUND ROCK ISD"
         ],
         "y": [
          80032,
          10870,
          6873,
          8132,
          11759,
          19925,
          7592,
          1530,
          10738,
          40031,
          9463,
          25405,
          50387
         ]
        }
       ],
       "layout": {
        "legend": {
         "bgcolor": "#FFFFFF",
         "font": {
          "color": "#666666"
         }
        },
        "paper_bgcolor": "#FFFFFF",
        "plot_bgcolor": "#E5E5E5",
        "title": {
         "font": {
          "color": "#151516"
         },
         "text": "Autin Area ISDs"
        },
        "xaxis": {
         "gridcolor": "#F6F6F6",
         "showgrid": true,
         "tickfont": {
          "color": "#666666"
         },
         "title": {
          "font": {
           "color": "#666666"
          },
          "text": ""
         },
         "zerolinecolor": "#F6F6F6"
        },
        "yaxis": {
         "gridcolor": "#F6F6F6",
         "showgrid": true,
         "tickfont": {
          "color": "#666666"
         },
         "title": {
          "font": {
           "color": "#666666"
          },
          "text": ""
         },
         "zerolinecolor": "#F6F6F6"
        }
       }
      },
      "text/html": [
       "<div id=\"9c9e4257-da10-49ec-98bf-b0cd9011eb8a\" style=\"height: 525px; width: 100%;\" class=\"plotly-graph-div\"></div><script type=\"text/javascript\">require([\"plotly\"], function(Plotly) { window.PLOTLYENV=window.PLOTLYENV || {};window.PLOTLYENV.BASE_URL=\"https://plot.ly\";Plotly.newPlot(\"9c9e4257-da10-49ec-98bf-b0cd9011eb8a\", [{\"marker\": {\"color\": \"rgba(226, 74, 51, 0.6)\", \"line\": {\"color\": \"rgba(226, 74, 51, 1.0)\", \"width\": 1}}, \"name\": \"('TOTAL ENROLLMENT', '2012-2013')\", \"orientation\": \"v\", \"text\": \"\", \"x\": [\"AUSTIN ISD\", \"DEL VALLE ISD\", \"DRIPPING SPRINGS ISD\", \"EANES ISD\", \"GEORGETOWN ISD\", \"HAYS CISD\", \"HUTTO ISD\", \"LAGO VISTA ISD\", \"LAKE TRAVIS ISD\", \"LEANDER ISD\", \"MANOR ISD\", \"PFLUGERVILLE ISD\", \"ROUND ROCK ISD\"], \"y\": [86516.0, 11423.0, 4783.0, 7865.0, 10370.0, 16568.0, 5754.0, 1340.0, 7809.0, 34381.0, 8087.0, 23347.0, 45749.0], \"type\": \"bar\", \"uid\": \"5afd47af-63ef-4001-a56d-56a9e84da5da\"}, {\"marker\": {\"color\": \"rgba(62, 111, 176, 0.6)\", \"line\": {\"color\": \"rgba(62, 111, 176, 1.0)\", \"width\": 1}}, \"name\": \"('TOTAL ENROLLMENT', '2013-2014')\", \"orientation\": \"v\", \"text\": \"\", \"x\": [\"AUSTIN ISD\", \"DEL VALLE ISD\", \"DRIPPING SPRINGS ISD\", \"EANES ISD\", \"GEORGETOWN ISD\", \"HAYS CISD\", \"HUTTO ISD\", \"LAGO VISTA ISD\", \"LAKE TRAVIS ISD\", \"LEANDER ISD\", \"MANOR ISD\", \"PFLUGERVILLE ISD\", \"ROUND ROCK ISD\"], \"y\": [85372.0, 11684.0, 5107.0, 8005.0, 10554.0, 17255.0, 5926.0, 1387.0, 8257.0, 35450.0, 8657.0, 23543.0, 46666.0], \"type\": \"bar\", \"uid\": \"82fc6687-99c6-469c-9051-39b9e5cf05d3\"}, {\"marker\": {\"color\": \"rgba(132, 118, 202, 0.6)\", \"line\": {\"color\": \"rgba(132, 118, 202, 1.0)\", \"width\": 1}}, \"name\": \"('TOTAL ENROLLMENT', '2014-2015')\", \"orientation\": \"v\", \"text\": \"\", \"x\": [\"AUSTIN ISD\", \"DEL VALLE ISD\", \"DRIPPING SPRINGS ISD\", \"EANES ISD\", \"GEORGETOWN ISD\", \"HAYS CISD\", \"HUTTO ISD\", \"LAGO VISTA ISD\", \"LAKE TRAVIS ISD\", \"LEANDER ISD\", \"MANOR ISD\", \"PFLUGERVILLE ISD\", \"ROUND ROCK ISD\"], \"y\": [84564.0, 11727.0, 5421.0, 7971.0, 10651.0, 17948.0, 6187.0, 1366.0, 8833.0, 36211.0, 8852.0, 23948.0, 47251.0], \"type\": \"bar\", \"uid\": \"bf7eddc5-78a0-4f07-ad1d-7561ee679600\"}, {\"marker\": {\"color\": \"rgba(101, 101, 101, 0.6)\", \"line\": {\"color\": \"rgba(101, 101, 101, 1.0)\", \"width\": 1}}, \"name\": \"('TOTAL ENROLLMENT', '2015-2016')\", \"orientation\": \"v\", \"text\": \"\", \"x\": [\"AUSTIN ISD\", \"DEL VALLE ISD\", \"DRIPPING SPRINGS ISD\", \"EANES ISD\", \"GEORGETOWN ISD\", \"HAYS CISD\", \"HUTTO ISD\", \"LAGO VISTA ISD\", \"LAKE TRAVIS ISD\", \"LEANDER ISD\", \"MANOR ISD\", \"PFLUGERVILLE ISD\", \"ROUND ROCK ISD\"], \"y\": [83648.0, 11559.0, 5619.0, 8075.0, 10997.0, 18654.0, 6527.0, 1437.0, 9238.0, 37158.0, 8873.0, 24100.0, 47827.0], \"type\": \"bar\", \"uid\": \"1a1dc1d1-70d3-49b9-80ed-f3dfe6acb150\"}, {\"marker\": {\"color\": \"rgba(251, 193, 94, 0.6)\", \"line\": {\"color\": \"rgba(251, 193, 94, 1.0)\", \"width\": 1}}, \"name\": \"('TOTAL ENROLLMENT', '2016-2017')\", \"orientation\": \"v\", \"text\": \"\", \"x\": [\"AUSTIN ISD\", \"DEL VALLE ISD\", \"DRIPPING SPRINGS ISD\", \"EANES ISD\", \"GEORGETOWN ISD\", \"HAYS CISD\", \"HUTTO ISD\", \"LAGO VISTA ISD\", \"LAKE TRAVIS ISD\", \"LEANDER ISD\", \"MANOR ISD\", \"PFLUGERVILLE ISD\", \"ROUND ROCK ISD\"], \"y\": [83067.0, 11278.0, 6008.0, 8134.0, 11425.0, 19215.0, 6945.0, 1449.0, 9825.0, 38226.0, 8870.0, 24591.0, 48321.0], \"type\": \"bar\", \"uid\": \"c0f82ff4-f453-46c2-a4a0-ee5655b0ec54\"}, {\"marker\": {\"color\": \"rgba(142, 186, 66, 0.6)\", \"line\": {\"color\": \"rgba(142, 186, 66, 1.0)\", \"width\": 1}}, \"name\": \"('TOTAL ENROLLMENT', '2017-2018')\", \"orientation\": \"v\", \"text\": \"\", \"x\": [\"AUSTIN ISD\", \"DEL VALLE ISD\", \"DRIPPING SPRINGS ISD\", \"EANES ISD\", \"GEORGETOWN ISD\", \"HAYS CISD\", \"HUTTO ISD\", \"LAGO VISTA ISD\", \"LAKE TRAVIS ISD\", \"LEANDER ISD\", \"MANOR ISD\", \"PFLUGERVILLE ISD\", \"ROUND ROCK ISD\"], \"y\": [81650.0, 11216.0, 6450.0, 8061.0, 11537.0, 19862.0, 7240.0, 1475.0, 10410.0, 39028.0, 9109.0, 25306.0, 49086.0], \"type\": \"bar\", \"uid\": \"d0464e83-c1a8-4094-98d5-842eb1b6db7b\"}, {\"marker\": {\"color\": \"rgba(255, 181, 184, 0.6)\", \"line\": {\"color\": \"rgba(255, 181, 184, 1.0)\", \"width\": 1}}, \"name\": \"('TOTAL ENROLLMENT', '2018-2019')\", \"orientation\": \"v\", \"text\": \"\", \"x\": [\"AUSTIN ISD\", \"DEL VALLE ISD\", \"DRIPPING SPRINGS ISD\", \"EANES ISD\", \"GEORGETOWN ISD\", \"HAYS CISD\", \"HUTTO ISD\", \"LAGO VISTA ISD\", \"LAKE TRAVIS ISD\", \"LEANDER ISD\", \"MANOR ISD\", \"PFLUGERVILLE ISD\", \"ROUND ROCK ISD\"], \"y\": [80032.0, 10870.0, 6873.0, 8132.0, 11759.0, 19925.0, 7592.0, 1530.0, 10738.0, 40031.0, 9463.0, 25405.0, 50387.0], \"type\": \"bar\", \"uid\": \"fbc5fb21-86c3-4b2f-933c-0fe839c9365a\"}], {\"legend\": {\"bgcolor\": \"#FFFFFF\", \"font\": {\"color\": \"#666666\"}}, \"paper_bgcolor\": \"#FFFFFF\", \"plot_bgcolor\": \"#E5E5E5\", \"title\": {\"text\": \"Autin Area ISDs\", \"font\": {\"color\": \"#151516\"}}, \"xaxis\": {\"gridcolor\": \"#F6F6F6\", \"showgrid\": true, \"tickfont\": {\"color\": \"#666666\"}, \"title\": {\"text\": \"\", \"font\": {\"color\": \"#666666\"}}, \"zerolinecolor\": \"#F6F6F6\"}, \"yaxis\": {\"gridcolor\": \"#F6F6F6\", \"showgrid\": true, \"tickfont\": {\"color\": \"#666666\"}, \"title\": {\"text\": \"\", \"font\": {\"color\": \"#666666\"}}, \"zerolinecolor\": \"#F6F6F6\"}}, {\"showLink\": true, \"linkText\": \"Export to plot.ly\", \"plotlyServerURL\": \"https://plot.ly\"})});</script><script type=\"text/javascript\">window.addEventListener(\"resize\", function(){window._Plotly.Plots.resize(document.getElementById(\"9c9e4257-da10-49ec-98bf-b0cd9011eb8a\"));});</script>"
      ],
      "text/vnd.plotly.v1+html": [
       "<div id=\"9c9e4257-da10-49ec-98bf-b0cd9011eb8a\" style=\"height: 525px; width: 100%;\" class=\"plotly-graph-div\"></div><script type=\"text/javascript\">require([\"plotly\"], function(Plotly) { window.PLOTLYENV=window.PLOTLYENV || {};window.PLOTLYENV.BASE_URL=\"https://plot.ly\";Plotly.newPlot(\"9c9e4257-da10-49ec-98bf-b0cd9011eb8a\", [{\"marker\": {\"color\": \"rgba(226, 74, 51, 0.6)\", \"line\": {\"color\": \"rgba(226, 74, 51, 1.0)\", \"width\": 1}}, \"name\": \"('TOTAL ENROLLMENT', '2012-2013')\", \"orientation\": \"v\", \"text\": \"\", \"x\": [\"AUSTIN ISD\", \"DEL VALLE ISD\", \"DRIPPING SPRINGS ISD\", \"EANES ISD\", \"GEORGETOWN ISD\", \"HAYS CISD\", \"HUTTO ISD\", \"LAGO VISTA ISD\", \"LAKE TRAVIS ISD\", \"LEANDER ISD\", \"MANOR ISD\", \"PFLUGERVILLE ISD\", \"ROUND ROCK ISD\"], \"y\": [86516.0, 11423.0, 4783.0, 7865.0, 10370.0, 16568.0, 5754.0, 1340.0, 7809.0, 34381.0, 8087.0, 23347.0, 45749.0], \"type\": \"bar\", \"uid\": \"5afd47af-63ef-4001-a56d-56a9e84da5da\"}, {\"marker\": {\"color\": \"rgba(62, 111, 176, 0.6)\", \"line\": {\"color\": \"rgba(62, 111, 176, 1.0)\", \"width\": 1}}, \"name\": \"('TOTAL ENROLLMENT', '2013-2014')\", \"orientation\": \"v\", \"text\": \"\", \"x\": [\"AUSTIN ISD\", \"DEL VALLE ISD\", \"DRIPPING SPRINGS ISD\", \"EANES ISD\", \"GEORGETOWN ISD\", \"HAYS CISD\", \"HUTTO ISD\", \"LAGO VISTA ISD\", \"LAKE TRAVIS ISD\", \"LEANDER ISD\", \"MANOR ISD\", \"PFLUGERVILLE ISD\", \"ROUND ROCK ISD\"], \"y\": [85372.0, 11684.0, 5107.0, 8005.0, 10554.0, 17255.0, 5926.0, 1387.0, 8257.0, 35450.0, 8657.0, 23543.0, 46666.0], \"type\": \"bar\", \"uid\": \"82fc6687-99c6-469c-9051-39b9e5cf05d3\"}, {\"marker\": {\"color\": \"rgba(132, 118, 202, 0.6)\", \"line\": {\"color\": \"rgba(132, 118, 202, 1.0)\", \"width\": 1}}, \"name\": \"('TOTAL ENROLLMENT', '2014-2015')\", \"orientation\": \"v\", \"text\": \"\", \"x\": [\"AUSTIN ISD\", \"DEL VALLE ISD\", \"DRIPPING SPRINGS ISD\", \"EANES ISD\", \"GEORGETOWN ISD\", \"HAYS CISD\", \"HUTTO ISD\", \"LAGO VISTA ISD\", \"LAKE TRAVIS ISD\", \"LEANDER ISD\", \"MANOR ISD\", \"PFLUGERVILLE ISD\", \"ROUND ROCK ISD\"], \"y\": [84564.0, 11727.0, 5421.0, 7971.0, 10651.0, 17948.0, 6187.0, 1366.0, 8833.0, 36211.0, 8852.0, 23948.0, 47251.0], \"type\": \"bar\", \"uid\": \"bf7eddc5-78a0-4f07-ad1d-7561ee679600\"}, {\"marker\": {\"color\": \"rgba(101, 101, 101, 0.6)\", \"line\": {\"color\": \"rgba(101, 101, 101, 1.0)\", \"width\": 1}}, \"name\": \"('TOTAL ENROLLMENT', '2015-2016')\", \"orientation\": \"v\", \"text\": \"\", \"x\": [\"AUSTIN ISD\", \"DEL VALLE ISD\", \"DRIPPING SPRINGS ISD\", \"EANES ISD\", \"GEORGETOWN ISD\", \"HAYS CISD\", \"HUTTO ISD\", \"LAGO VISTA ISD\", \"LAKE TRAVIS ISD\", \"LEANDER ISD\", \"MANOR ISD\", \"PFLUGERVILLE ISD\", \"ROUND ROCK ISD\"], \"y\": [83648.0, 11559.0, 5619.0, 8075.0, 10997.0, 18654.0, 6527.0, 1437.0, 9238.0, 37158.0, 8873.0, 24100.0, 47827.0], \"type\": \"bar\", \"uid\": \"1a1dc1d1-70d3-49b9-80ed-f3dfe6acb150\"}, {\"marker\": {\"color\": \"rgba(251, 193, 94, 0.6)\", \"line\": {\"color\": \"rgba(251, 193, 94, 1.0)\", \"width\": 1}}, \"name\": \"('TOTAL ENROLLMENT', '2016-2017')\", \"orientation\": \"v\", \"text\": \"\", \"x\": [\"AUSTIN ISD\", \"DEL VALLE ISD\", \"DRIPPING SPRINGS ISD\", \"EANES ISD\", \"GEORGETOWN ISD\", \"HAYS CISD\", \"HUTTO ISD\", \"LAGO VISTA ISD\", \"LAKE TRAVIS ISD\", \"LEANDER ISD\", \"MANOR ISD\", \"PFLUGERVILLE ISD\", \"ROUND ROCK ISD\"], \"y\": [83067.0, 11278.0, 6008.0, 8134.0, 11425.0, 19215.0, 6945.0, 1449.0, 9825.0, 38226.0, 8870.0, 24591.0, 48321.0], \"type\": \"bar\", \"uid\": \"c0f82ff4-f453-46c2-a4a0-ee5655b0ec54\"}, {\"marker\": {\"color\": \"rgba(142, 186, 66, 0.6)\", \"line\": {\"color\": \"rgba(142, 186, 66, 1.0)\", \"width\": 1}}, \"name\": \"('TOTAL ENROLLMENT', '2017-2018')\", \"orientation\": \"v\", \"text\": \"\", \"x\": [\"AUSTIN ISD\", \"DEL VALLE ISD\", \"DRIPPING SPRINGS ISD\", \"EANES ISD\", \"GEORGETOWN ISD\", \"HAYS CISD\", \"HUTTO ISD\", \"LAGO VISTA ISD\", \"LAKE TRAVIS ISD\", \"LEANDER ISD\", \"MANOR ISD\", \"PFLUGERVILLE ISD\", \"ROUND ROCK ISD\"], \"y\": [81650.0, 11216.0, 6450.0, 8061.0, 11537.0, 19862.0, 7240.0, 1475.0, 10410.0, 39028.0, 9109.0, 25306.0, 49086.0], \"type\": \"bar\", \"uid\": \"d0464e83-c1a8-4094-98d5-842eb1b6db7b\"}, {\"marker\": {\"color\": \"rgba(255, 181, 184, 0.6)\", \"line\": {\"color\": \"rgba(255, 181, 184, 1.0)\", \"width\": 1}}, \"name\": \"('TOTAL ENROLLMENT', '2018-2019')\", \"orientation\": \"v\", \"text\": \"\", \"x\": [\"AUSTIN ISD\", \"DEL VALLE ISD\", \"DRIPPING SPRINGS ISD\", \"EANES ISD\", \"GEORGETOWN ISD\", \"HAYS CISD\", \"HUTTO ISD\", \"LAGO VISTA ISD\", \"LAKE TRAVIS ISD\", \"LEANDER ISD\", \"MANOR ISD\", \"PFLUGERVILLE ISD\", \"ROUND ROCK ISD\"], \"y\": [80032.0, 10870.0, 6873.0, 8132.0, 11759.0, 19925.0, 7592.0, 1530.0, 10738.0, 40031.0, 9463.0, 25405.0, 50387.0], \"type\": \"bar\", \"uid\": \"fbc5fb21-86c3-4b2f-933c-0fe839c9365a\"}], {\"legend\": {\"bgcolor\": \"#FFFFFF\", \"font\": {\"color\": \"#666666\"}}, \"paper_bgcolor\": \"#FFFFFF\", \"plot_bgcolor\": \"#E5E5E5\", \"title\": {\"text\": \"Autin Area ISDs\", \"font\": {\"color\": \"#151516\"}}, \"xaxis\": {\"gridcolor\": \"#F6F6F6\", \"showgrid\": true, \"tickfont\": {\"color\": \"#666666\"}, \"title\": {\"text\": \"\", \"font\": {\"color\": \"#666666\"}}, \"zerolinecolor\": \"#F6F6F6\"}, \"yaxis\": {\"gridcolor\": \"#F6F6F6\", \"showgrid\": true, \"tickfont\": {\"color\": \"#666666\"}, \"title\": {\"text\": \"\", \"font\": {\"color\": \"#666666\"}}, \"zerolinecolor\": \"#F6F6F6\"}}, {\"showLink\": true, \"linkText\": \"Export to plot.ly\", \"plotlyServerURL\": \"https://plot.ly\"})});</script><script type=\"text/javascript\">window.addEventListener(\"resize\", function(){window._Plotly.Plots.resize(document.getElementById(\"9c9e4257-da10-49ec-98bf-b0cd9011eb8a\"));});</script>"
      ]
     },
     "metadata": {},
     "output_type": "display_data"
    }
   ],
   "source": [
    "#Plot enrollments of all Austin area I\n",
    "wk_pivot = wk_plot.pivot(index='DISTRICT NAME', columns='YEAR')\n",
    "cf.set_config_file(offline=True, world_readable=False, theme='ggplot')\n",
    "wk_pivot.iplot(kind='bar',title='Autin Area ISDs')"
   ]
  },
  {
   "cell_type": "code",
   "execution_count": 18,
   "metadata": {
    "collapsed": true
   },
   "outputs": [],
   "source": [
    "t1_plot = aus_area_df.groupby([\"DISTRICT NAME\", \"YEAR\"])['TOTAL TITLE I STUDENTS'].mean().reset_index()"
   ]
  },
  {
   "cell_type": "code",
   "execution_count": 19,
   "metadata": {},
   "outputs": [
    {
     "name": "stderr",
     "output_type": "stream",
     "text": [
      "IOPub data rate exceeded.\n",
      "The notebook server will temporarily stop sending output\n",
      "to the client in order to avoid crashing it.\n",
      "To change this limit, set the config variable\n",
      "`--NotebookApp.iopub_data_rate_limit`.\n"
     ]
    },
    {
     "data": {
      "application/vnd.plotly.v1+json": {
       "config": {
        "linkText": "Export to plot.ly",
        "plotlyServerURL": "https://plot.ly",
        "showLink": true
       },
       "data": [
        {
         "marker": {
          "color": "rgba(226, 74, 51, 0.6)",
          "line": {
           "color": "rgba(226, 74, 51, 1.0)",
           "width": 1
          }
         },
         "name": "('TOTAL TITLE I STUDENTS', '2012-2013')",
         "orientation": "v",
         "text": "",
         "type": "bar",
         "uid": "2e49c819-aecd-497c-825c-6511d797cf12",
         "x": [
          "AUSTIN ISD",
          "DEL VALLE ISD",
          "DRIPPING SPRINGS ISD",
          "EANES ISD",
          "GEORGETOWN ISD",
          "HAYS CISD",
          "HUTTO ISD",
          "LAGO VISTA ISD",
          "LAKE TRAVIS ISD",
          "LEANDER ISD",
          "MANOR ISD",
          "PFLUGERVILLE ISD",
          "ROUND ROCK ISD"
         ],
         "y": [
          43098,
          8551,
          1580,
          85,
          5488,
          9042,
          3059,
          86,
          1062,
          2788,
          4636,
          12656,
          8647
         ]
        },
        {
         "marker": {
          "color": "rgba(62, 111, 176, 0.6)",
          "line": {
           "color": "rgba(62, 111, 176, 1.0)",
           "width": 1
          }
         },
         "name": "('TOTAL TITLE I STUDENTS', '2013-2014')",
         "orientation": "v",
         "text": "",
         "type": "bar",
         "uid": "626d902e-4f0a-4f6e-a625-9b49bf60a2e2",
         "x": [
          "AUSTIN ISD",
          "DEL VALLE ISD",
          "DRIPPING SPRINGS ISD",
          "EANES ISD",
          "GEORGETOWN ISD",
          "HAYS CISD",
          "HUTTO ISD",
          "LAGO VISTA ISD",
          "LAKE TRAVIS ISD",
          "LEANDER ISD",
          "MANOR ISD",
          "PFLUGERVILLE ISD",
          "ROUND ROCK ISD"
         ],
         "y": [
          41817,
          8754,
          1669,
          97,
          3398,
          9371,
          4375,
          98,
          318,
          2734,
          4909,
          12635,
          9164
         ]
        },
        {
         "marker": {
          "color": "rgba(132, 118, 202, 0.6)",
          "line": {
           "color": "rgba(132, 118, 202, 1.0)",
           "width": 1
          }
         },
         "name": "('TOTAL TITLE I STUDENTS', '2014-2015')",
         "orientation": "v",
         "text": "",
         "type": "bar",
         "uid": "582d6ee9-31bf-4a32-b7d3-e883a1d4cf21",
         "x": [
          "AUSTIN ISD",
          "DEL VALLE ISD",
          "DRIPPING SPRINGS ISD",
          "EANES ISD",
          "GEORGETOWN ISD",
          "HAYS CISD",
          "HUTTO ISD",
          "LAGO VISTA ISD",
          "LAKE TRAVIS ISD",
          "LEANDER ISD",
          "MANOR ISD",
          "PFLUGERVILLE ISD",
          "ROUND ROCK ISD"
         ],
         "y": [
          40307,
          906,
          1778,
          175,
          3435,
          10172,
          4515,
          77,
          1046,
          2784,
          4927,
          15202,
          11555
         ]
        },
        {
         "marker": {
          "color": "rgba(101, 101, 101, 0.6)",
          "line": {
           "color": "rgba(101, 101, 101, 1.0)",
           "width": 1
          }
         },
         "name": "('TOTAL TITLE I STUDENTS', '2015-2016')",
         "orientation": "v",
         "text": "",
         "type": "bar",
         "uid": "828b387e-c798-4795-8b98-decab5aca947",
         "x": [
          "AUSTIN ISD",
          "DEL VALLE ISD",
          "DRIPPING SPRINGS ISD",
          "EANES ISD",
          "GEORGETOWN ISD",
          "HAYS CISD",
          "HUTTO ISD",
          "LAGO VISTA ISD",
          "LAKE TRAVIS ISD",
          "LEANDER ISD",
          "MANOR ISD",
          "PFLUGERVILLE ISD",
          "ROUND ROCK ISD"
         ],
         "y": [
          45120,
          11358,
          1822,
          67,
          3359,
          10392,
          4748,
          75,
          1065,
          3994,
          5004,
          14958,
          11357
         ]
        },
        {
         "marker": {
          "color": "rgba(251, 193, 94, 0.6)",
          "line": {
           "color": "rgba(251, 193, 94, 1.0)",
           "width": 1
          }
         },
         "name": "('TOTAL TITLE I STUDENTS', '2016-2017')",
         "orientation": "v",
         "text": "",
         "type": "bar",
         "uid": "433cba11-23d7-4adf-8da9-543a7c2c33b4",
         "x": [
          "AUSTIN ISD",
          "DEL VALLE ISD",
          "DRIPPING SPRINGS ISD",
          "EANES ISD",
          "GEORGETOWN ISD",
          "HAYS CISD",
          "HUTTO ISD",
          "LAGO VISTA ISD",
          "LAKE TRAVIS ISD",
          "LEANDER ISD",
          "MANOR ISD",
          "PFLUGERVILLE ISD",
          "ROUND ROCK ISD"
         ],
         "y": [
          44375,
          11123,
          1885,
          145,
          2293,
          9647,
          5039,
          87,
          1069,
          4262,
          4895,
          17531,
          10046
         ]
        },
        {
         "marker": {
          "color": "rgba(142, 186, 66, 0.6)",
          "line": {
           "color": "rgba(142, 186, 66, 1.0)",
           "width": 1
          }
         },
         "name": "('TOTAL TITLE I STUDENTS', '2017-2018')",
         "orientation": "v",
         "text": "",
         "type": "bar",
         "uid": "2c4e267a-046a-47a6-858e-f6ce88a447bc",
         "x": [
          "AUSTIN ISD",
          "DEL VALLE ISD",
          "DRIPPING SPRINGS ISD",
          "EANES ISD",
          "GEORGETOWN ISD",
          "HAYS CISD",
          "HUTTO ISD",
          "LAGO VISTA ISD",
          "LAKE TRAVIS ISD",
          "LEANDER ISD",
          "MANOR ISD",
          "PFLUGERVILLE ISD",
          "ROUND ROCK ISD"
         ],
         "y": [
          42378,
          11010,
          1486,
          143,
          4107,
          10468,
          5250,
          120,
          1082,
          4250,
          4945,
          17936,
          10686
         ]
        },
        {
         "marker": {
          "color": "rgba(255, 181, 184, 0.6)",
          "line": {
           "color": "rgba(255, 181, 184, 1.0)",
           "width": 1
          }
         },
         "name": "('TOTAL TITLE I STUDENTS', '2018-2019')",
         "orientation": "v",
         "text": "",
         "type": "bar",
         "uid": "8cbc1050-77ba-44e0-9ddc-e7d1aad5204e",
         "x": [
          "AUSTIN ISD",
          "DEL VALLE ISD",
          "DRIPPING SPRINGS ISD",
          "EANES ISD",
          "GEORGETOWN ISD",
          "HAYS CISD",
          "HUTTO ISD",
          "LAGO VISTA ISD",
          "LAKE TRAVIS ISD",
          "LEANDER ISD",
          "MANOR ISD",
          "PFLUGERVILLE ISD",
          "ROUND ROCK ISD"
         ],
         "y": [
          40203,
          10696,
          1567,
          182,
          4126,
          10316,
          4749,
          101,
          1170,
          7681,
          4909,
          18746,
          11189
         ]
        }
       ],
       "layout": {
        "legend": {
         "bgcolor": "#FFFFFF",
         "font": {
          "color": "#666666"
         }
        },
        "paper_bgcolor": "#FFFFFF",
        "plot_bgcolor": "#E5E5E5",
        "title": {
         "font": {
          "color": "#151516"
         },
         "text": "Autin Area ISDs Title 1 Status"
        },
        "xaxis": {
         "gridcolor": "#F6F6F6",
         "showgrid": true,
         "tickfont": {
          "color": "#666666"
         },
         "title": {
          "font": {
           "color": "#666666"
          },
          "text": ""
         },
         "zerolinecolor": "#F6F6F6"
        },
        "yaxis": {
         "gridcolor": "#F6F6F6",
         "showgrid": true,
         "tickfont": {
          "color": "#666666"
         },
         "title": {
          "font": {
           "color": "#666666"
          },
          "text": ""
         },
         "zerolinecolor": "#F6F6F6"
        }
       }
      },
      "text/html": [
       "<div id=\"c478ce26-d217-4e48-bb2c-79d5b057dc2b\" style=\"height: 525px; width: 100%;\" class=\"plotly-graph-div\"></div><script type=\"text/javascript\">require([\"plotly\"], function(Plotly) { window.PLOTLYENV=window.PLOTLYENV || {};window.PLOTLYENV.BASE_URL=\"https://plot.ly\";Plotly.newPlot(\"c478ce26-d217-4e48-bb2c-79d5b057dc2b\", [{\"marker\": {\"color\": \"rgba(226, 74, 51, 0.6)\", \"line\": {\"color\": \"rgba(226, 74, 51, 1.0)\", \"width\": 1}}, \"name\": \"('TOTAL TITLE I STUDENTS', '2012-2013')\", \"orientation\": \"v\", \"text\": \"\", \"x\": [\"AUSTIN ISD\", \"DEL VALLE ISD\", \"DRIPPING SPRINGS ISD\", \"EANES ISD\", \"GEORGETOWN ISD\", \"HAYS CISD\", \"HUTTO ISD\", \"LAGO VISTA ISD\", \"LAKE TRAVIS ISD\", \"LEANDER ISD\", \"MANOR ISD\", \"PFLUGERVILLE ISD\", \"ROUND ROCK ISD\"], \"y\": [43098.0, 8551.0, 1580.0, 85.0, 5488.0, 9042.0, 3059.0, 86.0, 1062.0, 2788.0, 4636.0, 12656.0, 8647.0], \"type\": \"bar\", \"uid\": \"6b57373b-94d3-4f71-893c-e3872e2ea7c9\"}, {\"marker\": {\"color\": \"rgba(62, 111, 176, 0.6)\", \"line\": {\"color\": \"rgba(62, 111, 176, 1.0)\", \"width\": 1}}, \"name\": \"('TOTAL TITLE I STUDENTS', '2013-2014')\", \"orientation\": \"v\", \"text\": \"\", \"x\": [\"AUSTIN ISD\", \"DEL VALLE ISD\", \"DRIPPING SPRINGS ISD\", \"EANES ISD\", \"GEORGETOWN ISD\", \"HAYS CISD\", \"HUTTO ISD\", \"LAGO VISTA ISD\", \"LAKE TRAVIS ISD\", \"LEANDER ISD\", \"MANOR ISD\", \"PFLUGERVILLE ISD\", \"ROUND ROCK ISD\"], \"y\": [41817.0, 8754.0, 1669.0, 97.0, 3398.0, 9371.0, 4375.0, 98.0, 318.0, 2734.0, 4909.0, 12635.0, 9164.0], \"type\": \"bar\", \"uid\": \"0f6e58e2-cee6-4b02-a82b-9ecf784b75b4\"}, {\"marker\": {\"color\": \"rgba(132, 118, 202, 0.6)\", \"line\": {\"color\": \"rgba(132, 118, 202, 1.0)\", \"width\": 1}}, \"name\": \"('TOTAL TITLE I STUDENTS', '2014-2015')\", \"orientation\": \"v\", \"text\": \"\", \"x\": [\"AUSTIN ISD\", \"DEL VALLE ISD\", \"DRIPPING SPRINGS ISD\", \"EANES ISD\", \"GEORGETOWN ISD\", \"HAYS CISD\", \"HUTTO ISD\", \"LAGO VISTA ISD\", \"LAKE TRAVIS ISD\", \"LEANDER ISD\", \"MANOR ISD\", \"PFLUGERVILLE ISD\", \"ROUND ROCK ISD\"], \"y\": [40307.0, 906.0, 1778.0, 175.0, 3435.0, 10172.0, 4515.0, 77.0, 1046.0, 2784.0, 4927.0, 15202.0, 11555.0], \"type\": \"bar\", \"uid\": \"fef59eee-b3aa-468f-8e42-3a2766a28d8e\"}, {\"marker\": {\"color\": \"rgba(101, 101, 101, 0.6)\", \"line\": {\"color\": \"rgba(101, 101, 101, 1.0)\", \"width\": 1}}, \"name\": \"('TOTAL TITLE I STUDENTS', '2015-2016')\", \"orientation\": \"v\", \"text\": \"\", \"x\": [\"AUSTIN ISD\", \"DEL VALLE ISD\", \"DRIPPING SPRINGS ISD\", \"EANES ISD\", \"GEORGETOWN ISD\", \"HAYS CISD\", \"HUTTO ISD\", \"LAGO VISTA ISD\", \"LAKE TRAVIS ISD\", \"LEANDER ISD\", \"MANOR ISD\", \"PFLUGERVILLE ISD\", \"ROUND ROCK ISD\"], \"y\": [45120.0, 11358.0, 1822.0, 67.0, 3359.0, 10392.0, 4748.0, 75.0, 1065.0, 3994.0, 5004.0, 14958.0, 11357.0], \"type\": \"bar\", \"uid\": \"0bb1f3f6-f369-4ad9-a17a-4f7b72b610e7\"}, {\"marker\": {\"color\": \"rgba(251, 193, 94, 0.6)\", \"line\": {\"color\": \"rgba(251, 193, 94, 1.0)\", \"width\": 1}}, \"name\": \"('TOTAL TITLE I STUDENTS', '2016-2017')\", \"orientation\": \"v\", \"text\": \"\", \"x\": [\"AUSTIN ISD\", \"DEL VALLE ISD\", \"DRIPPING SPRINGS ISD\", \"EANES ISD\", \"GEORGETOWN ISD\", \"HAYS CISD\", \"HUTTO ISD\", \"LAGO VISTA ISD\", \"LAKE TRAVIS ISD\", \"LEANDER ISD\", \"MANOR ISD\", \"PFLUGERVILLE ISD\", \"ROUND ROCK ISD\"], \"y\": [44375.0, 11123.0, 1885.0, 145.0, 2293.0, 9647.0, 5039.0, 87.0, 1069.0, 4262.0, 4895.0, 17531.0, 10046.0], \"type\": \"bar\", \"uid\": \"5bf0c634-0a98-4eda-8361-ad75736fe8b0\"}, {\"marker\": {\"color\": \"rgba(142, 186, 66, 0.6)\", \"line\": {\"color\": \"rgba(142, 186, 66, 1.0)\", \"width\": 1}}, \"name\": \"('TOTAL TITLE I STUDENTS', '2017-2018')\", \"orientation\": \"v\", \"text\": \"\", \"x\": [\"AUSTIN ISD\", \"DEL VALLE ISD\", \"DRIPPING SPRINGS ISD\", \"EANES ISD\", \"GEORGETOWN ISD\", \"HAYS CISD\", \"HUTTO ISD\", \"LAGO VISTA ISD\", \"LAKE TRAVIS ISD\", \"LEANDER ISD\", \"MANOR ISD\", \"PFLUGERVILLE ISD\", \"ROUND ROCK ISD\"], \"y\": [42378.0, 11010.0, 1486.0, 143.0, 4107.0, 10468.0, 5250.0, 120.0, 1082.0, 4250.0, 4945.0, 17936.0, 10686.0], \"type\": \"bar\", \"uid\": \"3c370f83-f90d-4139-9306-86f870a24912\"}, {\"marker\": {\"color\": \"rgba(255, 181, 184, 0.6)\", \"line\": {\"color\": \"rgba(255, 181, 184, 1.0)\", \"width\": 1}}, \"name\": \"('TOTAL TITLE I STUDENTS', '2018-2019')\", \"orientation\": \"v\", \"text\": \"\", \"x\": [\"AUSTIN ISD\", \"DEL VALLE ISD\", \"DRIPPING SPRINGS ISD\", \"EANES ISD\", \"GEORGETOWN ISD\", \"HAYS CISD\", \"HUTTO ISD\", \"LAGO VISTA ISD\", \"LAKE TRAVIS ISD\", \"LEANDER ISD\", \"MANOR ISD\", \"PFLUGERVILLE ISD\", \"ROUND ROCK ISD\"], \"y\": [40203.0, 10696.0, 1567.0, 182.0, 4126.0, 10316.0, 4749.0, 101.0, 1170.0, 7681.0, 4909.0, 18746.0, 11189.0], \"type\": \"bar\", \"uid\": \"1e7d3ffd-505e-49c1-a050-ddbcfc5552b0\"}], {\"legend\": {\"bgcolor\": \"#FFFFFF\", \"font\": {\"color\": \"#666666\"}}, \"paper_bgcolor\": \"#FFFFFF\", \"plot_bgcolor\": \"#E5E5E5\", \"title\": {\"text\": \"Autin Area ISDs Title 1 Status\", \"font\": {\"color\": \"#151516\"}}, \"xaxis\": {\"gridcolor\": \"#F6F6F6\", \"showgrid\": true, \"tickfont\": {\"color\": \"#666666\"}, \"title\": {\"text\": \"\", \"font\": {\"color\": \"#666666\"}}, \"zerolinecolor\": \"#F6F6F6\"}, \"yaxis\": {\"gridcolor\": \"#F6F6F6\", \"showgrid\": true, \"tickfont\": {\"color\": \"#666666\"}, \"title\": {\"text\": \"\", \"font\": {\"color\": \"#666666\"}}, \"zerolinecolor\": \"#F6F6F6\"}}, {\"showLink\": true, \"linkText\": \"Export to plot.ly\", \"plotlyServerURL\": \"https://plot.ly\"})});</script><script type=\"text/javascript\">window.addEventListener(\"resize\", function(){window._Plotly.Plots.resize(document.getElementById(\"c478ce26-d217-4e48-bb2c-79d5b057dc2b\"));});</script>"
      ],
      "text/vnd.plotly.v1+html": [
       "<div id=\"c478ce26-d217-4e48-bb2c-79d5b057dc2b\" style=\"height: 525px; width: 100%;\" class=\"plotly-graph-div\"></div><script type=\"text/javascript\">require([\"plotly\"], function(Plotly) { window.PLOTLYENV=window.PLOTLYENV || {};window.PLOTLYENV.BASE_URL=\"https://plot.ly\";Plotly.newPlot(\"c478ce26-d217-4e48-bb2c-79d5b057dc2b\", [{\"marker\": {\"color\": \"rgba(226, 74, 51, 0.6)\", \"line\": {\"color\": \"rgba(226, 74, 51, 1.0)\", \"width\": 1}}, \"name\": \"('TOTAL TITLE I STUDENTS', '2012-2013')\", \"orientation\": \"v\", \"text\": \"\", \"x\": [\"AUSTIN ISD\", \"DEL VALLE ISD\", \"DRIPPING SPRINGS ISD\", \"EANES ISD\", \"GEORGETOWN ISD\", \"HAYS CISD\", \"HUTTO ISD\", \"LAGO VISTA ISD\", \"LAKE TRAVIS ISD\", \"LEANDER ISD\", \"MANOR ISD\", \"PFLUGERVILLE ISD\", \"ROUND ROCK ISD\"], \"y\": [43098.0, 8551.0, 1580.0, 85.0, 5488.0, 9042.0, 3059.0, 86.0, 1062.0, 2788.0, 4636.0, 12656.0, 8647.0], \"type\": \"bar\", \"uid\": \"6b57373b-94d3-4f71-893c-e3872e2ea7c9\"}, {\"marker\": {\"color\": \"rgba(62, 111, 176, 0.6)\", \"line\": {\"color\": \"rgba(62, 111, 176, 1.0)\", \"width\": 1}}, \"name\": \"('TOTAL TITLE I STUDENTS', '2013-2014')\", \"orientation\": \"v\", \"text\": \"\", \"x\": [\"AUSTIN ISD\", \"DEL VALLE ISD\", \"DRIPPING SPRINGS ISD\", \"EANES ISD\", \"GEORGETOWN ISD\", \"HAYS CISD\", \"HUTTO ISD\", \"LAGO VISTA ISD\", \"LAKE TRAVIS ISD\", \"LEANDER ISD\", \"MANOR ISD\", \"PFLUGERVILLE ISD\", \"ROUND ROCK ISD\"], \"y\": [41817.0, 8754.0, 1669.0, 97.0, 3398.0, 9371.0, 4375.0, 98.0, 318.0, 2734.0, 4909.0, 12635.0, 9164.0], \"type\": \"bar\", \"uid\": \"0f6e58e2-cee6-4b02-a82b-9ecf784b75b4\"}, {\"marker\": {\"color\": \"rgba(132, 118, 202, 0.6)\", \"line\": {\"color\": \"rgba(132, 118, 202, 1.0)\", \"width\": 1}}, \"name\": \"('TOTAL TITLE I STUDENTS', '2014-2015')\", \"orientation\": \"v\", \"text\": \"\", \"x\": [\"AUSTIN ISD\", \"DEL VALLE ISD\", \"DRIPPING SPRINGS ISD\", \"EANES ISD\", \"GEORGETOWN ISD\", \"HAYS CISD\", \"HUTTO ISD\", \"LAGO VISTA ISD\", \"LAKE TRAVIS ISD\", \"LEANDER ISD\", \"MANOR ISD\", \"PFLUGERVILLE ISD\", \"ROUND ROCK ISD\"], \"y\": [40307.0, 906.0, 1778.0, 175.0, 3435.0, 10172.0, 4515.0, 77.0, 1046.0, 2784.0, 4927.0, 15202.0, 11555.0], \"type\": \"bar\", \"uid\": \"fef59eee-b3aa-468f-8e42-3a2766a28d8e\"}, {\"marker\": {\"color\": \"rgba(101, 101, 101, 0.6)\", \"line\": {\"color\": \"rgba(101, 101, 101, 1.0)\", \"width\": 1}}, \"name\": \"('TOTAL TITLE I STUDENTS', '2015-2016')\", \"orientation\": \"v\", \"text\": \"\", \"x\": [\"AUSTIN ISD\", \"DEL VALLE ISD\", \"DRIPPING SPRINGS ISD\", \"EANES ISD\", \"GEORGETOWN ISD\", \"HAYS CISD\", \"HUTTO ISD\", \"LAGO VISTA ISD\", \"LAKE TRAVIS ISD\", \"LEANDER ISD\", \"MANOR ISD\", \"PFLUGERVILLE ISD\", \"ROUND ROCK ISD\"], \"y\": [45120.0, 11358.0, 1822.0, 67.0, 3359.0, 10392.0, 4748.0, 75.0, 1065.0, 3994.0, 5004.0, 14958.0, 11357.0], \"type\": \"bar\", \"uid\": \"0bb1f3f6-f369-4ad9-a17a-4f7b72b610e7\"}, {\"marker\": {\"color\": \"rgba(251, 193, 94, 0.6)\", \"line\": {\"color\": \"rgba(251, 193, 94, 1.0)\", \"width\": 1}}, \"name\": \"('TOTAL TITLE I STUDENTS', '2016-2017')\", \"orientation\": \"v\", \"text\": \"\", \"x\": [\"AUSTIN ISD\", \"DEL VALLE ISD\", \"DRIPPING SPRINGS ISD\", \"EANES ISD\", \"GEORGETOWN ISD\", \"HAYS CISD\", \"HUTTO ISD\", \"LAGO VISTA ISD\", \"LAKE TRAVIS ISD\", \"LEANDER ISD\", \"MANOR ISD\", \"PFLUGERVILLE ISD\", \"ROUND ROCK ISD\"], \"y\": [44375.0, 11123.0, 1885.0, 145.0, 2293.0, 9647.0, 5039.0, 87.0, 1069.0, 4262.0, 4895.0, 17531.0, 10046.0], \"type\": \"bar\", \"uid\": \"5bf0c634-0a98-4eda-8361-ad75736fe8b0\"}, {\"marker\": {\"color\": \"rgba(142, 186, 66, 0.6)\", \"line\": {\"color\": \"rgba(142, 186, 66, 1.0)\", \"width\": 1}}, \"name\": \"('TOTAL TITLE I STUDENTS', '2017-2018')\", \"orientation\": \"v\", \"text\": \"\", \"x\": [\"AUSTIN ISD\", \"DEL VALLE ISD\", \"DRIPPING SPRINGS ISD\", \"EANES ISD\", \"GEORGETOWN ISD\", \"HAYS CISD\", \"HUTTO ISD\", \"LAGO VISTA ISD\", \"LAKE TRAVIS ISD\", \"LEANDER ISD\", \"MANOR ISD\", \"PFLUGERVILLE ISD\", \"ROUND ROCK ISD\"], \"y\": [42378.0, 11010.0, 1486.0, 143.0, 4107.0, 10468.0, 5250.0, 120.0, 1082.0, 4250.0, 4945.0, 17936.0, 10686.0], \"type\": \"bar\", \"uid\": \"3c370f83-f90d-4139-9306-86f870a24912\"}, {\"marker\": {\"color\": \"rgba(255, 181, 184, 0.6)\", \"line\": {\"color\": \"rgba(255, 181, 184, 1.0)\", \"width\": 1}}, \"name\": \"('TOTAL TITLE I STUDENTS', '2018-2019')\", \"orientation\": \"v\", \"text\": \"\", \"x\": [\"AUSTIN ISD\", \"DEL VALLE ISD\", \"DRIPPING SPRINGS ISD\", \"EANES ISD\", \"GEORGETOWN ISD\", \"HAYS CISD\", \"HUTTO ISD\", \"LAGO VISTA ISD\", \"LAKE TRAVIS ISD\", \"LEANDER ISD\", \"MANOR ISD\", \"PFLUGERVILLE ISD\", \"ROUND ROCK ISD\"], \"y\": [40203.0, 10696.0, 1567.0, 182.0, 4126.0, 10316.0, 4749.0, 101.0, 1170.0, 7681.0, 4909.0, 18746.0, 11189.0], \"type\": \"bar\", \"uid\": \"1e7d3ffd-505e-49c1-a050-ddbcfc5552b0\"}], {\"legend\": {\"bgcolor\": \"#FFFFFF\", \"font\": {\"color\": \"#666666\"}}, \"paper_bgcolor\": \"#FFFFFF\", \"plot_bgcolor\": \"#E5E5E5\", \"title\": {\"text\": \"Autin Area ISDs Title 1 Status\", \"font\": {\"color\": \"#151516\"}}, \"xaxis\": {\"gridcolor\": \"#F6F6F6\", \"showgrid\": true, \"tickfont\": {\"color\": \"#666666\"}, \"title\": {\"text\": \"\", \"font\": {\"color\": \"#666666\"}}, \"zerolinecolor\": \"#F6F6F6\"}, \"yaxis\": {\"gridcolor\": \"#F6F6F6\", \"showgrid\": true, \"tickfont\": {\"color\": \"#666666\"}, \"title\": {\"text\": \"\", \"font\": {\"color\": \"#666666\"}}, \"zerolinecolor\": \"#F6F6F6\"}}, {\"showLink\": true, \"linkText\": \"Export to plot.ly\", \"plotlyServerURL\": \"https://plot.ly\"})});</script><script type=\"text/javascript\">window.addEventListener(\"resize\", function(){window._Plotly.Plots.resize(document.getElementById(\"c478ce26-d217-4e48-bb2c-79d5b057dc2b\"));});</script>"
      ]
     },
     "metadata": {},
     "output_type": "display_data"
    }
   ],
   "source": [
    "t1_pivot = t1_plot.pivot(index='DISTRICT NAME', columns='YEAR')\n",
    "cf.set_config_file(offline=True, world_readable=False, theme='ggplot')\n",
    "t1_pivot.iplot(kind='bar',title='Autin Area ISDs Title 1 Status')"
   ]
  },
  {
   "cell_type": "code",
   "execution_count": 20,
   "metadata": {
    "collapsed": true
   },
   "outputs": [],
   "source": [
    "t1_pct_plot = aus_area_df.groupby([\"DISTRICT NAME\", \"YEAR\"])['PCT_T1'].mean().reset_index()"
   ]
  },
  {
   "cell_type": "code",
   "execution_count": 21,
   "metadata": {},
   "outputs": [
    {
     "name": "stderr",
     "output_type": "stream",
     "text": [
      "IOPub data rate exceeded.\n",
      "The notebook server will temporarily stop sending output\n",
      "to the client in order to avoid crashing it.\n",
      "To change this limit, set the config variable\n",
      "`--NotebookApp.iopub_data_rate_limit`.\n"
     ]
    },
    {
     "data": {
      "application/vnd.plotly.v1+json": {
       "config": {
        "linkText": "Export to plot.ly",
        "plotlyServerURL": "https://plot.ly",
        "showLink": true
       },
       "data": [
        {
         "marker": {
          "color": "rgba(226, 74, 51, 0.6)",
          "line": {
           "color": "rgba(226, 74, 51, 1.0)",
           "width": 1
          }
         },
         "name": "('PCT_T1', '2012-2013')",
         "orientation": "v",
         "text": "",
         "type": "bar",
         "uid": "32e70d6d-baf7-47b0-828f-8c16a7c8020a",
         "x": [
          "AUSTIN ISD",
          "DEL VALLE ISD",
          "DRIPPING SPRINGS ISD",
          "EANES ISD",
          "GEORGETOWN ISD",
          "HAYS CISD",
          "HUTTO ISD",
          "LAGO VISTA ISD",
          "LAKE TRAVIS ISD",
          "LEANDER ISD",
          "MANOR ISD",
          "PFLUGERVILLE ISD",
          "ROUND ROCK ISD"
         ],
         "y": [
          50,
          75,
          33,
          1,
          53,
          55,
          53,
          6,
          14,
          8,
          57,
          54,
          19
         ]
        },
        {
         "marker": {
          "color": "rgba(62, 111, 176, 0.6)",
          "line": {
           "color": "rgba(62, 111, 176, 1.0)",
           "width": 1
          }
         },
         "name": "('PCT_T1', '2013-2014')",
         "orientation": "v",
         "text": "",
         "type": "bar",
         "uid": "db30a71d-18c6-446f-befb-9099810f7a7f",
         "x": [
          "AUSTIN ISD",
          "DEL VALLE ISD",
          "DRIPPING SPRINGS ISD",
          "EANES ISD",
          "GEORGETOWN ISD",
          "HAYS CISD",
          "HUTTO ISD",
          "LAGO VISTA ISD",
          "LAKE TRAVIS ISD",
          "LEANDER ISD",
          "MANOR ISD",
          "PFLUGERVILLE ISD",
          "ROUND ROCK ISD"
         ],
         "y": [
          49,
          75,
          33,
          1,
          32,
          54,
          74,
          7,
          4,
          8,
          57,
          54,
          20
         ]
        },
        {
         "marker": {
          "color": "rgba(132, 118, 202, 0.6)",
          "line": {
           "color": "rgba(132, 118, 202, 1.0)",
           "width": 1
          }
         },
         "name": "('PCT_T1', '2014-2015')",
         "orientation": "v",
         "text": "",
         "type": "bar",
         "uid": "f62c6a69-743c-4b3f-907d-552ebd4c44fc",
         "x": [
          "AUSTIN ISD",
          "DEL VALLE ISD",
          "DRIPPING SPRINGS ISD",
          "EANES ISD",
          "GEORGETOWN ISD",
          "HAYS CISD",
          "HUTTO ISD",
          "LAGO VISTA ISD",
          "LAKE TRAVIS ISD",
          "LEANDER ISD",
          "MANOR ISD",
          "PFLUGERVILLE ISD",
          "ROUND ROCK ISD"
         ],
         "y": [
          48,
          8,
          33,
          2,
          32,
          57,
          73,
          6,
          12,
          8,
          56,
          63,
          24
         ]
        },
        {
         "marker": {
          "color": "rgba(101, 101, 101, 0.6)",
          "line": {
           "color": "rgba(101, 101, 101, 1.0)",
           "width": 1
          }
         },
         "name": "('PCT_T1', '2015-2016')",
         "orientation": "v",
         "text": "",
         "type": "bar",
         "uid": "b368f751-3384-4d59-a051-f1d4273a0c18",
         "x": [
          "AUSTIN ISD",
          "DEL VALLE ISD",
          "DRIPPING SPRINGS ISD",
          "EANES ISD",
          "GEORGETOWN ISD",
          "HAYS CISD",
          "HUTTO ISD",
          "LAGO VISTA ISD",
          "LAKE TRAVIS ISD",
          "LEANDER ISD",
          "MANOR ISD",
          "PFLUGERVILLE ISD",
          "ROUND ROCK ISD"
         ],
         "y": [
          54,
          98,
          32,
          1,
          31,
          56,
          73,
          5,
          12,
          11,
          56,
          62,
          24
         ]
        },
        {
         "marker": {
          "color": "rgba(251, 193, 94, 0.6)",
          "line": {
           "color": "rgba(251, 193, 94, 1.0)",
           "width": 1
          }
         },
         "name": "('PCT_T1', '2016-2017')",
         "orientation": "v",
         "text": "",
         "type": "bar",
         "uid": "4c4b7171-8a07-45ba-b364-1933f78b52cd",
         "x": [
          "AUSTIN ISD",
          "DEL VALLE ISD",
          "DRIPPING SPRINGS ISD",
          "EANES ISD",
          "GEORGETOWN ISD",
          "HAYS CISD",
          "HUTTO ISD",
          "LAGO VISTA ISD",
          "LAKE TRAVIS ISD",
          "LEANDER ISD",
          "MANOR ISD",
          "PFLUGERVILLE ISD",
          "ROUND ROCK ISD"
         ],
         "y": [
          53,
          99,
          31,
          2,
          20,
          50,
          73,
          6,
          11,
          11,
          55,
          71,
          21
         ]
        },
        {
         "marker": {
          "color": "rgba(142, 186, 66, 0.6)",
          "line": {
           "color": "rgba(142, 186, 66, 1.0)",
           "width": 1
          }
         },
         "name": "('PCT_T1', '2017-2018')",
         "orientation": "v",
         "text": "",
         "type": "bar",
         "uid": "7b0a3384-2aa6-4dfc-9832-efcfe1dc46a9",
         "x": [
          "AUSTIN ISD",
          "DEL VALLE ISD",
          "DRIPPING SPRINGS ISD",
          "EANES ISD",
          "GEORGETOWN ISD",
          "HAYS CISD",
          "HUTTO ISD",
          "LAGO VISTA ISD",
          "LAKE TRAVIS ISD",
          "LEANDER ISD",
          "MANOR ISD",
          "PFLUGERVILLE ISD",
          "ROUND ROCK ISD"
         ],
         "y": [
          52,
          98,
          23,
          2,
          36,
          53,
          73,
          8,
          10,
          11,
          54,
          71,
          22
         ]
        },
        {
         "marker": {
          "color": "rgba(255, 181, 184, 0.6)",
          "line": {
           "color": "rgba(255, 181, 184, 1.0)",
           "width": 1
          }
         },
         "name": "('PCT_T1', '2018-2019')",
         "orientation": "v",
         "text": "",
         "type": "bar",
         "uid": "37edabf5-e856-454c-9008-67253c120dc5",
         "x": [
          "AUSTIN ISD",
          "DEL VALLE ISD",
          "DRIPPING SPRINGS ISD",
          "EANES ISD",
          "GEORGETOWN ISD",
          "HAYS CISD",
          "HUTTO ISD",
          "LAGO VISTA ISD",
          "LAKE TRAVIS ISD",
          "LEANDER ISD",
          "MANOR ISD",
          "PFLUGERVILLE ISD",
          "ROUND ROCK ISD"
         ],
         "y": [
          50,
          98,
          23,
          2,
          35,
          52,
          63,
          7,
          11,
          19,
          52,
          74,
          22
         ]
        }
       ],
       "layout": {
        "legend": {
         "bgcolor": "#FFFFFF",
         "font": {
          "color": "#666666"
         }
        },
        "paper_bgcolor": "#FFFFFF",
        "plot_bgcolor": "#E5E5E5",
        "title": {
         "font": {
          "color": "#151516"
         },
         "text": "Autin Area ISDs Title 1 Pecent Status"
        },
        "xaxis": {
         "gridcolor": "#F6F6F6",
         "showgrid": true,
         "tickfont": {
          "color": "#666666"
         },
         "title": {
          "font": {
           "color": "#666666"
          },
          "text": ""
         },
         "zerolinecolor": "#F6F6F6"
        },
        "yaxis": {
         "gridcolor": "#F6F6F6",
         "showgrid": true,
         "tickfont": {
          "color": "#666666"
         },
         "title": {
          "font": {
           "color": "#666666"
          },
          "text": ""
         },
         "zerolinecolor": "#F6F6F6"
        }
       }
      },
      "text/html": [
       "<div id=\"d6934fa5-6baf-47a6-8496-7a2435e1435a\" style=\"height: 525px; width: 100%;\" class=\"plotly-graph-div\"></div><script type=\"text/javascript\">require([\"plotly\"], function(Plotly) { window.PLOTLYENV=window.PLOTLYENV || {};window.PLOTLYENV.BASE_URL=\"https://plot.ly\";Plotly.newPlot(\"d6934fa5-6baf-47a6-8496-7a2435e1435a\", [{\"marker\": {\"color\": \"rgba(226, 74, 51, 0.6)\", \"line\": {\"color\": \"rgba(226, 74, 51, 1.0)\", \"width\": 1}}, \"name\": \"('PCT_T1', '2012-2013')\", \"orientation\": \"v\", \"text\": \"\", \"x\": [\"AUSTIN ISD\", \"DEL VALLE ISD\", \"DRIPPING SPRINGS ISD\", \"EANES ISD\", \"GEORGETOWN ISD\", \"HAYS CISD\", \"HUTTO ISD\", \"LAGO VISTA ISD\", \"LAKE TRAVIS ISD\", \"LEANDER ISD\", \"MANOR ISD\", \"PFLUGERVILLE ISD\", \"ROUND ROCK ISD\"], \"y\": [50.0, 75.0, 33.0, 1.0, 53.0, 55.0, 53.0, 6.0, 14.0, 8.0, 57.0, 54.0, 19.0], \"type\": \"bar\", \"uid\": \"4cab23fb-50a8-459a-92ad-b570a9128964\"}, {\"marker\": {\"color\": \"rgba(62, 111, 176, 0.6)\", \"line\": {\"color\": \"rgba(62, 111, 176, 1.0)\", \"width\": 1}}, \"name\": \"('PCT_T1', '2013-2014')\", \"orientation\": \"v\", \"text\": \"\", \"x\": [\"AUSTIN ISD\", \"DEL VALLE ISD\", \"DRIPPING SPRINGS ISD\", \"EANES ISD\", \"GEORGETOWN ISD\", \"HAYS CISD\", \"HUTTO ISD\", \"LAGO VISTA ISD\", \"LAKE TRAVIS ISD\", \"LEANDER ISD\", \"MANOR ISD\", \"PFLUGERVILLE ISD\", \"ROUND ROCK ISD\"], \"y\": [49.0, 75.0, 33.0, 1.0, 32.0, 54.0, 74.0, 7.0, 4.0, 8.0, 57.0, 54.0, 20.0], \"type\": \"bar\", \"uid\": \"dd54ef90-9b74-4214-a26a-6b1c91f0fdf3\"}, {\"marker\": {\"color\": \"rgba(132, 118, 202, 0.6)\", \"line\": {\"color\": \"rgba(132, 118, 202, 1.0)\", \"width\": 1}}, \"name\": \"('PCT_T1', '2014-2015')\", \"orientation\": \"v\", \"text\": \"\", \"x\": [\"AUSTIN ISD\", \"DEL VALLE ISD\", \"DRIPPING SPRINGS ISD\", \"EANES ISD\", \"GEORGETOWN ISD\", \"HAYS CISD\", \"HUTTO ISD\", \"LAGO VISTA ISD\", \"LAKE TRAVIS ISD\", \"LEANDER ISD\", \"MANOR ISD\", \"PFLUGERVILLE ISD\", \"ROUND ROCK ISD\"], \"y\": [48.0, 8.0, 33.0, 2.0, 32.0, 57.0, 73.0, 6.0, 12.0, 8.0, 56.0, 63.0, 24.0], \"type\": \"bar\", \"uid\": \"d428399a-938f-4f89-b74c-43e1252e91e2\"}, {\"marker\": {\"color\": \"rgba(101, 101, 101, 0.6)\", \"line\": {\"color\": \"rgba(101, 101, 101, 1.0)\", \"width\": 1}}, \"name\": \"('PCT_T1', '2015-2016')\", \"orientation\": \"v\", \"text\": \"\", \"x\": [\"AUSTIN ISD\", \"DEL VALLE ISD\", \"DRIPPING SPRINGS ISD\", \"EANES ISD\", \"GEORGETOWN ISD\", \"HAYS CISD\", \"HUTTO ISD\", \"LAGO VISTA ISD\", \"LAKE TRAVIS ISD\", \"LEANDER ISD\", \"MANOR ISD\", \"PFLUGERVILLE ISD\", \"ROUND ROCK ISD\"], \"y\": [54.0, 98.0, 32.0, 1.0, 31.0, 56.0, 73.0, 5.0, 12.0, 11.0, 56.0, 62.0, 24.0], \"type\": \"bar\", \"uid\": \"95fcb435-a329-4f08-8c14-a4740a9777dc\"}, {\"marker\": {\"color\": \"rgba(251, 193, 94, 0.6)\", \"line\": {\"color\": \"rgba(251, 193, 94, 1.0)\", \"width\": 1}}, \"name\": \"('PCT_T1', '2016-2017')\", \"orientation\": \"v\", \"text\": \"\", \"x\": [\"AUSTIN ISD\", \"DEL VALLE ISD\", \"DRIPPING SPRINGS ISD\", \"EANES ISD\", \"GEORGETOWN ISD\", \"HAYS CISD\", \"HUTTO ISD\", \"LAGO VISTA ISD\", \"LAKE TRAVIS ISD\", \"LEANDER ISD\", \"MANOR ISD\", \"PFLUGERVILLE ISD\", \"ROUND ROCK ISD\"], \"y\": [53.0, 99.0, 31.0, 2.0, 20.0, 50.0, 73.0, 6.0, 11.0, 11.0, 55.0, 71.0, 21.0], \"type\": \"bar\", \"uid\": \"c91792f6-50fc-4fd4-bb9b-4630a79e55f1\"}, {\"marker\": {\"color\": \"rgba(142, 186, 66, 0.6)\", \"line\": {\"color\": \"rgba(142, 186, 66, 1.0)\", \"width\": 1}}, \"name\": \"('PCT_T1', '2017-2018')\", \"orientation\": \"v\", \"text\": \"\", \"x\": [\"AUSTIN ISD\", \"DEL VALLE ISD\", \"DRIPPING SPRINGS ISD\", \"EANES ISD\", \"GEORGETOWN ISD\", \"HAYS CISD\", \"HUTTO ISD\", \"LAGO VISTA ISD\", \"LAKE TRAVIS ISD\", \"LEANDER ISD\", \"MANOR ISD\", \"PFLUGERVILLE ISD\", \"ROUND ROCK ISD\"], \"y\": [52.0, 98.0, 23.0, 2.0, 36.0, 53.0, 73.0, 8.0, 10.0, 11.0, 54.0, 71.0, 22.0], \"type\": \"bar\", \"uid\": \"b3067bf4-f768-45be-8df1-4781969dcdde\"}, {\"marker\": {\"color\": \"rgba(255, 181, 184, 0.6)\", \"line\": {\"color\": \"rgba(255, 181, 184, 1.0)\", \"width\": 1}}, \"name\": \"('PCT_T1', '2018-2019')\", \"orientation\": \"v\", \"text\": \"\", \"x\": [\"AUSTIN ISD\", \"DEL VALLE ISD\", \"DRIPPING SPRINGS ISD\", \"EANES ISD\", \"GEORGETOWN ISD\", \"HAYS CISD\", \"HUTTO ISD\", \"LAGO VISTA ISD\", \"LAKE TRAVIS ISD\", \"LEANDER ISD\", \"MANOR ISD\", \"PFLUGERVILLE ISD\", \"ROUND ROCK ISD\"], \"y\": [50.0, 98.0, 23.0, 2.0, 35.0, 52.0, 63.0, 7.0, 11.0, 19.0, 52.0, 74.0, 22.0], \"type\": \"bar\", \"uid\": \"62188edc-09c9-471a-bc4d-00336721e57d\"}], {\"legend\": {\"bgcolor\": \"#FFFFFF\", \"font\": {\"color\": \"#666666\"}}, \"paper_bgcolor\": \"#FFFFFF\", \"plot_bgcolor\": \"#E5E5E5\", \"title\": {\"text\": \"Autin Area ISDs Title 1 Pecent Status\", \"font\": {\"color\": \"#151516\"}}, \"xaxis\": {\"gridcolor\": \"#F6F6F6\", \"showgrid\": true, \"tickfont\": {\"color\": \"#666666\"}, \"title\": {\"text\": \"\", \"font\": {\"color\": \"#666666\"}}, \"zerolinecolor\": \"#F6F6F6\"}, \"yaxis\": {\"gridcolor\": \"#F6F6F6\", \"showgrid\": true, \"tickfont\": {\"color\": \"#666666\"}, \"title\": {\"text\": \"\", \"font\": {\"color\": \"#666666\"}}, \"zerolinecolor\": \"#F6F6F6\"}}, {\"showLink\": true, \"linkText\": \"Export to plot.ly\", \"plotlyServerURL\": \"https://plot.ly\"})});</script><script type=\"text/javascript\">window.addEventListener(\"resize\", function(){window._Plotly.Plots.resize(document.getElementById(\"d6934fa5-6baf-47a6-8496-7a2435e1435a\"));});</script>"
      ],
      "text/vnd.plotly.v1+html": [
       "<div id=\"d6934fa5-6baf-47a6-8496-7a2435e1435a\" style=\"height: 525px; width: 100%;\" class=\"plotly-graph-div\"></div><script type=\"text/javascript\">require([\"plotly\"], function(Plotly) { window.PLOTLYENV=window.PLOTLYENV || {};window.PLOTLYENV.BASE_URL=\"https://plot.ly\";Plotly.newPlot(\"d6934fa5-6baf-47a6-8496-7a2435e1435a\", [{\"marker\": {\"color\": \"rgba(226, 74, 51, 0.6)\", \"line\": {\"color\": \"rgba(226, 74, 51, 1.0)\", \"width\": 1}}, \"name\": \"('PCT_T1', '2012-2013')\", \"orientation\": \"v\", \"text\": \"\", \"x\": [\"AUSTIN ISD\", \"DEL VALLE ISD\", \"DRIPPING SPRINGS ISD\", \"EANES ISD\", \"GEORGETOWN ISD\", \"HAYS CISD\", \"HUTTO ISD\", \"LAGO VISTA ISD\", \"LAKE TRAVIS ISD\", \"LEANDER ISD\", \"MANOR ISD\", \"PFLUGERVILLE ISD\", \"ROUND ROCK ISD\"], \"y\": [50.0, 75.0, 33.0, 1.0, 53.0, 55.0, 53.0, 6.0, 14.0, 8.0, 57.0, 54.0, 19.0], \"type\": \"bar\", \"uid\": \"4cab23fb-50a8-459a-92ad-b570a9128964\"}, {\"marker\": {\"color\": \"rgba(62, 111, 176, 0.6)\", \"line\": {\"color\": \"rgba(62, 111, 176, 1.0)\", \"width\": 1}}, \"name\": \"('PCT_T1', '2013-2014')\", \"orientation\": \"v\", \"text\": \"\", \"x\": [\"AUSTIN ISD\", \"DEL VALLE ISD\", \"DRIPPING SPRINGS ISD\", \"EANES ISD\", \"GEORGETOWN ISD\", \"HAYS CISD\", \"HUTTO ISD\", \"LAGO VISTA ISD\", \"LAKE TRAVIS ISD\", \"LEANDER ISD\", \"MANOR ISD\", \"PFLUGERVILLE ISD\", \"ROUND ROCK ISD\"], \"y\": [49.0, 75.0, 33.0, 1.0, 32.0, 54.0, 74.0, 7.0, 4.0, 8.0, 57.0, 54.0, 20.0], \"type\": \"bar\", \"uid\": \"dd54ef90-9b74-4214-a26a-6b1c91f0fdf3\"}, {\"marker\": {\"color\": \"rgba(132, 118, 202, 0.6)\", \"line\": {\"color\": \"rgba(132, 118, 202, 1.0)\", \"width\": 1}}, \"name\": \"('PCT_T1', '2014-2015')\", \"orientation\": \"v\", \"text\": \"\", \"x\": [\"AUSTIN ISD\", \"DEL VALLE ISD\", \"DRIPPING SPRINGS ISD\", \"EANES ISD\", \"GEORGETOWN ISD\", \"HAYS CISD\", \"HUTTO ISD\", \"LAGO VISTA ISD\", \"LAKE TRAVIS ISD\", \"LEANDER ISD\", \"MANOR ISD\", \"PFLUGERVILLE ISD\", \"ROUND ROCK ISD\"], \"y\": [48.0, 8.0, 33.0, 2.0, 32.0, 57.0, 73.0, 6.0, 12.0, 8.0, 56.0, 63.0, 24.0], \"type\": \"bar\", \"uid\": \"d428399a-938f-4f89-b74c-43e1252e91e2\"}, {\"marker\": {\"color\": \"rgba(101, 101, 101, 0.6)\", \"line\": {\"color\": \"rgba(101, 101, 101, 1.0)\", \"width\": 1}}, \"name\": \"('PCT_T1', '2015-2016')\", \"orientation\": \"v\", \"text\": \"\", \"x\": [\"AUSTIN ISD\", \"DEL VALLE ISD\", \"DRIPPING SPRINGS ISD\", \"EANES ISD\", \"GEORGETOWN ISD\", \"HAYS CISD\", \"HUTTO ISD\", \"LAGO VISTA ISD\", \"LAKE TRAVIS ISD\", \"LEANDER ISD\", \"MANOR ISD\", \"PFLUGERVILLE ISD\", \"ROUND ROCK ISD\"], \"y\": [54.0, 98.0, 32.0, 1.0, 31.0, 56.0, 73.0, 5.0, 12.0, 11.0, 56.0, 62.0, 24.0], \"type\": \"bar\", \"uid\": \"95fcb435-a329-4f08-8c14-a4740a9777dc\"}, {\"marker\": {\"color\": \"rgba(251, 193, 94, 0.6)\", \"line\": {\"color\": \"rgba(251, 193, 94, 1.0)\", \"width\": 1}}, \"name\": \"('PCT_T1', '2016-2017')\", \"orientation\": \"v\", \"text\": \"\", \"x\": [\"AUSTIN ISD\", \"DEL VALLE ISD\", \"DRIPPING SPRINGS ISD\", \"EANES ISD\", \"GEORGETOWN ISD\", \"HAYS CISD\", \"HUTTO ISD\", \"LAGO VISTA ISD\", \"LAKE TRAVIS ISD\", \"LEANDER ISD\", \"MANOR ISD\", \"PFLUGERVILLE ISD\", \"ROUND ROCK ISD\"], \"y\": [53.0, 99.0, 31.0, 2.0, 20.0, 50.0, 73.0, 6.0, 11.0, 11.0, 55.0, 71.0, 21.0], \"type\": \"bar\", \"uid\": \"c91792f6-50fc-4fd4-bb9b-4630a79e55f1\"}, {\"marker\": {\"color\": \"rgba(142, 186, 66, 0.6)\", \"line\": {\"color\": \"rgba(142, 186, 66, 1.0)\", \"width\": 1}}, \"name\": \"('PCT_T1', '2017-2018')\", \"orientation\": \"v\", \"text\": \"\", \"x\": [\"AUSTIN ISD\", \"DEL VALLE ISD\", \"DRIPPING SPRINGS ISD\", \"EANES ISD\", \"GEORGETOWN ISD\", \"HAYS CISD\", \"HUTTO ISD\", \"LAGO VISTA ISD\", \"LAKE TRAVIS ISD\", \"LEANDER ISD\", \"MANOR ISD\", \"PFLUGERVILLE ISD\", \"ROUND ROCK ISD\"], \"y\": [52.0, 98.0, 23.0, 2.0, 36.0, 53.0, 73.0, 8.0, 10.0, 11.0, 54.0, 71.0, 22.0], \"type\": \"bar\", \"uid\": \"b3067bf4-f768-45be-8df1-4781969dcdde\"}, {\"marker\": {\"color\": \"rgba(255, 181, 184, 0.6)\", \"line\": {\"color\": \"rgba(255, 181, 184, 1.0)\", \"width\": 1}}, \"name\": \"('PCT_T1', '2018-2019')\", \"orientation\": \"v\", \"text\": \"\", \"x\": [\"AUSTIN ISD\", \"DEL VALLE ISD\", \"DRIPPING SPRINGS ISD\", \"EANES ISD\", \"GEORGETOWN ISD\", \"HAYS CISD\", \"HUTTO ISD\", \"LAGO VISTA ISD\", \"LAKE TRAVIS ISD\", \"LEANDER ISD\", \"MANOR ISD\", \"PFLUGERVILLE ISD\", \"ROUND ROCK ISD\"], \"y\": [50.0, 98.0, 23.0, 2.0, 35.0, 52.0, 63.0, 7.0, 11.0, 19.0, 52.0, 74.0, 22.0], \"type\": \"bar\", \"uid\": \"62188edc-09c9-471a-bc4d-00336721e57d\"}], {\"legend\": {\"bgcolor\": \"#FFFFFF\", \"font\": {\"color\": \"#666666\"}}, \"paper_bgcolor\": \"#FFFFFF\", \"plot_bgcolor\": \"#E5E5E5\", \"title\": {\"text\": \"Autin Area ISDs Title 1 Pecent Status\", \"font\": {\"color\": \"#151516\"}}, \"xaxis\": {\"gridcolor\": \"#F6F6F6\", \"showgrid\": true, \"tickfont\": {\"color\": \"#666666\"}, \"title\": {\"text\": \"\", \"font\": {\"color\": \"#666666\"}}, \"zerolinecolor\": \"#F6F6F6\"}, \"yaxis\": {\"gridcolor\": \"#F6F6F6\", \"showgrid\": true, \"tickfont\": {\"color\": \"#666666\"}, \"title\": {\"text\": \"\", \"font\": {\"color\": \"#666666\"}}, \"zerolinecolor\": \"#F6F6F6\"}}, {\"showLink\": true, \"linkText\": \"Export to plot.ly\", \"plotlyServerURL\": \"https://plot.ly\"})});</script><script type=\"text/javascript\">window.addEventListener(\"resize\", function(){window._Plotly.Plots.resize(document.getElementById(\"d6934fa5-6baf-47a6-8496-7a2435e1435a\"));});</script>"
      ]
     },
     "metadata": {},
     "output_type": "display_data"
    }
   ],
   "source": [
    "t1_pct_pivot = t1_pct_plot.pivot(index='DISTRICT NAME', columns='YEAR')\n",
    "cf.set_config_file(offline=True, world_readable=False, theme='ggplot')\n",
    "t1_pct_pivot.iplot(kind='bar',title='Autin Area ISDs Title 1 Pecent Status')"
   ]
  },
  {
   "cell_type": "code",
   "execution_count": 33,
   "metadata": {},
   "outputs": [
    {
     "data": {
      "application/vnd.plotly.v1+json": {
       "config": {
        "linkText": "Export to plot.ly",
        "plotlyServerURL": "https://plot.ly",
        "showLink": true
       },
       "data": [
        {
         "line": {
          "color": "rgba(226, 74, 51, 1.0)",
          "dash": "solid",
          "shape": "linear",
          "width": 1.3
         },
         "mode": "lines",
         "name": "Ratio",
         "text": "",
         "type": "scatter",
         "uid": "3a64f3e0-10c1-47e4-a271-31a16141ec9a",
         "x": [
          "2014-2015",
          "2015-2016",
          "2016-2017",
          "2017-2018"
         ],
         "y": [
          0.9108971316199905,
          1.172173732335827,
          1.1467965781924379,
          1.0790639641474842
         ]
        }
       ],
       "layout": {
        "legend": {
         "bgcolor": "#FFFFFF",
         "font": {
          "color": "#666666"
         }
        },
        "paper_bgcolor": "#FFFFFF",
        "plot_bgcolor": "#E5E5E5",
        "title": {
         "font": {
          "color": "#151516"
         },
         "text": "Title One to Non-Title One Ratio"
        },
        "xaxis": {
         "gridcolor": "#F6F6F6",
         "showgrid": true,
         "tickfont": {
          "color": "#666666"
         },
         "title": {
          "font": {
           "color": "#666666"
          },
          "text": "Years"
         },
         "zerolinecolor": "#F6F6F6"
        },
        "yaxis": {
         "gridcolor": "#F6F6F6",
         "showgrid": true,
         "tickfont": {
          "color": "#666666"
         },
         "title": {
          "font": {
           "color": "#666666"
          },
          "text": "Ratio Title One to Non-Title One"
         },
         "zerolinecolor": "#F6F6F6"
        }
       }
      },
      "text/html": [
       "<div id=\"6fd5aa63-d964-45d9-8846-f3f46c6cc756\" style=\"height: 525px; width: 100%;\" class=\"plotly-graph-div\"></div><script type=\"text/javascript\">require([\"plotly\"], function(Plotly) { window.PLOTLYENV=window.PLOTLYENV || {};window.PLOTLYENV.BASE_URL=\"https://plot.ly\";Plotly.newPlot(\"6fd5aa63-d964-45d9-8846-f3f46c6cc756\", [{\"line\": {\"color\": \"rgba(226, 74, 51, 1.0)\", \"dash\": \"solid\", \"shape\": \"linear\", \"width\": 1.3}, \"mode\": \"lines\", \"name\": \"Ratio\", \"text\": \"\", \"x\": [\"2014-2015\", \"2015-2016\", \"2016-2017\", \"2017-2018\"], \"y\": [0.9108971316199905, 1.172173732335827, 1.1467965781924379, 1.0790639641474842], \"type\": \"scatter\", \"uid\": \"254d03d0-ae6a-480b-8bf3-d35da69c071c\"}], {\"legend\": {\"bgcolor\": \"#FFFFFF\", \"font\": {\"color\": \"#666666\"}}, \"paper_bgcolor\": \"#FFFFFF\", \"plot_bgcolor\": \"#E5E5E5\", \"title\": {\"text\": \"Title One to Non-Title One Ratio\", \"font\": {\"color\": \"#151516\"}}, \"xaxis\": {\"gridcolor\": \"#F6F6F6\", \"showgrid\": true, \"tickfont\": {\"color\": \"#666666\"}, \"title\": {\"text\": \"Years\", \"font\": {\"color\": \"#666666\"}}, \"zerolinecolor\": \"#F6F6F6\"}, \"yaxis\": {\"gridcolor\": \"#F6F6F6\", \"showgrid\": true, \"tickfont\": {\"color\": \"#666666\"}, \"title\": {\"text\": \"Ratio Title One to Non-Title One\", \"font\": {\"color\": \"#666666\"}}, \"zerolinecolor\": \"#F6F6F6\"}}, {\"showLink\": true, \"linkText\": \"Export to plot.ly\", \"plotlyServerURL\": \"https://plot.ly\"})});</script><script type=\"text/javascript\">window.addEventListener(\"resize\", function(){window._Plotly.Plots.resize(document.getElementById(\"6fd5aa63-d964-45d9-8846-f3f46c6cc756\"));});</script>"
      ],
      "text/vnd.plotly.v1+html": [
       "<div id=\"6fd5aa63-d964-45d9-8846-f3f46c6cc756\" style=\"height: 525px; width: 100%;\" class=\"plotly-graph-div\"></div><script type=\"text/javascript\">require([\"plotly\"], function(Plotly) { window.PLOTLYENV=window.PLOTLYENV || {};window.PLOTLYENV.BASE_URL=\"https://plot.ly\";Plotly.newPlot(\"6fd5aa63-d964-45d9-8846-f3f46c6cc756\", [{\"line\": {\"color\": \"rgba(226, 74, 51, 1.0)\", \"dash\": \"solid\", \"shape\": \"linear\", \"width\": 1.3}, \"mode\": \"lines\", \"name\": \"Ratio\", \"text\": \"\", \"x\": [\"2014-2015\", \"2015-2016\", \"2016-2017\", \"2017-2018\"], \"y\": [0.9108971316199905, 1.172173732335827, 1.1467965781924379, 1.0790639641474842], \"type\": \"scatter\", \"uid\": \"254d03d0-ae6a-480b-8bf3-d35da69c071c\"}], {\"legend\": {\"bgcolor\": \"#FFFFFF\", \"font\": {\"color\": \"#666666\"}}, \"paper_bgcolor\": \"#FFFFFF\", \"plot_bgcolor\": \"#E5E5E5\", \"title\": {\"text\": \"Title One to Non-Title One Ratio\", \"font\": {\"color\": \"#151516\"}}, \"xaxis\": {\"gridcolor\": \"#F6F6F6\", \"showgrid\": true, \"tickfont\": {\"color\": \"#666666\"}, \"title\": {\"text\": \"Years\", \"font\": {\"color\": \"#666666\"}}, \"zerolinecolor\": \"#F6F6F6\"}, \"yaxis\": {\"gridcolor\": \"#F6F6F6\", \"showgrid\": true, \"tickfont\": {\"color\": \"#666666\"}, \"title\": {\"text\": \"Ratio Title One to Non-Title One\", \"font\": {\"color\": \"#666666\"}}, \"zerolinecolor\": \"#F6F6F6\"}}, {\"showLink\": true, \"linkText\": \"Export to plot.ly\", \"plotlyServerURL\": \"https://plot.ly\"})});</script><script type=\"text/javascript\">window.addEventListener(\"resize\", function(){window._Plotly.Plots.resize(document.getElementById(\"6fd5aa63-d964-45d9-8846-f3f46c6cc756\"));});</script>"
      ]
     },
     "metadata": {},
     "output_type": "display_data"
    }
   ],
   "source": [
    "# title one vs. non-title one\n",
    "# Calculate proportion of title one to non-title one students\n",
    "c_df['non_title1'] = c_df['total_enroll']- c_df['total_title1']\n",
    "non_t1 = c_df[['year', 'total_title1', 'non_title1']]\n",
    "non_t1_sum = non_t1.groupby('year').sum()\n",
    "\n",
    "non_df = non_t1_sum.reset_index()\n",
    "non_df['Percentage'] = (non_df['non_title1']/non_df['total_title1'])*100\n",
    "non_df['Ratio'] = (100/non_df['Percentage'])\n",
    "non_df['T1_rate_of_change'] = (non_df.iloc[0,1]-non_df['total_title1'])*(-1)\n",
    "non_df['n-T1_rate_of_change'] = (non_df.iloc[0,2]-non_df['non_title1'])*(-1)\n",
    "non_df['n-T1_negatvie_rate_of_change'] = (non_df.iloc[0,2]-non_df['non_title1'])\n",
    "rate_enr_t1 = non_df[['year', 'T1_rate_of_change', 'n-T1_negatvie_rate_of_change']]\n",
    "non_df\n",
    "\n",
    "df_nnn = non_df[['year','Ratio']].set_index('year')\n",
    "df_nnn.iplot(kind='line', yTitle='Ratio Title One to Non-Title One', xTitle='Years', title=\"Title One to Non-Title One Ratio\")"
   ]
  },
  {
   "cell_type": "code",
   "execution_count": 29,
   "metadata": {},
   "outputs": [
    {
     "data": {
      "application/vnd.plotly.v1+json": {
       "config": {
        "linkText": "Export to plot.ly",
        "plotlyServerURL": "https://plot.ly",
        "showLink": true
       },
       "data": [
        {
         "marker": {
          "color": "rgba(226, 74, 51, 0.6)",
          "line": {
           "color": "rgba(226, 74, 51, 1.0)",
           "width": 1
          }
         },
         "name": "2014-2015",
         "orientation": "v",
         "text": "",
         "type": "bar",
         "uid": "b7a7bcb8-d4be-41f6-aa60-052265f4b85e",
         "x": [
          "Elementary",
          "High",
          "Middle",
          "Other"
         ],
         "y": [
          56.82818423460717,
          26.884971394018326,
          51.2715543977174,
          16.65034280117532
         ]
        },
        {
         "marker": {
          "color": "rgba(62, 111, 176, 0.6)",
          "line": {
           "color": "rgba(62, 111, 176, 1.0)",
           "width": 1
          }
         },
         "name": "2015-2016",
         "orientation": "v",
         "text": "",
         "type": "bar",
         "uid": "9a31aee5-c6a3-4bf6-a3be-32dd706db2b9",
         "x": [
          "Elementary",
          "High",
          "Middle",
          "Other"
         ],
         "y": [
          66.69251218431546,
          27.2168239215134,
          55.250566607907324,
          34.41608662026295
         ]
        },
        {
         "marker": {
          "color": "rgba(132, 118, 202, 0.6)",
          "line": {
           "color": "rgba(132, 118, 202, 1.0)",
           "width": 1
          }
         },
         "name": "2016-2017",
         "orientation": "v",
         "text": "",
         "type": "bar",
         "uid": "67af283b-cf29-48bd-9145-84ae9f5a534c",
         "x": [
          "Elementary",
          "High",
          "Middle",
          "Other"
         ],
         "y": [
          66.18316332249748,
          26.928471248246844,
          54.73597568696974,
          35.00391542678152
         ]
        },
        {
         "marker": {
          "color": "rgba(101, 101, 101, 0.6)",
          "line": {
           "color": "rgba(101, 101, 101, 1.0)",
           "width": 1
          }
         },
         "name": "2017-2018",
         "orientation": "v",
         "text": "",
         "type": "bar",
         "uid": "a4d26ec2-a830-4720-8de0-1d9bddd518b7",
         "x": [
          "Elementary",
          "High",
          "Middle",
          "Other"
         ],
         "y": [
          64.31486477139103,
          26.17266525523406,
          53.77477591213231,
          33.95427603725656
         ]
        }
       ],
       "layout": {
        "legend": {
         "bgcolor": "#FFFFFF",
         "font": {
          "color": "#666666"
         }
        },
        "paper_bgcolor": "#FFFFFF",
        "plot_bgcolor": "#E5E5E5",
        "title": {
         "font": {
          "color": "#151516"
         },
         "text": "Title One Student Percentage by School Type"
        },
        "xaxis": {
         "gridcolor": "#F6F6F6",
         "showgrid": true,
         "tickfont": {
          "color": "#666666"
         },
         "title": {
          "font": {
           "color": "#666666"
          },
          "text": "School Type"
         },
         "zerolinecolor": "#F6F6F6"
        },
        "yaxis": {
         "gridcolor": "#F6F6F6",
         "showgrid": true,
         "tickfont": {
          "color": "#666666"
         },
         "title": {
          "font": {
           "color": "#666666"
          },
          "text": "Title One Student Enrollment (%)"
         },
         "zerolinecolor": "#F6F6F6"
        }
       }
      },
      "text/html": [
       "<div id=\"9af914ca-3a27-43fb-9741-488c5413dc33\" style=\"height: 525px; width: 100%;\" class=\"plotly-graph-div\"></div><script type=\"text/javascript\">require([\"plotly\"], function(Plotly) { window.PLOTLYENV=window.PLOTLYENV || {};window.PLOTLYENV.BASE_URL=\"https://plot.ly\";Plotly.newPlot(\"9af914ca-3a27-43fb-9741-488c5413dc33\", [{\"marker\": {\"color\": \"rgba(226, 74, 51, 0.6)\", \"line\": {\"color\": \"rgba(226, 74, 51, 1.0)\", \"width\": 1}}, \"name\": \"2014-2015\", \"orientation\": \"v\", \"text\": \"\", \"x\": [\"Elementary\", \"High\", \"Middle\", \"Other\"], \"y\": [56.82818423460717, 26.884971394018326, 51.2715543977174, 16.65034280117532], \"type\": \"bar\", \"uid\": \"ab40000b-564b-4bb9-aead-c776b2e2e467\"}, {\"marker\": {\"color\": \"rgba(62, 111, 176, 0.6)\", \"line\": {\"color\": \"rgba(62, 111, 176, 1.0)\", \"width\": 1}}, \"name\": \"2015-2016\", \"orientation\": \"v\", \"text\": \"\", \"x\": [\"Elementary\", \"High\", \"Middle\", \"Other\"], \"y\": [66.69251218431546, 27.2168239215134, 55.250566607907324, 34.41608662026295], \"type\": \"bar\", \"uid\": \"afbbf022-ee17-460f-a51a-f63be935425a\"}, {\"marker\": {\"color\": \"rgba(132, 118, 202, 0.6)\", \"line\": {\"color\": \"rgba(132, 118, 202, 1.0)\", \"width\": 1}}, \"name\": \"2016-2017\", \"orientation\": \"v\", \"text\": \"\", \"x\": [\"Elementary\", \"High\", \"Middle\", \"Other\"], \"y\": [66.18316332249748, 26.928471248246844, 54.73597568696974, 35.00391542678152], \"type\": \"bar\", \"uid\": \"d333863b-f819-4eae-b08c-69f7abee3283\"}, {\"marker\": {\"color\": \"rgba(101, 101, 101, 0.6)\", \"line\": {\"color\": \"rgba(101, 101, 101, 1.0)\", \"width\": 1}}, \"name\": \"2017-2018\", \"orientation\": \"v\", \"text\": \"\", \"x\": [\"Elementary\", \"High\", \"Middle\", \"Other\"], \"y\": [64.31486477139103, 26.17266525523406, 53.77477591213231, 33.95427603725656], \"type\": \"bar\", \"uid\": \"d98a0c2e-ea2c-4dc1-b34e-85474df1942a\"}], {\"legend\": {\"bgcolor\": \"#FFFFFF\", \"font\": {\"color\": \"#666666\"}}, \"paper_bgcolor\": \"#FFFFFF\", \"plot_bgcolor\": \"#E5E5E5\", \"title\": {\"text\": \"Title One Student Percentage by School Type\", \"font\": {\"color\": \"#151516\"}}, \"xaxis\": {\"gridcolor\": \"#F6F6F6\", \"showgrid\": true, \"tickfont\": {\"color\": \"#666666\"}, \"title\": {\"text\": \"School Type\", \"font\": {\"color\": \"#666666\"}}, \"zerolinecolor\": \"#F6F6F6\"}, \"yaxis\": {\"gridcolor\": \"#F6F6F6\", \"showgrid\": true, \"tickfont\": {\"color\": \"#666666\"}, \"title\": {\"text\": \"Title One Student Enrollment (%)\", \"font\": {\"color\": \"#666666\"}}, \"zerolinecolor\": \"#F6F6F6\"}}, {\"showLink\": true, \"linkText\": \"Export to plot.ly\", \"plotlyServerURL\": \"https://plot.ly\"})});</script><script type=\"text/javascript\">window.addEventListener(\"resize\", function(){window._Plotly.Plots.resize(document.getElementById(\"9af914ca-3a27-43fb-9741-488c5413dc33\"));});</script>"
      ],
      "text/vnd.plotly.v1+html": [
       "<div id=\"9af914ca-3a27-43fb-9741-488c5413dc33\" style=\"height: 525px; width: 100%;\" class=\"plotly-graph-div\"></div><script type=\"text/javascript\">require([\"plotly\"], function(Plotly) { window.PLOTLYENV=window.PLOTLYENV || {};window.PLOTLYENV.BASE_URL=\"https://plot.ly\";Plotly.newPlot(\"9af914ca-3a27-43fb-9741-488c5413dc33\", [{\"marker\": {\"color\": \"rgba(226, 74, 51, 0.6)\", \"line\": {\"color\": \"rgba(226, 74, 51, 1.0)\", \"width\": 1}}, \"name\": \"2014-2015\", \"orientation\": \"v\", \"text\": \"\", \"x\": [\"Elementary\", \"High\", \"Middle\", \"Other\"], \"y\": [56.82818423460717, 26.884971394018326, 51.2715543977174, 16.65034280117532], \"type\": \"bar\", \"uid\": \"ab40000b-564b-4bb9-aead-c776b2e2e467\"}, {\"marker\": {\"color\": \"rgba(62, 111, 176, 0.6)\", \"line\": {\"color\": \"rgba(62, 111, 176, 1.0)\", \"width\": 1}}, \"name\": \"2015-2016\", \"orientation\": \"v\", \"text\": \"\", \"x\": [\"Elementary\", \"High\", \"Middle\", \"Other\"], \"y\": [66.69251218431546, 27.2168239215134, 55.250566607907324, 34.41608662026295], \"type\": \"bar\", \"uid\": \"afbbf022-ee17-460f-a51a-f63be935425a\"}, {\"marker\": {\"color\": \"rgba(132, 118, 202, 0.6)\", \"line\": {\"color\": \"rgba(132, 118, 202, 1.0)\", \"width\": 1}}, \"name\": \"2016-2017\", \"orientation\": \"v\", \"text\": \"\", \"x\": [\"Elementary\", \"High\", \"Middle\", \"Other\"], \"y\": [66.18316332249748, 26.928471248246844, 54.73597568696974, 35.00391542678152], \"type\": \"bar\", \"uid\": \"d333863b-f819-4eae-b08c-69f7abee3283\"}, {\"marker\": {\"color\": \"rgba(101, 101, 101, 0.6)\", \"line\": {\"color\": \"rgba(101, 101, 101, 1.0)\", \"width\": 1}}, \"name\": \"2017-2018\", \"orientation\": \"v\", \"text\": \"\", \"x\": [\"Elementary\", \"High\", \"Middle\", \"Other\"], \"y\": [64.31486477139103, 26.17266525523406, 53.77477591213231, 33.95427603725656], \"type\": \"bar\", \"uid\": \"d98a0c2e-ea2c-4dc1-b34e-85474df1942a\"}], {\"legend\": {\"bgcolor\": \"#FFFFFF\", \"font\": {\"color\": \"#666666\"}}, \"paper_bgcolor\": \"#FFFFFF\", \"plot_bgcolor\": \"#E5E5E5\", \"title\": {\"text\": \"Title One Student Percentage by School Type\", \"font\": {\"color\": \"#151516\"}}, \"xaxis\": {\"gridcolor\": \"#F6F6F6\", \"showgrid\": true, \"tickfont\": {\"color\": \"#666666\"}, \"title\": {\"text\": \"School Type\", \"font\": {\"color\": \"#666666\"}}, \"zerolinecolor\": \"#F6F6F6\"}, \"yaxis\": {\"gridcolor\": \"#F6F6F6\", \"showgrid\": true, \"tickfont\": {\"color\": \"#666666\"}, \"title\": {\"text\": \"Title One Student Enrollment (%)\", \"font\": {\"color\": \"#666666\"}}, \"zerolinecolor\": \"#F6F6F6\"}}, {\"showLink\": true, \"linkText\": \"Export to plot.ly\", \"plotlyServerURL\": \"https://plot.ly\"})});</script><script type=\"text/javascript\">window.addEventListener(\"resize\", function(){window._Plotly.Plots.resize(document.getElementById(\"9af914ca-3a27-43fb-9741-488c5413dc33\"));});</script>"
      ]
     },
     "metadata": {},
     "output_type": "display_data"
    }
   ],
   "source": [
    "# group by data\n",
    "# year\n",
    "year_df = c_df.groupby('year').sum()\n",
    "# year and school type\n",
    "year_type_df = c_df.groupby(['school_type', 'year']).sum()\n",
    "year_df\n",
    "# Caclulate and pull out column for percentage of title one students per year\n",
    "year_type_df['T1_rate'] = (year_type_df['total_title1']/year_type_df['total_enroll'])*100\n",
    "year_type_df\n",
    "df_s = year_type_df['T1_rate']\n",
    "df_s.head()\n",
    "\n",
    "df_s.unstack().iplot(kind='bar', yTitle='Title One Student Enrollment (%)', xTitle='School Type', title=\"Title One Student Percentage by School Type\")"
   ]
  },
  {
   "cell_type": "code",
   "execution_count": 30,
   "metadata": {},
   "outputs": [
    {
     "data": {
      "application/vnd.plotly.v1+json": {
       "config": {
        "linkText": "Export to plot.ly",
        "plotlyServerURL": "https://plot.ly",
        "showLink": true
       },
       "data": [
        {
         "marker": {
          "color": "rgba(226, 74, 51, 0.6)",
          "line": {
           "color": "rgba(226, 74, 51, 1.0)",
           "width": 1
          }
         },
         "name": "('title1_%', '2014-2015')",
         "orientation": "v",
         "text": "",
         "type": "bar",
         "uid": "3688f365-0f50-4786-a4d8-24ca4760d179",
         "x": [
          "Akins High School",
          "Anderson High School",
          "Austin High School",
          "Bowie High School",
          "Mccallum High School"
         ],
         "y": [
          0.4124484439445069,
          0.49460431654676257,
          0.5275779376498801,
          0.06966213862765587,
          2.0024271844660197
         ]
        },
        {
         "marker": {
          "color": "rgba(62, 111, 176, 0.6)",
          "line": {
           "color": "rgba(62, 111, 176, 1.0)",
           "width": 1
          }
         },
         "name": "('title1_%', '2015-2016')",
         "orientation": "v",
         "text": "",
         "type": "bar",
         "uid": "6a684c95-f299-4974-a60c-23c0a4654a77",
         "x": [
          "Akins High School",
          "Anderson High School",
          "Austin High School",
          "Bowie High School",
          "Mccallum High School"
         ],
         "y": [
          1.5849612974566898,
          0.7048458149779736,
          0.7197696737044146,
          0.3090659340659341,
          1.093210586881473
         ]
        },
        {
         "marker": {
          "color": "rgba(132, 118, 202, 0.6)",
          "line": {
           "color": "rgba(132, 118, 202, 1.0)",
           "width": 1
          }
         },
         "name": "('title1_%', '2016-2017')",
         "orientation": "v",
         "text": "",
         "type": "bar",
         "uid": "2936c414-7938-487a-bb84-f2ddc5d9f163",
         "x": [
          "Akins High School",
          "Anderson High School",
          "Austin High School",
          "Bowie High School",
          "Mccallum High School"
         ],
         "y": [
          1.082089552238806,
          0.49616599007668016,
          0.4662004662004662,
          0.38009675190048375,
          1.4781125639567936
         ]
        },
        {
         "marker": {
          "color": "rgba(101, 101, 101, 0.6)",
          "line": {
           "color": "rgba(101, 101, 101, 1.0)",
           "width": 1
          }
         },
         "name": "('title1_%', '2017-2018')",
         "orientation": "v",
         "text": "",
         "type": "bar",
         "uid": "2512e3f3-eb80-42a1-b04d-81dfb73507e3",
         "x": [
          "Akins High School",
          "Anderson High School",
          "Austin High School",
          "Bowie High School",
          "Mccallum High School"
         ],
         "y": [
          1.5913200723327308,
          1.08010801080108,
          0.9704455227172474,
          0.45138888888888884,
          0.5110732538330494
         ]
        }
       ],
       "layout": {
        "legend": {
         "bgcolor": "#FFFFFF",
         "font": {
          "color": "#666666"
         }
        },
        "paper_bgcolor": "#FFFFFF",
        "plot_bgcolor": "#E5E5E5",
        "title": {
         "font": {
          "color": "#151516"
         },
         "text": "Student Enrollment Overview"
        },
        "xaxis": {
         "gridcolor": "#F6F6F6",
         "showgrid": true,
         "tickfont": {
          "color": "#666666"
         },
         "title": {
          "font": {
           "color": "#666666"
          },
          "text": "Campus Name"
         },
         "zerolinecolor": "#F6F6F6"
        },
        "yaxis": {
         "gridcolor": "#F6F6F6",
         "showgrid": true,
         "tickfont": {
          "color": "#666666"
         },
         "title": {
          "font": {
           "color": "#666666"
          },
          "text": "Student Enrollment"
         },
         "zerolinecolor": "#F6F6F6"
        }
       }
      },
      "text/html": [
       "<div id=\"b768408a-82f1-4057-911f-58be25e71c28\" style=\"height: 525px; width: 100%;\" class=\"plotly-graph-div\"></div><script type=\"text/javascript\">require([\"plotly\"], function(Plotly) { window.PLOTLYENV=window.PLOTLYENV || {};window.PLOTLYENV.BASE_URL=\"https://plot.ly\";Plotly.newPlot(\"b768408a-82f1-4057-911f-58be25e71c28\", [{\"marker\": {\"color\": \"rgba(226, 74, 51, 0.6)\", \"line\": {\"color\": \"rgba(226, 74, 51, 1.0)\", \"width\": 1}}, \"name\": \"('title1_%', '2014-2015')\", \"orientation\": \"v\", \"text\": \"\", \"x\": [\"Akins High School\", \"Anderson High School\", \"Austin High School\", \"Bowie High School\", \"Mccallum High School\"], \"y\": [0.4124484439445069, 0.49460431654676257, 0.5275779376498801, 0.06966213862765587, 2.0024271844660197], \"type\": \"bar\", \"uid\": \"08111f8a-99a8-4c05-8929-c46c167742f0\"}, {\"marker\": {\"color\": \"rgba(62, 111, 176, 0.6)\", \"line\": {\"color\": \"rgba(62, 111, 176, 1.0)\", \"width\": 1}}, \"name\": \"('title1_%', '2015-2016')\", \"orientation\": \"v\", \"text\": \"\", \"x\": [\"Akins High School\", \"Anderson High School\", \"Austin High School\", \"Bowie High School\", \"Mccallum High School\"], \"y\": [1.5849612974566898, 0.7048458149779736, 0.7197696737044146, 0.3090659340659341, 1.093210586881473], \"type\": \"bar\", \"uid\": \"be48b71d-5875-4898-8212-98223c7589c6\"}, {\"marker\": {\"color\": \"rgba(132, 118, 202, 0.6)\", \"line\": {\"color\": \"rgba(132, 118, 202, 1.0)\", \"width\": 1}}, \"name\": \"('title1_%', '2016-2017')\", \"orientation\": \"v\", \"text\": \"\", \"x\": [\"Akins High School\", \"Anderson High School\", \"Austin High School\", \"Bowie High School\", \"Mccallum High School\"], \"y\": [1.082089552238806, 0.49616599007668016, 0.4662004662004662, 0.38009675190048375, 1.4781125639567936], \"type\": \"bar\", \"uid\": \"4b4c7e90-aead-419f-859f-9e1cf146419a\"}, {\"marker\": {\"color\": \"rgba(101, 101, 101, 0.6)\", \"line\": {\"color\": \"rgba(101, 101, 101, 1.0)\", \"width\": 1}}, \"name\": \"('title1_%', '2017-2018')\", \"orientation\": \"v\", \"text\": \"\", \"x\": [\"Akins High School\", \"Anderson High School\", \"Austin High School\", \"Bowie High School\", \"Mccallum High School\"], \"y\": [1.5913200723327308, 1.08010801080108, 0.9704455227172474, 0.45138888888888884, 0.5110732538330494], \"type\": \"bar\", \"uid\": \"d51ba69d-2ea5-4513-9332-720313f71430\"}], {\"legend\": {\"bgcolor\": \"#FFFFFF\", \"font\": {\"color\": \"#666666\"}}, \"paper_bgcolor\": \"#FFFFFF\", \"plot_bgcolor\": \"#E5E5E5\", \"title\": {\"text\": \"Student Enrollment Overview\", \"font\": {\"color\": \"#151516\"}}, \"xaxis\": {\"gridcolor\": \"#F6F6F6\", \"showgrid\": true, \"tickfont\": {\"color\": \"#666666\"}, \"title\": {\"text\": \"Campus Name\", \"font\": {\"color\": \"#666666\"}}, \"zerolinecolor\": \"#F6F6F6\"}, \"yaxis\": {\"gridcolor\": \"#F6F6F6\", \"showgrid\": true, \"tickfont\": {\"color\": \"#666666\"}, \"title\": {\"text\": \"Student Enrollment\", \"font\": {\"color\": \"#666666\"}}, \"zerolinecolor\": \"#F6F6F6\"}}, {\"showLink\": true, \"linkText\": \"Export to plot.ly\", \"plotlyServerURL\": \"https://plot.ly\"})});</script><script type=\"text/javascript\">window.addEventListener(\"resize\", function(){window._Plotly.Plots.resize(document.getElementById(\"b768408a-82f1-4057-911f-58be25e71c28\"));});</script>"
      ],
      "text/vnd.plotly.v1+html": [
       "<div id=\"b768408a-82f1-4057-911f-58be25e71c28\" style=\"height: 525px; width: 100%;\" class=\"plotly-graph-div\"></div><script type=\"text/javascript\">require([\"plotly\"], function(Plotly) { window.PLOTLYENV=window.PLOTLYENV || {};window.PLOTLYENV.BASE_URL=\"https://plot.ly\";Plotly.newPlot(\"b768408a-82f1-4057-911f-58be25e71c28\", [{\"marker\": {\"color\": \"rgba(226, 74, 51, 0.6)\", \"line\": {\"color\": \"rgba(226, 74, 51, 1.0)\", \"width\": 1}}, \"name\": \"('title1_%', '2014-2015')\", \"orientation\": \"v\", \"text\": \"\", \"x\": [\"Akins High School\", \"Anderson High School\", \"Austin High School\", \"Bowie High School\", \"Mccallum High School\"], \"y\": [0.4124484439445069, 0.49460431654676257, 0.5275779376498801, 0.06966213862765587, 2.0024271844660197], \"type\": \"bar\", \"uid\": \"08111f8a-99a8-4c05-8929-c46c167742f0\"}, {\"marker\": {\"color\": \"rgba(62, 111, 176, 0.6)\", \"line\": {\"color\": \"rgba(62, 111, 176, 1.0)\", \"width\": 1}}, \"name\": \"('title1_%', '2015-2016')\", \"orientation\": \"v\", \"text\": \"\", \"x\": [\"Akins High School\", \"Anderson High School\", \"Austin High School\", \"Bowie High School\", \"Mccallum High School\"], \"y\": [1.5849612974566898, 0.7048458149779736, 0.7197696737044146, 0.3090659340659341, 1.093210586881473], \"type\": \"bar\", \"uid\": \"be48b71d-5875-4898-8212-98223c7589c6\"}, {\"marker\": {\"color\": \"rgba(132, 118, 202, 0.6)\", \"line\": {\"color\": \"rgba(132, 118, 202, 1.0)\", \"width\": 1}}, \"name\": \"('title1_%', '2016-2017')\", \"orientation\": \"v\", \"text\": \"\", \"x\": [\"Akins High School\", \"Anderson High School\", \"Austin High School\", \"Bowie High School\", \"Mccallum High School\"], \"y\": [1.082089552238806, 0.49616599007668016, 0.4662004662004662, 0.38009675190048375, 1.4781125639567936], \"type\": \"bar\", \"uid\": \"4b4c7e90-aead-419f-859f-9e1cf146419a\"}, {\"marker\": {\"color\": \"rgba(101, 101, 101, 0.6)\", \"line\": {\"color\": \"rgba(101, 101, 101, 1.0)\", \"width\": 1}}, \"name\": \"('title1_%', '2017-2018')\", \"orientation\": \"v\", \"text\": \"\", \"x\": [\"Akins High School\", \"Anderson High School\", \"Austin High School\", \"Bowie High School\", \"Mccallum High School\"], \"y\": [1.5913200723327308, 1.08010801080108, 0.9704455227172474, 0.45138888888888884, 0.5110732538330494], \"type\": \"bar\", \"uid\": \"d51ba69d-2ea5-4513-9332-720313f71430\"}], {\"legend\": {\"bgcolor\": \"#FFFFFF\", \"font\": {\"color\": \"#666666\"}}, \"paper_bgcolor\": \"#FFFFFF\", \"plot_bgcolor\": \"#E5E5E5\", \"title\": {\"text\": \"Student Enrollment Overview\", \"font\": {\"color\": \"#151516\"}}, \"xaxis\": {\"gridcolor\": \"#F6F6F6\", \"showgrid\": true, \"tickfont\": {\"color\": \"#666666\"}, \"title\": {\"text\": \"Campus Name\", \"font\": {\"color\": \"#666666\"}}, \"zerolinecolor\": \"#F6F6F6\"}, \"yaxis\": {\"gridcolor\": \"#F6F6F6\", \"showgrid\": true, \"tickfont\": {\"color\": \"#666666\"}, \"title\": {\"text\": \"Student Enrollment\", \"font\": {\"color\": \"#666666\"}}, \"zerolinecolor\": \"#F6F6F6\"}}, {\"showLink\": true, \"linkText\": \"Export to plot.ly\", \"plotlyServerURL\": \"https://plot.ly\"})});</script><script type=\"text/javascript\">window.addEventListener(\"resize\", function(){window._Plotly.Plots.resize(document.getElementById(\"b768408a-82f1-4057-911f-58be25e71c28\"));});</script>"
      ]
     },
     "metadata": {},
     "output_type": "display_data"
    }
   ],
   "source": [
    "# find the top 5 populate high schools\n",
    "high_ind = c_df.set_index('school_type')\n",
    "high = high_ind.loc['High'].groupby(['year', 'campus']).sum()\n",
    "labels=[\"Bowie High School\",\"Akins High School\",\"Anderson High School\",\"Austin High School\",\"Mccallum High School\"]\n",
    "high_t1 = pd.DataFrame(high[['total_title1', 'total_enroll']]).reset_index()\n",
    "high_t1['title1_%'] = (high_t1['total_title1']/high_t1['total_enroll'])*100\n",
    "top_high = high_t1.set_index('campus')\n",
    "top_high = top_high[['title1_%', 'year']]\n",
    "top_5 = top_high.loc[[\"Bowie High School\",\"Akins High School\",\"Anderson High School\",\"Austin High School\",\"Mccallum High School\"]]\n",
    "top_5 = top_5.groupby(['campus', 'year']).sum()\n",
    "top_5.head()\n",
    "top_5.unstack().iplot(kind='bar', yTitle='Student Enrollment', xTitle='Campus Name', title=\"Student Enrollment Overview\")"
   ]
  },
  {
   "cell_type": "code",
   "execution_count": null,
   "metadata": {},
   "outputs": [],
   "source": []
  },
  {
   "cell_type": "code",
   "execution_count": null,
   "metadata": {
    "collapsed": true
   },
   "outputs": [],
   "source": []
  }
 ],
 "metadata": {
  "kernelspec": {
   "display_name": "Python(project)",
   "language": "python",
   "name": "projectone"
  },
  "language_info": {
   "codemirror_mode": {
    "name": "ipython",
    "version": 3
   },
   "file_extension": ".py",
   "mimetype": "text/x-python",
   "name": "python",
   "nbconvert_exporter": "python",
   "pygments_lexer": "ipython3",
   "version": "3.6.3"
  }
 },
 "nbformat": 4,
 "nbformat_minor": 2
}
