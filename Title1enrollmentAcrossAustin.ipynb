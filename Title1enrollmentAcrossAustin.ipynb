{
 "cells": [
  {
   "cell_type": "markdown",
   "metadata": {},
   "source": [
    "# Title 1 Enrollment Across the Austin Area\n",
    "\n",
    "## Hypothesis\t\n",
    "If Austin ISD school enrollment decreases, then the proportion of title 1 students to non title 1 students will increase\n",
    "\n",
    "## Null\t\n",
    "If Austin ISD school enrollment decreases, then the proportion of title 1 students to non title 1 students will decrease or not change\t\t"
   ]
  },
  {
   "cell_type": "markdown",
   "metadata": {},
   "source": [
    "![title](AISD.jpg)"
   ]
  },
  {
   "cell_type": "markdown",
   "metadata": {},
   "source": [
    "# Our Data Sources:\n",
    "\n",
    "1. CSV files from the TEA(Texas Education Agency) website.\n",
    "2. GreatSchools.org API\n",
    "3. census API\n",
    "4. google maps API\n"
   ]
  },
  {
   "cell_type": "code",
   "execution_count": null,
   "metadata": {},
   "outputs": [],
   "source": [
    "from keys import googleKey"
   ]
  },
  {
   "cell_type": "code",
   "execution_count": null,
   "metadata": {},
   "outputs": [],
   "source": [
    "# Dependencies\n",
    "import gmaps\n",
    "import requests\n",
    "import time\n",
    "from IPython.display import display\n",
    "import ipywidgets as widgets\n",
    "import SchoolExplorer as se"
   ]
  },
  {
   "cell_type": "code",
   "execution_count": null,
   "metadata": {},
   "outputs": [],
   "source": [
    "from plotly import __version__\n",
    "import cufflinks as cf\n",
    "import plotly.offline as py\n",
    "import plotly.graph_objs as go\n",
    "py.init_notebook_mode(connected=True)\n",
    "import numpy as np\n",
    "import pandas as pd\n",
    "from matplotlib import pyplot as plt\n",
    "import scipy.stats as stats"
   ]
  },
  {
   "cell_type": "code",
   "execution_count": null,
   "metadata": {},
   "outputs": [],
   "source": [
    "AustinZipCo_df= pd.read_csv(\"csv_files/AustinPopulation.csv\")\n",
    "AustinDist_df = pd.read_csv(\"csv_files/combined.csv\")"
   ]
  },
  {
   "cell_type": "code",
   "execution_count": null,
   "metadata": {},
   "outputs": [],
   "source": [
    "c_df = pd.read_csv(\"csv_files/compileddata.csv\")\n",
    "c_df = c_df.rename(columns={'Unnamed: 0': 'Index'})"
   ]
  },
  {
   "cell_type": "markdown",
   "metadata": {},
   "source": [
    "# What is Title 1?\n",
    "Title I, Part A (Title I) of the Elementary and Secondary Education Act, as amended by the Every Student Succeeds Act (ESEA) provides financial assistance to local educational agencies (LEAs) and schools with high numbers or high percentages of children from low-income families to help ensure that all children meet challenging state academic standards."
   ]
  },
  {
   "cell_type": "markdown",
   "metadata": {},
   "source": [
    "# The Austin Population Heat Map"
   ]
  },
  {
   "cell_type": "code",
   "execution_count": null,
   "metadata": {},
   "outputs": [],
   "source": [
    "\n",
    "# Store 'Lat' and 'Lng' into  locations \n",
    "locations = AustinZipCo_df[[\"LAT\", \"LNG\"]].astype(float)\n",
    "\n",
    "# Convert Population to float and store\n",
    "# HINT: be sure to handle NaN values\n",
    "population = AustinZipCo_df[\"Percent Population\"].astype(float)\n",
    "fig4 = gmaps.figure(layout={'width': '1000px','height': '1000px','border': '1px solid black','padding': '1px'})\n",
    "population_layer = gmaps.heatmap_layer(locations, weights=population, \n",
    "                                 dissipating=False, max_intensity=6,\n",
    "                                 point_radius = 0.05)\n",
    "\n",
    "fig4.add_layer(population_layer)\n",
    "\n",
    "fig4"
   ]
  },
  {
   "cell_type": "code",
   "execution_count": null,
   "metadata": {},
   "outputs": [],
   "source": [
    "df_full = pd.read_csv('csv_files/AustinSchools.csv')\n",
    "gmaps.configure(api_key=googleKey.gkey)\n",
    "df = df_full[['schoolName', 'latitude', 'longitude','enrollment','type']]\n",
    "df = df.rename(columns={\"type\":\"schoolType\"})\n",
    "df[\"Percent enrollment\"] = 100 * df[\"enrollment\"] / df[\"enrollment\"].sum()\n",
    "df.fillna(0, inplace=True)\n",
    "se.SchoolExplorer(df).render()"
   ]
  },
  {
   "cell_type": "code",
   "execution_count": null,
   "metadata": {},
   "outputs": [],
   "source": [
    "df = AustinDist_df[AustinDist_df['DISTRICT NAME'].notnull()].reset_index(drop=True)"
   ]
  },
  {
   "cell_type": "code",
   "execution_count": null,
   "metadata": {},
   "outputs": [],
   "source": [
    "#Obtains the average of masked values based on 1 percent of total enrollment\n",
    "t1_missing_val = df[df['TOTAL TITLE I STUDENTS']<0]['TOTAL ENROLLMENT'].mean()*0.01\n",
    "#This grabs the working dataframe columns from the orignal df, and will replace them with the t1_missing_val mean\n",
    "wk_df = df[['YEAR','DISTRICT NAME','DISTRICT NUMBER','REGION','TOTAL ENROLLMENT','TOTAL TITLE I STUDENTS']]\n",
    "wk_df.replace(-9999999,t1_missing_val)\n",
    "wk_df['PCT_T1'] = (wk_df['TOTAL TITLE I STUDENTS'] / wk_df['TOTAL ENROLLMENT']) * 100\n",
    "wk_df = wk_df.round()"
   ]
  },
  {
   "cell_type": "code",
   "execution_count": null,
   "metadata": {},
   "outputs": [],
   "source": [
    "def yr_enrollment(limit, year='2018-2019'):\n",
    "    '''Sort district ISDs by number of enrollment and academic year.\n",
    "    limit: takes in an integer or float\n",
    "    year: takes in a string of academic year'''\n",
    "    try:\n",
    "        data = wk_df[(wk_df['TOTAL ENROLLMENT'] >= limit) & \n",
    "        (wk_df['YEAR'] == year)][['DISTRICT NUMBER','DISTRICT NAME','TOTAL ENROLLMENT','TOTAL TITLE I STUDENTS']]\n",
    "        data = data.sort_values('TOTAL ENROLLMENT', ascending=False).reset_index(drop=True)\n",
    "        data['PCT_T1'] = (data['TOTAL TITLE I STUDENTS'] / data['TOTAL ENROLLMENT']) * 100\n",
    "        return data.round()\n",
    "    except Exception as e:\n",
    "        return print('Please read the docsting notes')"
   ]
  },
  {
   "cell_type": "code",
   "execution_count": null,
   "metadata": {},
   "outputs": [],
   "source": [
    "tx_enroll = df[df['YEAR']=='2018-2019']['TOTAL ENROLLMENT'].sum()\n",
    "tx_t1enroll = df[df['YEAR']=='2018-2019']['TOTAL TITLE I STUDENTS'].sum()\n",
    "pct_t1 = ((tx_t1enroll/tx_enroll) * 100).round()\n",
    "print(f'Texas total current enrollment: {tx_enroll}.')\n",
    "print(f'Texas total current title 1 enrollment: {tx_t1enroll}.')\n",
    "print(f'Texas total title 1 percent enrollment: {pct_t1} percent.')"
   ]
  },
  {
   "cell_type": "code",
   "execution_count": null,
   "metadata": {},
   "outputs": [],
   "source": [
    "yr_enrollment(65000)"
   ]
  },
  {
   "cell_type": "code",
   "execution_count": null,
   "metadata": {},
   "outputs": [],
   "source": [
    "#names of all ISD's surrounding Austin area.\n",
    "aus_area_schools = ['AUSTIN ISD','DEL VALLE ISD','DRIPPING SPRINGS ISD',\n",
    " 'EANES ISD','GEORGETOWN ISD','HAYS CISD','HUTTO ISD','LAKE TRAVIS ISD',\n",
    " 'LEANDER ISD','PFLUGERVILLE ISD','ROUND ROCK ISD','MANOR ISD','LAGO VISTA ISD']"
   ]
  },
  {
   "cell_type": "code",
   "execution_count": null,
   "metadata": {},
   "outputs": [],
   "source": [
    "aus_area_df = wk_df[wk_df['DISTRICT NAME'].isin(aus_area_schools)].reset_index(drop=True)"
   ]
  },
  {
   "cell_type": "code",
   "execution_count": null,
   "metadata": {},
   "outputs": [],
   "source": [
    "wk_plot = aus_area_df.groupby([\"DISTRICT NAME\", \"YEAR\"])['TOTAL ENROLLMENT'].mean().reset_index()"
   ]
  },
  {
   "cell_type": "code",
   "execution_count": null,
   "metadata": {},
   "outputs": [],
   "source": [
    "#Plot enrollments of all Austin area I\n",
    "wk_pivot = wk_plot.pivot(index='DISTRICT NAME', columns='YEAR')\n",
    "cf.set_config_file(offline=True, world_readable=False, theme='ggplot')\n",
    "wk_pivot.iplot(kind='bar',title='Autin Area ISDs')"
   ]
  },
  {
   "cell_type": "code",
   "execution_count": null,
   "metadata": {},
   "outputs": [],
   "source": [
    "t1_plot = aus_area_df.groupby([\"DISTRICT NAME\", \"YEAR\"])['TOTAL TITLE I STUDENTS'].mean().reset_index()"
   ]
  },
  {
   "cell_type": "code",
   "execution_count": null,
   "metadata": {},
   "outputs": [],
   "source": [
    "t1_pivot = t1_plot.pivot(index='DISTRICT NAME', columns='YEAR')\n",
    "cf.set_config_file(offline=True, world_readable=False, theme='ggplot')\n",
    "t1_pivot.iplot(kind='bar',title='Autin Area ISDs Title 1 Status')"
   ]
  },
  {
   "cell_type": "code",
   "execution_count": null,
   "metadata": {},
   "outputs": [],
   "source": [
    "t1_pct_plot = aus_area_df.groupby([\"DISTRICT NAME\", \"YEAR\"])['PCT_T1'].mean().reset_index()"
   ]
  },
  {
   "cell_type": "code",
   "execution_count": null,
   "metadata": {},
   "outputs": [],
   "source": [
    "t1_pct_pivot = t1_pct_plot.pivot(index='DISTRICT NAME', columns='YEAR')\n",
    "cf.set_config_file(offline=True, world_readable=False, theme='ggplot')\n",
    "t1_pct_pivot.iplot(kind='bar',title='Autin Area ISDs Title 1 Pecent Status')"
   ]
  },
  {
   "cell_type": "code",
   "execution_count": null,
   "metadata": {},
   "outputs": [],
   "source": [
    "# group by data\n",
    "# year\n",
    "year_df = c_df.groupby('year').sum()\n",
    "# year and school type\n",
    "year_type_df = c_df.groupby(['school_type', 'year']).sum()\n",
    "year_df\n",
    "# Caclulate and pull out column for percentage of title one students per year\n",
    "year_type_df['T1_rate'] = (year_type_df['total_title1']/year_type_df['total_enroll'])*100\n",
    "year_type_df\n",
    "df_s = year_type_df['T1_rate']\n",
    "df_s.head()\n",
    "\n",
    "df_s.unstack().iplot(kind='bar', yTitle='Title One Student Enrollment (%)', xTitle='School Type', title=\"Title One Student Percentage by School Type\")"
   ]
  },
  {
   "cell_type": "code",
   "execution_count": null,
   "metadata": {
    "scrolled": false
   },
   "outputs": [],
   "source": [
    "# title one vs. non-title one\n",
    "# Calculate proportion of title one to non-title one students\n",
    "c_df['non_title1'] = c_df['total_enroll']- c_df['total_title1']\n",
    "non_t1 = c_df[['year', 'total_title1', 'non_title1']]\n",
    "non_t1_sum = non_t1.groupby('year').sum()\n",
    "\n",
    "non_df = non_t1_sum.reset_index()\n",
    "non_df['Percentage'] = (non_df['non_title1']/non_df['total_title1'])*100\n",
    "non_df['Ratio'] = (100/non_df['Percentage'])\n",
    "non_df['T1_rate_of_change'] = (non_df.iloc[0,1]-non_df['total_title1'])*(-1)\n",
    "non_df['n-T1_rate_of_change'] = (non_df.iloc[0,2]-non_df['non_title1'])*(-1)\n",
    "non_df['n-T1_negatvie_rate_of_change'] = (non_df.iloc[0,2]-non_df['non_title1'])\n",
    "rate_enr_t1 = non_df[['year', 'T1_rate_of_change', 'n-T1_negatvie_rate_of_change']]\n",
    "non_df\n",
    "\n",
    "df_nnn = non_df[['year','Ratio']].set_index('year')\n",
    "df_nnn.iplot(kind='line', yTitle='Ratio Title One to Non-Title One', xTitle='Year', title=\"Title One to Non-Title One Ratio\")"
   ]
  },
  {
   "cell_type": "code",
   "execution_count": null,
   "metadata": {},
   "outputs": [],
   "source": [
    "# enrollment trends\n",
    "final =year_df.reset_index()\n",
    "final_df = final[['total_title1', 'year', 'total_enroll']]\n",
    "trace1 = go.Bar(\n",
    "    x=final_df['year'],\n",
    "    y=final_df['total_enroll'],\n",
    "    name='Total Enrollment',\n",
    "    opacity=0.5\n",
    ")\n",
    "trace2 = go.Bar(\n",
    "    x=final_df['year'],\n",
    "    y=final_df['total_title1'],\n",
    "    name='Title One Enrollment',\n",
    "    yaxis='y2',\n",
    "    opacity=0.4\n",
    ")\n",
    "data = [trace1, trace2]\n",
    "layout = go.Layout(\n",
    "    title='Enrollment Trends',\n",
    "    yaxis=dict(\n",
    "        title='Total Enrollment'\n",
    "    ),\n",
    "    yaxis2=dict(\n",
    "        title='Title One Enrollment',\n",
    "        titlefont=dict(\n",
    "            color='orange'\n",
    "        ),\n",
    "        tickfont=dict(\n",
    "            color='orange'\n",
    "        ),\n",
    "        overlaying='y',\n",
    "        side='right'\n",
    "    ),\n",
    "     xaxis=dict(title='Year')\n",
    ")\n",
    "fig = go.Figure(data=data, layout=layout)\n",
    "py.iplot(fig)"
   ]
  },
  {
   "cell_type": "code",
   "execution_count": null,
   "metadata": {},
   "outputs": [],
   "source": [
    "%store -r df\n",
    "df.head()"
   ]
  },
  {
   "cell_type": "code",
   "execution_count": null,
   "metadata": {},
   "outputs": [],
   "source": [
    "%store -r firstR\n",
    "print(\"14-16 Results\", firstR, sep='\\n\\n')"
   ]
  },
  {
   "cell_type": "code",
   "execution_count": null,
   "metadata": {},
   "outputs": [],
   "source": [
    "%store -r secondR\n",
    "print(\"15-17 Results\", secondR, sep='\\n\\n')"
   ]
  },
  {
   "cell_type": "code",
   "execution_count": null,
   "metadata": {},
   "outputs": [],
   "source": [
    "%store -r thirdR\n",
    "print(\"16-18 Results\", secondR, sep='\\n\\n')"
   ]
  },
  {
   "cell_type": "code",
   "execution_count": null,
   "metadata": {},
   "outputs": [],
   "source": [
    "%store -r ethnicity_total_df\n",
    "ethnicity_total_df.head()"
   ]
  },
  {
   "cell_type": "code",
   "execution_count": null,
   "metadata": {},
   "outputs": [],
   "source": [
    "ethnicity_total_df.boxplot(\"2017-2018 TOTAL TITLE I STUDENTS\", by=\"Major Ethnicity\", showfliers=False)\n",
    "plt.suptitle(\"\")\n",
    "plt.title('Boxplot by Major Ethnicity')\n",
    "plt.plot()"
   ]
  },
  {
   "cell_type": "code",
   "execution_count": null,
   "metadata": {},
   "outputs": [],
   "source": [
    "stats.ttest_ind(hispanic_pop['2017-2018 TOTAL TITLE I STUDENTS'], white_non_h_pop['2017-2018 TOTAL TITLE I STUDENTS'], equal_var=False)"
   ]
  },
  {
   "cell_type": "code",
   "execution_count": null,
   "metadata": {},
   "outputs": [],
   "source": []
  }
 ],
 "metadata": {
  "kernelspec": {
   "display_name": "Python(ProjectOne)",
   "language": "python",
   "name": "projectone"
  },
  "language_info": {
   "codemirror_mode": {
    "name": "ipython",
    "version": 3
   },
   "file_extension": ".py",
   "mimetype": "text/x-python",
   "name": "python",
   "nbconvert_exporter": "python",
   "pygments_lexer": "ipython3",
   "version": "3.7.1"
  }
 },
 "nbformat": 4,
 "nbformat_minor": 2
}
