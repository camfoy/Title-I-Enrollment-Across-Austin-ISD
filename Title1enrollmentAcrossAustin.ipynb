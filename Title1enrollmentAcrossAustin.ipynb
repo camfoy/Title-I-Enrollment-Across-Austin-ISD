{
 "cells": [
  {
   "cell_type": "markdown",
   "metadata": {},
   "source": [
    "# Title 1 Enrollment Across the Austin Area\n",
    "\n",
    "## Hypothesis\t\n",
    "If Austin ISD school enrollment decreases, then the proportion of title 1 students to non title 1 students will increase\n",
    "\n",
    "## Null\t\n",
    "If Austin ISD school enrollment decreases, then the proportion of title 1 students to non title 1 students will decrease or not change\t\t"
   ]
  },
  {
   "cell_type": "markdown",
   "metadata": {},
   "source": [
    "![title](AISD.jpg)"
   ]
  },
  {
   "cell_type": "markdown",
   "metadata": {},
   "source": [
    "# Our Data Sources:\n",
    "\n",
    "1. CSV files from the TEA(Texas Education Agency) website.\n",
    "2. GreatSchools.org API\n",
    "3. census API\n",
    "4. google maps API\n"
   ]
  },
  {
   "cell_type": "code",
   "execution_count": null,
   "metadata": {},
   "outputs": [],
   "source": [
    "from keys import googleKey"
   ]
  },
  {
   "cell_type": "code",
   "execution_count": 1,
   "metadata": {},
   "outputs": [
    {
     "ename": "ModuleNotFoundError",
     "evalue": "No module named 'keys'",
     "output_type": "error",
     "traceback": [
      "\u001b[0;31m---------------------------------------------------------------------------\u001b[0m",
      "\u001b[0;31mModuleNotFoundError\u001b[0m                       Traceback (most recent call last)",
      "\u001b[0;32m<ipython-input-1-c7a81042a144>\u001b[0m in \u001b[0;36m<module>\u001b[0;34m\u001b[0m\n\u001b[1;32m      5\u001b[0m \u001b[0;32mfrom\u001b[0m \u001b[0mIPython\u001b[0m\u001b[0;34m.\u001b[0m\u001b[0mdisplay\u001b[0m \u001b[0;32mimport\u001b[0m \u001b[0mdisplay\u001b[0m\u001b[0;34m\u001b[0m\u001b[0;34m\u001b[0m\u001b[0m\n\u001b[1;32m      6\u001b[0m \u001b[0;32mimport\u001b[0m \u001b[0mipywidgets\u001b[0m \u001b[0;32mas\u001b[0m \u001b[0mwidgets\u001b[0m\u001b[0;34m\u001b[0m\u001b[0;34m\u001b[0m\u001b[0m\n\u001b[0;32m----> 7\u001b[0;31m \u001b[0;32mimport\u001b[0m \u001b[0mSchoolExplorer\u001b[0m \u001b[0;32mas\u001b[0m \u001b[0mse\u001b[0m\u001b[0;34m\u001b[0m\u001b[0;34m\u001b[0m\u001b[0m\n\u001b[0m",
      "\u001b[0;32m~/Desktop/Project One/SchoolExplorer.py\u001b[0m in \u001b[0;36m<module>\u001b[0;34m\u001b[0m\n\u001b[1;32m      6\u001b[0m \u001b[0;34m\u001b[0m\u001b[0m\n\u001b[1;32m      7\u001b[0m \u001b[0;31m# Dependencies\u001b[0m\u001b[0;34m\u001b[0m\u001b[0;34m\u001b[0m\u001b[0;34m\u001b[0m\u001b[0m\n\u001b[0;32m----> 8\u001b[0;31m \u001b[0;32mfrom\u001b[0m \u001b[0mkeys\u001b[0m \u001b[0;32mimport\u001b[0m \u001b[0mgoogleKey\u001b[0m\u001b[0;34m\u001b[0m\u001b[0;34m\u001b[0m\u001b[0m\n\u001b[0m\u001b[1;32m      9\u001b[0m \u001b[0;34m\u001b[0m\u001b[0m\n\u001b[1;32m     10\u001b[0m \u001b[0;32mimport\u001b[0m \u001b[0mgmaps\u001b[0m\u001b[0;34m\u001b[0m\u001b[0;34m\u001b[0m\u001b[0m\n",
      "\u001b[0;31mModuleNotFoundError\u001b[0m: No module named 'keys'"
     ]
    }
   ],
   "source": [
    "# Dependencies\n",
    "import gmaps\n",
    "import requests\n",
    "import time\n",
    "from IPython.display import display\n",
    "import ipywidgets as widgets\n",
    "import SchoolExplorer as se"
   ]
  },
  {
   "cell_type": "code",
   "execution_count": null,
   "metadata": {},
   "outputs": [],
   "source": [
    "from plotly import __version__\n",
    "import cufflinks as cf\n",
    "import plotly.offline as py\n",
    "import plotly.graph_objs as go\n",
    "py.init_notebook_mode(connected=True)\n",
    "import numpy as np\n",
    "import pandas as pd\n",
    "from matplotlib import pyplot as plt\n",
    "import scipy.stats as stats"
   ]
  },
  {
   "cell_type": "code",
   "execution_count": null,
   "metadata": {},
   "outputs": [],
   "source": [
    "AustinZipCo_df= pd.read_csv(\"csv_files/AustinPopulation.csv\")\n",
    "AustinDist_df = pd.read_csv(\"csv_files/combined.csv\")"
   ]
  },
  {
   "cell_type": "code",
   "execution_count": null,
   "metadata": {},
   "outputs": [],
   "source": [
    "c_df = pd.read_csv(\"csv_files/compileddata.csv\")\n",
    "c_df = c_df.rename(columns={'Unnamed: 0': 'Index'})"
   ]
  },
  {
   "cell_type": "markdown",
   "metadata": {},
   "source": [
    "# What is Title 1?\n",
    "Title I, Part A (Title I) of the Elementary and Secondary Education Act, as amended by the Every Student Succeeds Act (ESEA) provides financial assistance to local educational agencies (LEAs) and schools with high numbers or high percentages of children from low-income families to help ensure that all children meet challenging state academic standards."
   ]
  },
  {
   "cell_type": "markdown",
   "metadata": {},
   "source": [
    "# The Austin Population Heat Map"
   ]
  },
  {
   "cell_type": "code",
   "execution_count": null,
   "metadata": {},
   "outputs": [],
   "source": [
    "\n",
    "# Store 'Lat' and 'Lng' into  locations \n",
    "locations = AustinZipCo_df[[\"LAT\", \"LNG\"]].astype(float)\n",
    "\n",
    "# Convert Population to float and store\n",
    "# HINT: be sure to handle NaN values\n",
    "population = AustinZipCo_df[\"Percent Population\"].astype(float)\n",
    "fig4 = gmaps.figure(layout={'width': '1000px','height': '1000px','border': '1px solid black','padding': '1px'})\n",
    "population_layer = gmaps.heatmap_layer(locations, weights=population, \n",
    "                                 dissipating=False, max_intensity=6,\n",
    "                                 point_radius = 0.05)\n",
    "\n",
    "fig4.add_layer(population_layer)\n",
    "\n",
    "fig4"
   ]
  },
  {
   "cell_type": "code",
   "execution_count": null,
   "metadata": {},
   "outputs": [],
   "source": [
    "df_full = pd.read_csv('csv_files/AustinSchools.csv')\n",
    "gmaps.configure(api_key=googleKey.gkey)\n",
    "df = df_full[['schoolName', 'latitude', 'longitude','enrollment','type']]\n",
    "df = df.rename(columns={\"type\":\"schoolType\"})\n",
    "df[\"Percent enrollment\"] = 100 * df[\"enrollment\"] / df[\"enrollment\"].sum()\n",
    "df.fillna(0, inplace=True)\n",
    "se.SchoolExplorer(df).render()"
   ]
  },
  {
   "cell_type": "code",
   "execution_count": null,
   "metadata": {},
   "outputs": [],
   "source": [
    "df = AustinDist_df[AustinDist_df['DISTRICT NAME'].notnull()].reset_index(drop=True)"
   ]
  },
  {
   "cell_type": "code",
   "execution_count": null,
   "metadata": {},
   "outputs": [],
   "source": [
    "#Obtains the average of masked values based on 1 percent of total enrollment\n",
    "t1_missing_val = df[df['TOTAL TITLE I STUDENTS']<0]['TOTAL ENROLLMENT'].mean()*0.01\n",
    "#This grabs the working dataframe columns from the orignal df, and will replace them with the t1_missing_val mean\n",
    "wk_df = df[['YEAR','DISTRICT NAME','DISTRICT NUMBER','REGION','TOTAL ENROLLMENT','TOTAL TITLE I STUDENTS']]\n",
    "wk_df.replace(-9999999,t1_missing_val)\n",
    "wk_df['PCT_T1'] = (wk_df['TOTAL TITLE I STUDENTS'] / wk_df['TOTAL ENROLLMENT']) * 100\n",
    "wk_df = wk_df.round()"
   ]
  },
  {
   "cell_type": "code",
   "execution_count": null,
   "metadata": {},
   "outputs": [],
   "source": [
    "def yr_enrollment(limit, year='2018-2019'):\n",
    "    '''Sort district ISDs by number of enrollment and academic year.\n",
    "    limit: takes in an integer or float\n",
    "    year: takes in a string of academic year'''\n",
    "    try:\n",
    "        data = wk_df[(wk_df['TOTAL ENROLLMENT'] >= limit) & \n",
    "        (wk_df['YEAR'] == year)][['DISTRICT NUMBER','DISTRICT NAME','TOTAL ENROLLMENT','TOTAL TITLE I STUDENTS']]\n",
    "        data = data.sort_values('TOTAL ENROLLMENT', ascending=False).reset_index(drop=True)\n",
    "        data['PCT_T1'] = (data['TOTAL TITLE I STUDENTS'] / data['TOTAL ENROLLMENT']) * 100\n",
    "        return data.round()\n",
    "    except Exception as e:\n",
    "        return print('Please read the docsting notes')"
   ]
  },
  {
   "cell_type": "code",
   "execution_count": null,
   "metadata": {},
   "outputs": [],
   "source": [
    "tx_enroll = df[df['YEAR']=='2018-2019']['TOTAL ENROLLMENT'].sum()\n",
    "tx_t1enroll = df[df['YEAR']=='2018-2019']['TOTAL TITLE I STUDENTS'].sum()\n",
    "pct_t1 = ((tx_t1enroll/tx_enroll) * 100).round()\n",
    "print(f'Texas total current enrollment: {tx_enroll}.')\n",
    "print(f'Texas total current title 1 enrollment: {tx_t1enroll}.')\n",
    "print(f'Texas total title 1 percent enrollment: {pct_t1} percent.')"
   ]
  },
  {
   "cell_type": "code",
   "execution_count": null,
   "metadata": {},
   "outputs": [],
   "source": [
    "yr_enrollment(65000)"
   ]
  },
  {
   "cell_type": "code",
   "execution_count": null,
   "metadata": {},
   "outputs": [],
   "source": [
    "#names of all ISD's surrounding Austin area.\n",
    "aus_area_schools = ['AUSTIN ISD','DEL VALLE ISD','DRIPPING SPRINGS ISD',\n",
    " 'EANES ISD','GEORGETOWN ISD','HAYS CISD','HUTTO ISD','LAKE TRAVIS ISD',\n",
    " 'LEANDER ISD','PFLUGERVILLE ISD','ROUND ROCK ISD','MANOR ISD','LAGO VISTA ISD']"
   ]
  },
  {
   "cell_type": "code",
   "execution_count": null,
   "metadata": {},
   "outputs": [],
   "source": [
    "aus_area_df = wk_df[wk_df['DISTRICT NAME'].isin(aus_area_schools)].reset_index(drop=True)"
   ]
  },
  {
   "cell_type": "code",
   "execution_count": null,
   "metadata": {},
   "outputs": [],
   "source": [
    "wk_plot = aus_area_df.groupby([\"DISTRICT NAME\", \"YEAR\"])['TOTAL ENROLLMENT'].mean().reset_index()"
   ]
  },
  {
   "cell_type": "code",
   "execution_count": null,
   "metadata": {},
   "outputs": [],
   "source": [
    "#Plot enrollments of all Austin area I\n",
    "wk_pivot = wk_plot.pivot(index='DISTRICT NAME', columns='YEAR')\n",
    "cf.set_config_file(offline=True, world_readable=False, theme='ggplot')\n",
    "wk_pivot.iplot(kind='bar',title='Autin Area ISDs')"
   ]
  },
  {
   "cell_type": "code",
   "execution_count": null,
   "metadata": {},
   "outputs": [],
   "source": [
    "t1_plot = aus_area_df.groupby([\"DISTRICT NAME\", \"YEAR\"])['TOTAL TITLE I STUDENTS'].mean().reset_index()"
   ]
  },
  {
   "cell_type": "code",
   "execution_count": null,
   "metadata": {},
   "outputs": [],
   "source": [
    "t1_pivot = t1_plot.pivot(index='DISTRICT NAME', columns='YEAR')\n",
    "cf.set_config_file(offline=True, world_readable=False, theme='ggplot')\n",
    "t1_pivot.iplot(kind='bar',title='Autin Area ISDs Title 1 Status')"
   ]
  },
  {
   "cell_type": "code",
   "execution_count": null,
   "metadata": {},
   "outputs": [],
   "source": [
    "t1_pct_plot = aus_area_df.groupby([\"DISTRICT NAME\", \"YEAR\"])['PCT_T1'].mean().reset_index()"
   ]
  },
  {
   "cell_type": "code",
   "execution_count": null,
   "metadata": {},
   "outputs": [],
   "source": [
    "t1_pct_pivot = t1_pct_plot.pivot(index='DISTRICT NAME', columns='YEAR')\n",
    "cf.set_config_file(offline=True, world_readable=False, theme='ggplot')\n",
    "t1_pct_pivot.iplot(kind='bar',title='Autin Area ISDs Title 1 Pecent Status')"
   ]
  },
  {
   "cell_type": "code",
   "execution_count": null,
   "metadata": {},
   "outputs": [],
   "source": [
    "# title one vs. non-title one\n",
    "# Calculate proportion of title one to non-title one students\n",
    "c_df['non_title1'] = c_df['total_enroll']- c_df['total_title1']\n",
    "non_t1 = c_df[['year', 'total_title1', 'non_title1']]\n",
    "non_t1_sum = non_t1.groupby('year').sum()\n",
    "\n",
    "non_df = non_t1_sum.reset_index()\n",
    "non_df['Percentage'] = (non_df['non_title1']/non_df['total_title1'])*100\n",
    "non_df['Ratio'] = (100/non_df['Percentage'])\n",
    "non_df['T1_rate_of_change'] = (non_df.iloc[0,1]-non_df['total_title1'])*(-1)\n",
    "non_df['n-T1_rate_of_change'] = (non_df.iloc[0,2]-non_df['non_title1'])*(-1)\n",
    "non_df['n-T1_negatvie_rate_of_change'] = (non_df.iloc[0,2]-non_df['non_title1'])\n",
    "rate_enr_t1 = non_df[['year', 'T1_rate_of_change', 'n-T1_negatvie_rate_of_change']]\n",
    "non_df\n",
    "\n",
    "df_nnn = non_df[['year','Ratio']].set_index('year')\n",
    "df_nnn.iplot(kind='line', yTitle='Ratio Title One to Non-Title One', xTitle='Years', title=\"Title One to Non-Title One Ratio\")"
   ]
  },
  {
   "cell_type": "code",
   "execution_count": null,
   "metadata": {},
   "outputs": [],
   "source": [
    "# group by data\n",
    "# year\n",
    "year_df = c_df.groupby('year').sum()\n",
    "# year and school type\n",
    "year_type_df = c_df.groupby(['school_type', 'year']).sum()\n",
    "year_df\n",
    "# Caclulate and pull out column for percentage of title one students per year\n",
    "year_type_df['T1_rate'] = (year_type_df['total_title1']/year_type_df['total_enroll'])*100\n",
    "year_type_df\n",
    "df_s = year_type_df['T1_rate']\n",
    "df_s.head()\n",
    "\n",
    "df_s.unstack().iplot(kind='bar', yTitle='Title One Student Enrollment (%)', xTitle='School Type', title=\"Title One Student Percentage by School Type\")"
   ]
  },
  {
   "cell_type": "code",
   "execution_count": null,
   "metadata": {},
   "outputs": [],
   "source": [
    "# find the top 5 populate high schools\n",
    "high_ind = c_df.set_index('school_type')\n",
    "high = high_ind.loc['High'].groupby(['year', 'campus']).sum()\n",
    "labels=[\"Bowie High School\",\"Akins High School\",\"Anderson High School\",\"Austin High School\",\"Mccallum High School\"]\n",
    "high_t1 = pd.DataFrame(high[['total_title1', 'total_enroll']]).reset_index()\n",
    "high_t1['title1_%'] = (high_t1['total_title1']/high_t1['total_enroll'])*100\n",
    "top_high = high_t1.set_index('campus')\n",
    "top_high = top_high[['title1_%', 'year']]\n",
    "top_5 = top_high.loc[[\"Bowie High School\",\"Akins High School\",\"Anderson High School\",\"Austin High School\",\"Mccallum High School\"]]\n",
    "top_5 = top_5.groupby(['campus', 'year']).sum()\n",
    "top_5.head()\n",
    "top_5.unstack().iplot(kind='bar', yTitle='Student Enrollment', xTitle='Campus Name', title=\"Student Enrollment Overview\")"
   ]
  },
  {
   "cell_type": "code",
   "execution_count": 3,
   "metadata": {},
   "outputs": [
    {
     "data": {
      "text/html": [
       "<div>\n",
       "<style scoped>\n",
       "    .dataframe tbody tr th:only-of-type {\n",
       "        vertical-align: middle;\n",
       "    }\n",
       "\n",
       "    .dataframe tbody tr th {\n",
       "        vertical-align: top;\n",
       "    }\n",
       "\n",
       "    .dataframe thead th {\n",
       "        text-align: right;\n",
       "    }\n",
       "</style>\n",
       "<table border=\"1\" class=\"dataframe\">\n",
       "  <thead>\n",
       "    <tr style=\"text-align: right;\">\n",
       "      <th></th>\n",
       "      <th>name</th>\n",
       "      <th>type</th>\n",
       "      <th>14-16 Percent Title I Change</th>\n",
       "      <th>14-16 Total Enrollment Change</th>\n",
       "      <th>15-17 Percent Title I Change</th>\n",
       "      <th>15-17 Total Enrollment Change</th>\n",
       "      <th>16-18 Percent Title I Change</th>\n",
       "      <th>16-18 Total Enrollment Change</th>\n",
       "    </tr>\n",
       "  </thead>\n",
       "  <tbody>\n",
       "    <tr>\n",
       "      <th>0</th>\n",
       "      <td>AKINS H S</td>\n",
       "      <td>public</td>\n",
       "      <td>284.281071</td>\n",
       "      <td>46.0</td>\n",
       "      <td>-31.727699</td>\n",
       "      <td>-33.0</td>\n",
       "      <td>47.059924</td>\n",
       "      <td>85.0</td>\n",
       "    </tr>\n",
       "    <tr>\n",
       "      <th>1</th>\n",
       "      <td>ALLISON EL</td>\n",
       "      <td>public</td>\n",
       "      <td>0.000000</td>\n",
       "      <td>58.0</td>\n",
       "      <td>0.000000</td>\n",
       "      <td>-85.0</td>\n",
       "      <td>0.000000</td>\n",
       "      <td>19.0</td>\n",
       "    </tr>\n",
       "    <tr>\n",
       "      <th>2</th>\n",
       "      <td>ANDERSON H S</td>\n",
       "      <td>public</td>\n",
       "      <td>42.507008</td>\n",
       "      <td>46.0</td>\n",
       "      <td>-29.606450</td>\n",
       "      <td>-53.0</td>\n",
       "      <td>117.690860</td>\n",
       "      <td>5.0</td>\n",
       "    </tr>\n",
       "    <tr>\n",
       "      <th>3</th>\n",
       "      <td>ANDREWS EL</td>\n",
       "      <td>public</td>\n",
       "      <td>0.000000</td>\n",
       "      <td>-63.0</td>\n",
       "      <td>0.000000</td>\n",
       "      <td>-22.0</td>\n",
       "      <td>0.000000</td>\n",
       "      <td>-68.0</td>\n",
       "    </tr>\n",
       "    <tr>\n",
       "      <th>4</th>\n",
       "      <td>AUSTIN H S</td>\n",
       "      <td>public</td>\n",
       "      <td>36.429070</td>\n",
       "      <td>-1.0</td>\n",
       "      <td>-35.229215</td>\n",
       "      <td>61.0</td>\n",
       "      <td>108.160565</td>\n",
       "      <td>122.0</td>\n",
       "    </tr>\n",
       "  </tbody>\n",
       "</table>\n",
       "</div>"
      ],
      "text/plain": [
       "           name    type  14-16 Percent Title I Change  \\\n",
       "0     AKINS H S  public                    284.281071   \n",
       "1    ALLISON EL  public                      0.000000   \n",
       "2  ANDERSON H S  public                     42.507008   \n",
       "3    ANDREWS EL  public                      0.000000   \n",
       "4    AUSTIN H S  public                     36.429070   \n",
       "\n",
       "   14-16 Total Enrollment Change  15-17 Percent Title I Change  \\\n",
       "0                           46.0                    -31.727699   \n",
       "1                           58.0                      0.000000   \n",
       "2                           46.0                    -29.606450   \n",
       "3                          -63.0                      0.000000   \n",
       "4                           -1.0                    -35.229215   \n",
       "\n",
       "   15-17 Total Enrollment Change  16-18 Percent Title I Change  \\\n",
       "0                          -33.0                     47.059924   \n",
       "1                          -85.0                      0.000000   \n",
       "2                          -53.0                    117.690860   \n",
       "3                          -22.0                      0.000000   \n",
       "4                           61.0                    108.160565   \n",
       "\n",
       "   16-18 Total Enrollment Change  \n",
       "0                           85.0  \n",
       "1                           19.0  \n",
       "2                            5.0  \n",
       "3                          -68.0  \n",
       "4                          122.0  "
      ]
     },
     "execution_count": 3,
     "metadata": {},
     "output_type": "execute_result"
    }
   ],
   "source": [
    "%store -r df\n",
    "df.head()"
   ]
  },
  {
   "cell_type": "code",
   "execution_count": 10,
   "metadata": {},
   "outputs": [
    {
     "name": "stdout",
     "output_type": "stream",
     "text": [
      "14-16 Results\n",
      "\n",
      "LinregressResult(slope=-0.8559449607655654, intercept=383.44351497749466, rvalue=-0.014640106766023188, pvalue=0.8804631468374476, stderr=5.678087962438074)\n"
     ]
    }
   ],
   "source": [
    "%store -r firstR\n",
    "print(\"14-16 Results\", firstR, sep='\\n\\n')"
   ]
  },
  {
   "cell_type": "code",
   "execution_count": 11,
   "metadata": {},
   "outputs": [
    {
     "name": "stdout",
     "output_type": "stream",
     "text": [
      "15-17 Results\n",
      "\n",
      "LinregressResult(slope=0.6710295889902052, intercept=28.304865870518164, rvalue=0.1242204220421749, pvalue=0.20023499103991366, stderr=0.5206176406570172)\n"
     ]
    }
   ],
   "source": [
    "%store -r secondR\n",
    "print(\"15-17 Results\", secondR, sep='\\n\\n')"
   ]
  },
  {
   "cell_type": "code",
   "execution_count": 12,
   "metadata": {},
   "outputs": [
    {
     "name": "stdout",
     "output_type": "stream",
     "text": [
      "16-18 Results\n",
      "\n",
      "LinregressResult(slope=0.6710295889902052, intercept=28.304865870518164, rvalue=0.1242204220421749, pvalue=0.20023499103991366, stderr=0.5206176406570172)\n"
     ]
    }
   ],
   "source": [
    "%store -r thirdR\n",
    "print(\"16-18 Results\", secondR, sep='\\n\\n')"
   ]
  },
  {
   "cell_type": "code",
   "execution_count": 15,
   "metadata": {},
   "outputs": [
    {
     "data": {
      "text/html": [
       "<div>\n",
       "<style scoped>\n",
       "    .dataframe tbody tr th:only-of-type {\n",
       "        vertical-align: middle;\n",
       "    }\n",
       "\n",
       "    .dataframe tbody tr th {\n",
       "        vertical-align: top;\n",
       "    }\n",
       "\n",
       "    .dataframe thead th {\n",
       "        text-align: right;\n",
       "    }\n",
       "</style>\n",
       "<table border=\"1\" class=\"dataframe\">\n",
       "  <thead>\n",
       "    <tr style=\"text-align: right;\">\n",
       "      <th></th>\n",
       "      <th>name</th>\n",
       "      <th>2014-2015 TOTAL TITLE I STUDENTS</th>\n",
       "      <th>2015-2016 TOTAL TITLE I STUDENTS</th>\n",
       "      <th>2016-2017 TOTAL TITLE I STUDENTS</th>\n",
       "      <th>2017-2018 TOTAL TITLE I STUDENTS</th>\n",
       "      <th>White, non-Hispanic</th>\n",
       "      <th>Black, non-Hispanic</th>\n",
       "      <th>Hispanic</th>\n",
       "      <th>Multiracial</th>\n",
       "      <th>Asian</th>\n",
       "      <th>Native American or Native Alaskan</th>\n",
       "      <th>Native Hawaiian or Other Pacific Islander</th>\n",
       "      <th>Major Ethnicity</th>\n",
       "    </tr>\n",
       "  </thead>\n",
       "  <tbody>\n",
       "    <tr>\n",
       "      <th>0</th>\n",
       "      <td>AKINS H S</td>\n",
       "      <td>11.0</td>\n",
       "      <td>43.0</td>\n",
       "      <td>29.0</td>\n",
       "      <td>44.0</td>\n",
       "      <td>10.50</td>\n",
       "      <td>8.18</td>\n",
       "      <td>76.82</td>\n",
       "      <td>1.51</td>\n",
       "      <td>2.80</td>\n",
       "      <td>0.07</td>\n",
       "      <td>0.11</td>\n",
       "      <td>Hispanic</td>\n",
       "    </tr>\n",
       "    <tr>\n",
       "      <th>1</th>\n",
       "      <td>ALLISON EL</td>\n",
       "      <td>487.0</td>\n",
       "      <td>545.0</td>\n",
       "      <td>460.0</td>\n",
       "      <td>479.0</td>\n",
       "      <td>0.55</td>\n",
       "      <td>4.04</td>\n",
       "      <td>95.23</td>\n",
       "      <td>0.00</td>\n",
       "      <td>0.00</td>\n",
       "      <td>0.18</td>\n",
       "      <td>0.00</td>\n",
       "      <td>Hispanic</td>\n",
       "    </tr>\n",
       "    <tr>\n",
       "      <th>2</th>\n",
       "      <td>ANDERSON H S</td>\n",
       "      <td>11.0</td>\n",
       "      <td>16.0</td>\n",
       "      <td>11.0</td>\n",
       "      <td>24.0</td>\n",
       "      <td>50.84</td>\n",
       "      <td>5.90</td>\n",
       "      <td>32.11</td>\n",
       "      <td>3.83</td>\n",
       "      <td>7.09</td>\n",
       "      <td>0.18</td>\n",
       "      <td>0.04</td>\n",
       "      <td>White, non-Hispanic</td>\n",
       "    </tr>\n",
       "    <tr>\n",
       "      <th>3</th>\n",
       "      <td>ANDREWS EL</td>\n",
       "      <td>657.0</td>\n",
       "      <td>594.0</td>\n",
       "      <td>572.0</td>\n",
       "      <td>504.0</td>\n",
       "      <td>3.70</td>\n",
       "      <td>13.47</td>\n",
       "      <td>79.97</td>\n",
       "      <td>0.17</td>\n",
       "      <td>2.53</td>\n",
       "      <td>0.17</td>\n",
       "      <td>0.00</td>\n",
       "      <td>Hispanic</td>\n",
       "    </tr>\n",
       "    <tr>\n",
       "      <th>4</th>\n",
       "      <td>AUSTIN H S</td>\n",
       "      <td>11.0</td>\n",
       "      <td>15.0</td>\n",
       "      <td>10.0</td>\n",
       "      <td>22.0</td>\n",
       "      <td>45.92</td>\n",
       "      <td>4.80</td>\n",
       "      <td>44.19</td>\n",
       "      <td>2.98</td>\n",
       "      <td>1.92</td>\n",
       "      <td>0.10</td>\n",
       "      <td>0.10</td>\n",
       "      <td>Other</td>\n",
       "    </tr>\n",
       "  </tbody>\n",
       "</table>\n",
       "</div>"
      ],
      "text/plain": [
       "           name  2014-2015 TOTAL TITLE I STUDENTS  \\\n",
       "0     AKINS H S                              11.0   \n",
       "1    ALLISON EL                             487.0   \n",
       "2  ANDERSON H S                              11.0   \n",
       "3    ANDREWS EL                             657.0   \n",
       "4    AUSTIN H S                              11.0   \n",
       "\n",
       "   2015-2016 TOTAL TITLE I STUDENTS  2016-2017 TOTAL TITLE I STUDENTS  \\\n",
       "0                              43.0                              29.0   \n",
       "1                             545.0                             460.0   \n",
       "2                              16.0                              11.0   \n",
       "3                             594.0                             572.0   \n",
       "4                              15.0                              10.0   \n",
       "\n",
       "   2017-2018 TOTAL TITLE I STUDENTS  White, non-Hispanic  Black, non-Hispanic  \\\n",
       "0                              44.0                10.50                 8.18   \n",
       "1                             479.0                 0.55                 4.04   \n",
       "2                              24.0                50.84                 5.90   \n",
       "3                             504.0                 3.70                13.47   \n",
       "4                              22.0                45.92                 4.80   \n",
       "\n",
       "   Hispanic  Multiracial  Asian  Native American or Native Alaskan  \\\n",
       "0     76.82         1.51   2.80                               0.07   \n",
       "1     95.23         0.00   0.00                               0.18   \n",
       "2     32.11         3.83   7.09                               0.18   \n",
       "3     79.97         0.17   2.53                               0.17   \n",
       "4     44.19         2.98   1.92                               0.10   \n",
       "\n",
       "   Native Hawaiian or Other Pacific Islander      Major Ethnicity  \n",
       "0                                       0.11             Hispanic  \n",
       "1                                       0.00             Hispanic  \n",
       "2                                       0.04  White, non-Hispanic  \n",
       "3                                       0.00             Hispanic  \n",
       "4                                       0.10                Other  "
      ]
     },
     "execution_count": 15,
     "metadata": {},
     "output_type": "execute_result"
    }
   ],
   "source": [
    "%store -r ethnicity_total_df\n",
    "ethnicity_total_df.head()"
   ]
  },
  {
   "cell_type": "code",
   "execution_count": 16,
   "metadata": {},
   "outputs": [
    {
     "ename": "NameError",
     "evalue": "name 'plt' is not defined",
     "output_type": "error",
     "traceback": [
      "\u001b[0;31m---------------------------------------------------------------------------\u001b[0m",
      "\u001b[0;31mNameError\u001b[0m                                 Traceback (most recent call last)",
      "\u001b[0;32m<ipython-input-16-08c38cad7747>\u001b[0m in \u001b[0;36m<module>\u001b[0;34m\u001b[0m\n\u001b[1;32m      1\u001b[0m \u001b[0methnicity_total_df\u001b[0m\u001b[0;34m.\u001b[0m\u001b[0mboxplot\u001b[0m\u001b[0;34m(\u001b[0m\u001b[0;34m\"2017-2018 TOTAL TITLE I STUDENTS\"\u001b[0m\u001b[0;34m,\u001b[0m \u001b[0mby\u001b[0m\u001b[0;34m=\u001b[0m\u001b[0;34m\"Major Ethnicity\"\u001b[0m\u001b[0;34m,\u001b[0m \u001b[0mshowfliers\u001b[0m\u001b[0;34m=\u001b[0m\u001b[0;32mFalse\u001b[0m\u001b[0;34m)\u001b[0m\u001b[0;34m\u001b[0m\u001b[0;34m\u001b[0m\u001b[0m\n\u001b[0;32m----> 2\u001b[0;31m \u001b[0mplt\u001b[0m\u001b[0;34m.\u001b[0m\u001b[0msuptitle\u001b[0m\u001b[0;34m(\u001b[0m\u001b[0;34m\"\"\u001b[0m\u001b[0;34m)\u001b[0m\u001b[0;34m\u001b[0m\u001b[0;34m\u001b[0m\u001b[0m\n\u001b[0m\u001b[1;32m      3\u001b[0m \u001b[0mplt\u001b[0m\u001b[0;34m.\u001b[0m\u001b[0mtitle\u001b[0m\u001b[0;34m(\u001b[0m\u001b[0;34m'Boxplot by Major Ethnicity'\u001b[0m\u001b[0;34m)\u001b[0m\u001b[0;34m\u001b[0m\u001b[0;34m\u001b[0m\u001b[0m\n\u001b[1;32m      4\u001b[0m \u001b[0mplt\u001b[0m\u001b[0;34m.\u001b[0m\u001b[0mplot\u001b[0m\u001b[0;34m(\u001b[0m\u001b[0;34m)\u001b[0m\u001b[0;34m\u001b[0m\u001b[0;34m\u001b[0m\u001b[0m\n",
      "\u001b[0;31mNameError\u001b[0m: name 'plt' is not defined"
     ]
    },
    {
     "data": {
      "image/png": "[encoded data removed]",
      "text/plain": [
       "<Figure size 432x288 with 1 Axes>"
      ]
     },
     "metadata": {
      "needs_background": "light"
     },
     "output_type": "display_data"
    }
   ],
   "source": [
    "ethnicity_total_df.boxplot(\"2017-2018 TOTAL TITLE I STUDENTS\", by=\"Major Ethnicity\", showfliers=False)\n",
    "plt.suptitle(\"\")\n",
    "plt.title('Boxplot by Major Ethnicity')\n",
    "plt.plot()"
   ]
  },
  {
   "cell_type": "code",
   "execution_count": 17,
   "metadata": {},
   "outputs": [
    {
     "ename": "NameError",
     "evalue": "name 'stats' is not defined",
     "output_type": "error",
     "traceback": [
      "\u001b[0;31m---------------------------------------------------------------------------\u001b[0m",
      "\u001b[0;31mNameError\u001b[0m                                 Traceback (most recent call last)",
      "\u001b[0;32m<ipython-input-17-0208ffd1a4c2>\u001b[0m in \u001b[0;36m<module>\u001b[0;34m\u001b[0m\n\u001b[0;32m----> 1\u001b[0;31m \u001b[0mstats\u001b[0m\u001b[0;34m.\u001b[0m\u001b[0mttest_ind\u001b[0m\u001b[0;34m(\u001b[0m\u001b[0mhispanic_pop\u001b[0m\u001b[0;34m[\u001b[0m\u001b[0;34m'2017-2018 TOTAL TITLE I STUDENTS'\u001b[0m\u001b[0;34m]\u001b[0m\u001b[0;34m,\u001b[0m \u001b[0mwhite_non_h_pop\u001b[0m\u001b[0;34m[\u001b[0m\u001b[0;34m'2017-2018 TOTAL TITLE I STUDENTS'\u001b[0m\u001b[0;34m]\u001b[0m\u001b[0;34m,\u001b[0m \u001b[0mequal_var\u001b[0m\u001b[0;34m=\u001b[0m\u001b[0;32mFalse\u001b[0m\u001b[0;34m)\u001b[0m\u001b[0;34m\u001b[0m\u001b[0;34m\u001b[0m\u001b[0m\n\u001b[0m",
      "\u001b[0;31mNameError\u001b[0m: name 'stats' is not defined"
     ]
    }
   ],
   "source": [
    "stats.ttest_ind(hispanic_pop['2017-2018 TOTAL TITLE I STUDENTS'], white_non_h_pop['2017-2018 TOTAL TITLE I STUDENTS'], equal_var=False)"
   ]
  },
  {
   "cell_type": "code",
   "execution_count": null,
   "metadata": {},
   "outputs": [],
   "source": []
  }
 ],
 "metadata": {
  "kernelspec": {
   "display_name": "projectOne",
   "language": "python",
   "name": "projectone"
  },
  "language_info": {
   "codemirror_mode": {
    "name": "ipython",
    "version": 3
   },
   "file_extension": ".py",
   "mimetype": "text/x-python",
   "name": "python",
   "nbconvert_exporter": "python",
   "pygments_lexer": "ipython3",
   "version": "3.6.7"
  }
 },
 "nbformat": 4,
 "nbformat_minor": 2
}
